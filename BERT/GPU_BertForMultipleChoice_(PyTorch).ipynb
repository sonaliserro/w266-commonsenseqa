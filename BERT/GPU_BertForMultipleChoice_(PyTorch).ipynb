{
 "cells": [
  {
   "cell_type": "markdown",
   "metadata": {
    "id": "ZoKkVIxPld2L"
   },
   "source": [
    "# BERT - Out of the Box\n",
    "\n",
    "In this notebook, we will test the performance of an out-of-the-box BERT model on CommonsenseQA. We follow the tutorial here: https://github.com/jalammar/jalammar.github.io/blob/master/notebooks/bert/A_Visual_Notebook_to_Using_BERT_for_the_First_Time.ipynb\n",
    "\n",
    "We referred to the Commonsense QA repo and code to understand how the authors of this work establiahsed their baseline using BERT. This is the link to their repo: https://github.com/jonathanherzig/commonsenseqa\n",
    "\n",
    "We used Google Colab to run the following code."
   ]
  },
  {
   "cell_type": "code",
   "execution_count": 1,
   "metadata": {
    "colab": {
     "base_uri": "https://localhost:8080/"
    },
    "id": "n6w5XpvLbqgi",
    "outputId": "b9ba962b-9fc4-4421-e597-296031d7497b"
   },
   "outputs": [
    {
     "name": "stdout",
     "output_type": "stream",
     "text": [
      "Collecting pytorch_pretrained_bert\n",
      "\u001b[?25l  Downloading https://files.pythonhosted.org/packages/d7/e0/c08d5553b89973d9a240605b9c12404bcf8227590de62bae27acbcfe076b/pytorch_pretrained_bert-0.6.2-py3-none-any.whl (123kB)\n",
      "\r",
      "\u001b[K     |██▋                             | 10kB 19.5MB/s eta 0:00:01\r",
      "\u001b[K     |█████▎                          | 20kB 25.4MB/s eta 0:00:01\r",
      "\u001b[K     |████████                        | 30kB 21.2MB/s eta 0:00:01\r",
      "\u001b[K     |██████████▋                     | 40kB 17.7MB/s eta 0:00:01\r",
      "\u001b[K     |█████████████▎                  | 51kB 17.0MB/s eta 0:00:01\r",
      "\u001b[K     |███████████████▉                | 61kB 13.2MB/s eta 0:00:01\r",
      "\u001b[K     |██████████████████▌             | 71kB 13.7MB/s eta 0:00:01\r",
      "\u001b[K     |█████████████████████▏          | 81kB 14.7MB/s eta 0:00:01\r",
      "\u001b[K     |███████████████████████▉        | 92kB 14.3MB/s eta 0:00:01\r",
      "\u001b[K     |██████████████████████████▌     | 102kB 14.1MB/s eta 0:00:01\r",
      "\u001b[K     |█████████████████████████████▏  | 112kB 14.1MB/s eta 0:00:01\r",
      "\u001b[K     |███████████████████████████████▊| 122kB 14.1MB/s eta 0:00:01\r",
      "\u001b[K     |████████████████████████████████| 133kB 14.1MB/s \n",
      "\u001b[?25hRequirement already satisfied: numpy in /usr/local/lib/python3.6/dist-packages (from pytorch_pretrained_bert) (1.18.5)\n",
      "Collecting boto3\n",
      "\u001b[?25l  Downloading https://files.pythonhosted.org/packages/59/7f/4ade91fbb684c6f28a6e56028d9f9d2de4297761850d083579779f07c0de/boto3-1.16.25-py2.py3-none-any.whl (129kB)\n",
      "\u001b[K     |████████████████████████████████| 133kB 24.9MB/s \n",
      "\u001b[?25hRequirement already satisfied: regex in /usr/local/lib/python3.6/dist-packages (from pytorch_pretrained_bert) (2019.12.20)\n",
      "Requirement already satisfied: tqdm in /usr/local/lib/python3.6/dist-packages (from pytorch_pretrained_bert) (4.41.1)\n",
      "Requirement already satisfied: torch>=0.4.1 in /usr/local/lib/python3.6/dist-packages (from pytorch_pretrained_bert) (1.7.0+cu101)\n",
      "Requirement already satisfied: requests in /usr/local/lib/python3.6/dist-packages (from pytorch_pretrained_bert) (2.23.0)\n",
      "Collecting botocore<1.20.0,>=1.19.25\n",
      "\u001b[?25l  Downloading https://files.pythonhosted.org/packages/ef/d5/c0c33ca15e31062220ac5964f3492409eaf90a5cf5399503cd8264f2f8e9/botocore-1.19.25-py2.py3-none-any.whl (6.9MB)\n",
      "\u001b[K     |████████████████████████████████| 6.9MB 42.8MB/s \n",
      "\u001b[?25hCollecting s3transfer<0.4.0,>=0.3.0\n",
      "\u001b[?25l  Downloading https://files.pythonhosted.org/packages/69/79/e6afb3d8b0b4e96cefbdc690f741d7dd24547ff1f94240c997a26fa908d3/s3transfer-0.3.3-py2.py3-none-any.whl (69kB)\n",
      "\u001b[K     |████████████████████████████████| 71kB 10.6MB/s \n",
      "\u001b[?25hCollecting jmespath<1.0.0,>=0.7.1\n",
      "  Downloading https://files.pythonhosted.org/packages/07/cb/5f001272b6faeb23c1c9e0acc04d48eaaf5c862c17709d20e3469c6e0139/jmespath-0.10.0-py2.py3-none-any.whl\n",
      "Requirement already satisfied: future in /usr/local/lib/python3.6/dist-packages (from torch>=0.4.1->pytorch_pretrained_bert) (0.16.0)\n",
      "Requirement already satisfied: dataclasses in /usr/local/lib/python3.6/dist-packages (from torch>=0.4.1->pytorch_pretrained_bert) (0.8)\n",
      "Requirement already satisfied: typing-extensions in /usr/local/lib/python3.6/dist-packages (from torch>=0.4.1->pytorch_pretrained_bert) (3.7.4.3)\n",
      "Requirement already satisfied: chardet<4,>=3.0.2 in /usr/local/lib/python3.6/dist-packages (from requests->pytorch_pretrained_bert) (3.0.4)\n",
      "Requirement already satisfied: urllib3!=1.25.0,!=1.25.1,<1.26,>=1.21.1 in /usr/local/lib/python3.6/dist-packages (from requests->pytorch_pretrained_bert) (1.24.3)\n",
      "Requirement already satisfied: idna<3,>=2.5 in /usr/local/lib/python3.6/dist-packages (from requests->pytorch_pretrained_bert) (2.10)\n",
      "Requirement already satisfied: certifi>=2017.4.17 in /usr/local/lib/python3.6/dist-packages (from requests->pytorch_pretrained_bert) (2020.11.8)\n",
      "Requirement already satisfied: python-dateutil<3.0.0,>=2.1 in /usr/local/lib/python3.6/dist-packages (from botocore<1.20.0,>=1.19.25->boto3->pytorch_pretrained_bert) (2.8.1)\n",
      "Requirement already satisfied: six>=1.5 in /usr/local/lib/python3.6/dist-packages (from python-dateutil<3.0.0,>=2.1->botocore<1.20.0,>=1.19.25->boto3->pytorch_pretrained_bert) (1.15.0)\n",
      "\u001b[31mERROR: botocore 1.19.25 has requirement urllib3<1.27,>=1.25.4; python_version != \"3.4\", but you'll have urllib3 1.24.3 which is incompatible.\u001b[0m\n",
      "Installing collected packages: jmespath, botocore, s3transfer, boto3, pytorch-pretrained-bert\n",
      "Successfully installed boto3-1.16.25 botocore-1.19.25 jmespath-0.10.0 pytorch-pretrained-bert-0.6.2 s3transfer-0.3.3\n",
      "Collecting urllib3==1.25.10\n",
      "\u001b[?25l  Downloading https://files.pythonhosted.org/packages/9f/f0/a391d1463ebb1b233795cabfc0ef38d3db4442339de68f847026199e69d7/urllib3-1.25.10-py2.py3-none-any.whl (127kB)\n",
      "\u001b[K     |████████████████████████████████| 133kB 17.7MB/s \n",
      "\u001b[31mERROR: datascience 0.10.6 has requirement folium==0.2.1, but you'll have folium 0.8.3 which is incompatible.\u001b[0m\n",
      "\u001b[?25hInstalling collected packages: urllib3\n",
      "  Found existing installation: urllib3 1.24.3\n",
      "    Uninstalling urllib3-1.24.3:\n",
      "      Successfully uninstalled urllib3-1.24.3\n",
      "Successfully installed urllib3-1.25.10\n",
      "Collecting transformers\n",
      "\u001b[?25l  Downloading https://files.pythonhosted.org/packages/3a/83/e74092e7f24a08d751aa59b37a9fc572b2e4af3918cb66f7766c3affb1b4/transformers-3.5.1-py3-none-any.whl (1.3MB)\n",
      "\u001b[K     |████████████████████████████████| 1.3MB 11.9MB/s \n",
      "\u001b[?25hRequirement already satisfied: filelock in /usr/local/lib/python3.6/dist-packages (from transformers) (3.0.12)\n",
      "Collecting tokenizers==0.9.3\n",
      "\u001b[?25l  Downloading https://files.pythonhosted.org/packages/4c/34/b39eb9994bc3c999270b69c9eea40ecc6f0e97991dba28282b9fd32d44ee/tokenizers-0.9.3-cp36-cp36m-manylinux1_x86_64.whl (2.9MB)\n",
      "\u001b[K     |████████████████████████████████| 2.9MB 51.6MB/s \n",
      "\u001b[?25hCollecting sacremoses\n",
      "\u001b[?25l  Downloading https://files.pythonhosted.org/packages/7d/34/09d19aff26edcc8eb2a01bed8e98f13a1537005d31e95233fd48216eed10/sacremoses-0.0.43.tar.gz (883kB)\n",
      "\u001b[K     |████████████████████████████████| 890kB 47.6MB/s \n",
      "\u001b[?25hRequirement already satisfied: protobuf in /usr/local/lib/python3.6/dist-packages (from transformers) (3.12.4)\n",
      "Requirement already satisfied: regex!=2019.12.17 in /usr/local/lib/python3.6/dist-packages (from transformers) (2019.12.20)\n",
      "Requirement already satisfied: packaging in /usr/local/lib/python3.6/dist-packages (from transformers) (20.4)\n",
      "Requirement already satisfied: numpy in /usr/local/lib/python3.6/dist-packages (from transformers) (1.18.5)\n",
      "Requirement already satisfied: dataclasses; python_version < \"3.7\" in /usr/local/lib/python3.6/dist-packages (from transformers) (0.8)\n",
      "Requirement already satisfied: tqdm>=4.27 in /usr/local/lib/python3.6/dist-packages (from transformers) (4.41.1)\n",
      "Requirement already satisfied: requests in /usr/local/lib/python3.6/dist-packages (from transformers) (2.23.0)\n",
      "Collecting sentencepiece==0.1.91\n",
      "\u001b[?25l  Downloading https://files.pythonhosted.org/packages/d4/a4/d0a884c4300004a78cca907a6ff9a5e9fe4f090f5d95ab341c53d28cbc58/sentencepiece-0.1.91-cp36-cp36m-manylinux1_x86_64.whl (1.1MB)\n",
      "\u001b[K     |████████████████████████████████| 1.1MB 50.1MB/s \n",
      "\u001b[?25hRequirement already satisfied: six in /usr/local/lib/python3.6/dist-packages (from sacremoses->transformers) (1.15.0)\n",
      "Requirement already satisfied: click in /usr/local/lib/python3.6/dist-packages (from sacremoses->transformers) (7.1.2)\n",
      "Requirement already satisfied: joblib in /usr/local/lib/python3.6/dist-packages (from sacremoses->transformers) (0.17.0)\n",
      "Requirement already satisfied: setuptools in /usr/local/lib/python3.6/dist-packages (from protobuf->transformers) (50.3.2)\n",
      "Requirement already satisfied: pyparsing>=2.0.2 in /usr/local/lib/python3.6/dist-packages (from packaging->transformers) (2.4.7)\n",
      "Requirement already satisfied: idna<3,>=2.5 in /usr/local/lib/python3.6/dist-packages (from requests->transformers) (2.10)\n",
      "Requirement already satisfied: urllib3!=1.25.0,!=1.25.1,<1.26,>=1.21.1 in /usr/local/lib/python3.6/dist-packages (from requests->transformers) (1.25.10)\n",
      "Requirement already satisfied: certifi>=2017.4.17 in /usr/local/lib/python3.6/dist-packages (from requests->transformers) (2020.11.8)\n",
      "Requirement already satisfied: chardet<4,>=3.0.2 in /usr/local/lib/python3.6/dist-packages (from requests->transformers) (3.0.4)\n",
      "Building wheels for collected packages: sacremoses\n",
      "  Building wheel for sacremoses (setup.py) ... \u001b[?25l\u001b[?25hdone\n",
      "  Created wheel for sacremoses: filename=sacremoses-0.0.43-cp36-none-any.whl size=893257 sha256=8c3525ae2c15cffebad1cf14fedb428b3da5f041615e91f1e8eac572393da73a\n",
      "  Stored in directory: /root/.cache/pip/wheels/29/3c/fd/7ce5c3f0666dab31a50123635e6fb5e19ceb42ce38d4e58f45\n",
      "Successfully built sacremoses\n",
      "Installing collected packages: tokenizers, sacremoses, sentencepiece, transformers\n",
      "Successfully installed sacremoses-0.0.43 sentencepiece-0.1.91 tokenizers-0.9.3 transformers-3.5.1\n"
     ]
    }
   ],
   "source": [
    "!pip install pytorch_pretrained_bert\n",
    "!pip install urllib3==1.25.10\n",
    "!pip install transformers"
   ]
  },
  {
   "cell_type": "code",
   "execution_count": 14,
   "metadata": {
    "colab": {
     "base_uri": "https://localhost:8080/"
    },
    "id": "Eq9w-QbzPNFi",
    "outputId": "4c10abf3-c006-4df1-843d-6676d867d592"
   },
   "outputs": [
    {
     "name": "stdout",
     "output_type": "stream",
     "text": [
      "Collecting nlp\n",
      "\u001b[?25l  Downloading https://files.pythonhosted.org/packages/09/e3/bcdc59f3434b224040c1047769c47b82705feca2b89ebbc28311e3764782/nlp-0.4.0-py3-none-any.whl (1.7MB)\n",
      "\r",
      "\u001b[K     |▏                               | 10kB 22.5MB/s eta 0:00:01\r",
      "\u001b[K     |▍                               | 20kB 16.7MB/s eta 0:00:01\r",
      "\u001b[K     |▋                               | 30kB 15.9MB/s eta 0:00:01\r",
      "\u001b[K     |▉                               | 40kB 15.5MB/s eta 0:00:01\r",
      "\u001b[K     |█                               | 51kB 12.6MB/s eta 0:00:01\r",
      "\u001b[K     |█▏                              | 61kB 12.7MB/s eta 0:00:01\r",
      "\u001b[K     |█▍                              | 71kB 13.0MB/s eta 0:00:01\r",
      "\u001b[K     |█▋                              | 81kB 12.9MB/s eta 0:00:01\r",
      "\u001b[K     |█▉                              | 92kB 14.1MB/s eta 0:00:01\r",
      "\u001b[K     |██                              | 102kB 14.1MB/s eta 0:00:01\r",
      "\u001b[K     |██▏                             | 112kB 14.1MB/s eta 0:00:01\r",
      "\u001b[K     |██▍                             | 122kB 14.1MB/s eta 0:00:01\r",
      "\u001b[K     |██▋                             | 133kB 14.1MB/s eta 0:00:01\r",
      "\u001b[K     |██▊                             | 143kB 14.1MB/s eta 0:00:01\r",
      "\u001b[K     |███                             | 153kB 14.1MB/s eta 0:00:01\r",
      "\u001b[K     |███▏                            | 163kB 14.1MB/s eta 0:00:01\r",
      "\u001b[K     |███▍                            | 174kB 14.1MB/s eta 0:00:01\r",
      "\u001b[K     |███▋                            | 184kB 14.1MB/s eta 0:00:01\r",
      "\u001b[K     |███▊                            | 194kB 14.1MB/s eta 0:00:01\r",
      "\u001b[K     |████                            | 204kB 14.1MB/s eta 0:00:01\r",
      "\u001b[K     |████▏                           | 215kB 14.1MB/s eta 0:00:01\r",
      "\u001b[K     |████▍                           | 225kB 14.1MB/s eta 0:00:01\r",
      "\u001b[K     |████▌                           | 235kB 14.1MB/s eta 0:00:01\r",
      "\u001b[K     |████▊                           | 245kB 14.1MB/s eta 0:00:01\r",
      "\u001b[K     |█████                           | 256kB 14.1MB/s eta 0:00:01\r",
      "\u001b[K     |█████▏                          | 266kB 14.1MB/s eta 0:00:01\r",
      "\u001b[K     |█████▍                          | 276kB 14.1MB/s eta 0:00:01\r",
      "\u001b[K     |█████▌                          | 286kB 14.1MB/s eta 0:00:01\r",
      "\u001b[K     |█████▊                          | 296kB 14.1MB/s eta 0:00:01\r",
      "\u001b[K     |██████                          | 307kB 14.1MB/s eta 0:00:01\r",
      "\u001b[K     |██████▏                         | 317kB 14.1MB/s eta 0:00:01\r",
      "\u001b[K     |██████▎                         | 327kB 14.1MB/s eta 0:00:01\r",
      "\u001b[K     |██████▌                         | 337kB 14.1MB/s eta 0:00:01\r",
      "\u001b[K     |██████▊                         | 348kB 14.1MB/s eta 0:00:01\r",
      "\u001b[K     |███████                         | 358kB 14.1MB/s eta 0:00:01\r",
      "\u001b[K     |███████▏                        | 368kB 14.1MB/s eta 0:00:01\r",
      "\u001b[K     |███████▎                        | 378kB 14.1MB/s eta 0:00:01\r",
      "\u001b[K     |███████▌                        | 389kB 14.1MB/s eta 0:00:01\r",
      "\u001b[K     |███████▊                        | 399kB 14.1MB/s eta 0:00:01\r",
      "\u001b[K     |████████                        | 409kB 14.1MB/s eta 0:00:01\r",
      "\u001b[K     |████████                        | 419kB 14.1MB/s eta 0:00:01\r",
      "\u001b[K     |████████▎                       | 430kB 14.1MB/s eta 0:00:01\r",
      "\u001b[K     |████████▌                       | 440kB 14.1MB/s eta 0:00:01\r",
      "\u001b[K     |████████▊                       | 450kB 14.1MB/s eta 0:00:01\r",
      "\u001b[K     |█████████                       | 460kB 14.1MB/s eta 0:00:01\r",
      "\u001b[K     |█████████                       | 471kB 14.1MB/s eta 0:00:01\r",
      "\u001b[K     |█████████▎                      | 481kB 14.1MB/s eta 0:00:01\r",
      "\u001b[K     |█████████▌                      | 491kB 14.1MB/s eta 0:00:01\r",
      "\u001b[K     |█████████▊                      | 501kB 14.1MB/s eta 0:00:01\r",
      "\u001b[K     |█████████▉                      | 512kB 14.1MB/s eta 0:00:01\r",
      "\u001b[K     |██████████                      | 522kB 14.1MB/s eta 0:00:01\r",
      "\u001b[K     |██████████▎                     | 532kB 14.1MB/s eta 0:00:01\r",
      "\u001b[K     |██████████▌                     | 542kB 14.1MB/s eta 0:00:01\r",
      "\u001b[K     |██████████▊                     | 552kB 14.1MB/s eta 0:00:01\r",
      "\u001b[K     |██████████▉                     | 563kB 14.1MB/s eta 0:00:01\r",
      "\u001b[K     |███████████                     | 573kB 14.1MB/s eta 0:00:01\r",
      "\u001b[K     |███████████▎                    | 583kB 14.1MB/s eta 0:00:01\r",
      "\u001b[K     |███████████▌                    | 593kB 14.1MB/s eta 0:00:01\r",
      "\u001b[K     |███████████▋                    | 604kB 14.1MB/s eta 0:00:01\r",
      "\u001b[K     |███████████▉                    | 614kB 14.1MB/s eta 0:00:01\r",
      "\u001b[K     |████████████                    | 624kB 14.1MB/s eta 0:00:01\r",
      "\u001b[K     |████████████▎                   | 634kB 14.1MB/s eta 0:00:01\r",
      "\u001b[K     |████████████▌                   | 645kB 14.1MB/s eta 0:00:01\r",
      "\u001b[K     |████████████▋                   | 655kB 14.1MB/s eta 0:00:01\r",
      "\u001b[K     |████████████▉                   | 665kB 14.1MB/s eta 0:00:01\r",
      "\u001b[K     |█████████████                   | 675kB 14.1MB/s eta 0:00:01\r",
      "\u001b[K     |█████████████▎                  | 686kB 14.1MB/s eta 0:00:01\r",
      "\u001b[K     |█████████████▍                  | 696kB 14.1MB/s eta 0:00:01\r",
      "\u001b[K     |█████████████▋                  | 706kB 14.1MB/s eta 0:00:01\r",
      "\u001b[K     |█████████████▉                  | 716kB 14.1MB/s eta 0:00:01\r",
      "\u001b[K     |██████████████                  | 727kB 14.1MB/s eta 0:00:01\r",
      "\u001b[K     |██████████████▎                 | 737kB 14.1MB/s eta 0:00:01\r",
      "\u001b[K     |██████████████▍                 | 747kB 14.1MB/s eta 0:00:01\r",
      "\u001b[K     |██████████████▋                 | 757kB 14.1MB/s eta 0:00:01\r",
      "\u001b[K     |██████████████▉                 | 768kB 14.1MB/s eta 0:00:01\r",
      "\u001b[K     |███████████████                 | 778kB 14.1MB/s eta 0:00:01\r",
      "\u001b[K     |███████████████▏                | 788kB 14.1MB/s eta 0:00:01\r",
      "\u001b[K     |███████████████▍                | 798kB 14.1MB/s eta 0:00:01\r",
      "\u001b[K     |███████████████▋                | 808kB 14.1MB/s eta 0:00:01\r",
      "\u001b[K     |███████████████▉                | 819kB 14.1MB/s eta 0:00:01\r",
      "\u001b[K     |████████████████                | 829kB 14.1MB/s eta 0:00:01\r",
      "\u001b[K     |████████████████▏               | 839kB 14.1MB/s eta 0:00:01\r",
      "\u001b[K     |████████████████▍               | 849kB 14.1MB/s eta 0:00:01\r",
      "\u001b[K     |████████████████▋               | 860kB 14.1MB/s eta 0:00:01\r",
      "\u001b[K     |████████████████▉               | 870kB 14.1MB/s eta 0:00:01\r",
      "\u001b[K     |█████████████████               | 880kB 14.1MB/s eta 0:00:01\r",
      "\u001b[K     |█████████████████▏              | 890kB 14.1MB/s eta 0:00:01\r",
      "\u001b[K     |█████████████████▍              | 901kB 14.1MB/s eta 0:00:01\r",
      "\u001b[K     |█████████████████▋              | 911kB 14.1MB/s eta 0:00:01\r",
      "\u001b[K     |█████████████████▉              | 921kB 14.1MB/s eta 0:00:01\r",
      "\u001b[K     |██████████████████              | 931kB 14.1MB/s eta 0:00:01\r",
      "\u001b[K     |██████████████████▏             | 942kB 14.1MB/s eta 0:00:01\r",
      "\u001b[K     |██████████████████▍             | 952kB 14.1MB/s eta 0:00:01\r",
      "\u001b[K     |██████████████████▋             | 962kB 14.1MB/s eta 0:00:01\r",
      "\u001b[K     |██████████████████▊             | 972kB 14.1MB/s eta 0:00:01\r",
      "\u001b[K     |███████████████████             | 983kB 14.1MB/s eta 0:00:01\r",
      "\u001b[K     |███████████████████▏            | 993kB 14.1MB/s eta 0:00:01\r",
      "\u001b[K     |███████████████████▍            | 1.0MB 14.1MB/s eta 0:00:01\r",
      "\u001b[K     |███████████████████▋            | 1.0MB 14.1MB/s eta 0:00:01\r",
      "\u001b[K     |███████████████████▊            | 1.0MB 14.1MB/s eta 0:00:01\r",
      "\u001b[K     |████████████████████            | 1.0MB 14.1MB/s eta 0:00:01\r",
      "\u001b[K     |████████████████████▏           | 1.0MB 14.1MB/s eta 0:00:01\r",
      "\u001b[K     |████████████████████▍           | 1.1MB 14.1MB/s eta 0:00:01\r",
      "\u001b[K     |████████████████████▌           | 1.1MB 14.1MB/s eta 0:00:01\r",
      "\u001b[K     |████████████████████▊           | 1.1MB 14.1MB/s eta 0:00:01\r",
      "\u001b[K     |█████████████████████           | 1.1MB 14.1MB/s eta 0:00:01\r",
      "\u001b[K     |█████████████████████▏          | 1.1MB 14.1MB/s eta 0:00:01\r",
      "\u001b[K     |█████████████████████▍          | 1.1MB 14.1MB/s eta 0:00:01\r",
      "\u001b[K     |█████████████████████▌          | 1.1MB 14.1MB/s eta 0:00:01\r",
      "\u001b[K     |█████████████████████▊          | 1.1MB 14.1MB/s eta 0:00:01\r",
      "\u001b[K     |██████████████████████          | 1.1MB 14.1MB/s eta 0:00:01\r",
      "\u001b[K     |██████████████████████▏         | 1.1MB 14.1MB/s eta 0:00:01\r",
      "\u001b[K     |██████████████████████▎         | 1.2MB 14.1MB/s eta 0:00:01\r",
      "\u001b[K     |██████████████████████▌         | 1.2MB 14.1MB/s eta 0:00:01\r",
      "\u001b[K     |██████████████████████▊         | 1.2MB 14.1MB/s eta 0:00:01\r",
      "\u001b[K     |███████████████████████         | 1.2MB 14.1MB/s eta 0:00:01\r",
      "\u001b[K     |███████████████████████▏        | 1.2MB 14.1MB/s eta 0:00:01\r",
      "\u001b[K     |███████████████████████▎        | 1.2MB 14.1MB/s eta 0:00:01\r",
      "\u001b[K     |███████████████████████▌        | 1.2MB 14.1MB/s eta 0:00:01\r",
      "\u001b[K     |███████████████████████▊        | 1.2MB 14.1MB/s eta 0:00:01\r",
      "\u001b[K     |████████████████████████        | 1.2MB 14.1MB/s eta 0:00:01\r",
      "\u001b[K     |████████████████████████        | 1.2MB 14.1MB/s eta 0:00:01\r",
      "\u001b[K     |████████████████████████▎       | 1.3MB 14.1MB/s eta 0:00:01\r",
      "\u001b[K     |████████████████████████▌       | 1.3MB 14.1MB/s eta 0:00:01\r",
      "\u001b[K     |████████████████████████▊       | 1.3MB 14.1MB/s eta 0:00:01\r",
      "\u001b[K     |█████████████████████████       | 1.3MB 14.1MB/s eta 0:00:01\r",
      "\u001b[K     |█████████████████████████       | 1.3MB 14.1MB/s eta 0:00:01\r",
      "\u001b[K     |█████████████████████████▎      | 1.3MB 14.1MB/s eta 0:00:01\r",
      "\u001b[K     |█████████████████████████▌      | 1.3MB 14.1MB/s eta 0:00:01\r",
      "\u001b[K     |█████████████████████████▊      | 1.3MB 14.1MB/s eta 0:00:01\r",
      "\u001b[K     |█████████████████████████▉      | 1.3MB 14.1MB/s eta 0:00:01\r",
      "\u001b[K     |██████████████████████████      | 1.4MB 14.1MB/s eta 0:00:01\r",
      "\u001b[K     |██████████████████████████▎     | 1.4MB 14.1MB/s eta 0:00:01\r",
      "\u001b[K     |██████████████████████████▌     | 1.4MB 14.1MB/s eta 0:00:01\r",
      "\u001b[K     |██████████████████████████▊     | 1.4MB 14.1MB/s eta 0:00:01\r",
      "\u001b[K     |██████████████████████████▉     | 1.4MB 14.1MB/s eta 0:00:01\r",
      "\u001b[K     |███████████████████████████     | 1.4MB 14.1MB/s eta 0:00:01\r",
      "\u001b[K     |███████████████████████████▎    | 1.4MB 14.1MB/s eta 0:00:01\r",
      "\u001b[K     |███████████████████████████▌    | 1.4MB 14.1MB/s eta 0:00:01\r",
      "\u001b[K     |███████████████████████████▋    | 1.4MB 14.1MB/s eta 0:00:01\r",
      "\u001b[K     |███████████████████████████▉    | 1.4MB 14.1MB/s eta 0:00:01\r",
      "\u001b[K     |████████████████████████████    | 1.5MB 14.1MB/s eta 0:00:01\r",
      "\u001b[K     |████████████████████████████▎   | 1.5MB 14.1MB/s eta 0:00:01\r",
      "\u001b[K     |████████████████████████████▌   | 1.5MB 14.1MB/s eta 0:00:01\r",
      "\u001b[K     |████████████████████████████▋   | 1.5MB 14.1MB/s eta 0:00:01\r",
      "\u001b[K     |████████████████████████████▉   | 1.5MB 14.1MB/s eta 0:00:01\r",
      "\u001b[K     |█████████████████████████████   | 1.5MB 14.1MB/s eta 0:00:01\r",
      "\u001b[K     |█████████████████████████████▎  | 1.5MB 14.1MB/s eta 0:00:01\r",
      "\u001b[K     |█████████████████████████████▍  | 1.5MB 14.1MB/s eta 0:00:01\r",
      "\u001b[K     |█████████████████████████████▋  | 1.5MB 14.1MB/s eta 0:00:01\r",
      "\u001b[K     |█████████████████████████████▉  | 1.5MB 14.1MB/s eta 0:00:01\r",
      "\u001b[K     |██████████████████████████████  | 1.6MB 14.1MB/s eta 0:00:01\r",
      "\u001b[K     |██████████████████████████████▎ | 1.6MB 14.1MB/s eta 0:00:01\r",
      "\u001b[K     |██████████████████████████████▍ | 1.6MB 14.1MB/s eta 0:00:01\r",
      "\u001b[K     |██████████████████████████████▋ | 1.6MB 14.1MB/s eta 0:00:01\r",
      "\u001b[K     |██████████████████████████████▉ | 1.6MB 14.1MB/s eta 0:00:01\r",
      "\u001b[K     |███████████████████████████████ | 1.6MB 14.1MB/s eta 0:00:01\r",
      "\u001b[K     |███████████████████████████████▏| 1.6MB 14.1MB/s eta 0:00:01\r",
      "\u001b[K     |███████████████████████████████▍| 1.6MB 14.1MB/s eta 0:00:01\r",
      "\u001b[K     |███████████████████████████████▋| 1.6MB 14.1MB/s eta 0:00:01\r",
      "\u001b[K     |███████████████████████████████▉| 1.6MB 14.1MB/s eta 0:00:01\r",
      "\u001b[K     |████████████████████████████████| 1.7MB 14.1MB/s \n",
      "\u001b[?25hRequirement already satisfied: dataclasses; python_version < \"3.7\" in /usr/local/lib/python3.6/dist-packages (from nlp) (0.8)\n",
      "Requirement already satisfied: requests>=2.19.0 in /usr/local/lib/python3.6/dist-packages (from nlp) (2.23.0)\n",
      "Collecting xxhash\n",
      "\u001b[?25l  Downloading https://files.pythonhosted.org/packages/f7/73/826b19f3594756cb1c6c23d2fbd8ca6a77a9cd3b650c9dec5acc85004c38/xxhash-2.0.0-cp36-cp36m-manylinux2010_x86_64.whl (242kB)\n",
      "\u001b[K     |████████████████████████████████| 245kB 48.4MB/s \n",
      "\u001b[?25hRequirement already satisfied: pandas in /usr/local/lib/python3.6/dist-packages (from nlp) (1.1.4)\n",
      "Requirement already satisfied: dill in /usr/local/lib/python3.6/dist-packages (from nlp) (0.3.3)\n",
      "Requirement already satisfied: tqdm>=4.27 in /usr/local/lib/python3.6/dist-packages (from nlp) (4.41.1)\n",
      "Requirement already satisfied: numpy in /usr/local/lib/python3.6/dist-packages (from nlp) (1.18.5)\n",
      "Requirement already satisfied: filelock in /usr/local/lib/python3.6/dist-packages (from nlp) (3.0.12)\n",
      "Collecting pyarrow>=0.16.0\n",
      "\u001b[?25l  Downloading https://files.pythonhosted.org/packages/d7/e1/27958a70848f8f7089bff8d6ebe42519daf01f976d28b481e1bfd52c8097/pyarrow-2.0.0-cp36-cp36m-manylinux2014_x86_64.whl (17.7MB)\n",
      "\u001b[K     |████████████████████████████████| 17.7MB 205kB/s \n",
      "\u001b[?25hRequirement already satisfied: urllib3!=1.25.0,!=1.25.1,<1.26,>=1.21.1 in /usr/local/lib/python3.6/dist-packages (from requests>=2.19.0->nlp) (1.25.10)\n",
      "Requirement already satisfied: chardet<4,>=3.0.2 in /usr/local/lib/python3.6/dist-packages (from requests>=2.19.0->nlp) (3.0.4)\n",
      "Requirement already satisfied: idna<3,>=2.5 in /usr/local/lib/python3.6/dist-packages (from requests>=2.19.0->nlp) (2.10)\n",
      "Requirement already satisfied: certifi>=2017.4.17 in /usr/local/lib/python3.6/dist-packages (from requests>=2.19.0->nlp) (2020.11.8)\n",
      "Requirement already satisfied: python-dateutil>=2.7.3 in /usr/local/lib/python3.6/dist-packages (from pandas->nlp) (2.8.1)\n",
      "Requirement already satisfied: pytz>=2017.2 in /usr/local/lib/python3.6/dist-packages (from pandas->nlp) (2018.9)\n",
      "Requirement already satisfied: six>=1.5 in /usr/local/lib/python3.6/dist-packages (from python-dateutil>=2.7.3->pandas->nlp) (1.15.0)\n",
      "Installing collected packages: xxhash, pyarrow, nlp\n",
      "  Found existing installation: pyarrow 0.14.1\n",
      "    Uninstalling pyarrow-0.14.1:\n",
      "      Successfully uninstalled pyarrow-0.14.1\n",
      "Successfully installed nlp-0.4.0 pyarrow-2.0.0 xxhash-2.0.0\n"
     ]
    }
   ],
   "source": [
    "!pip install nlp"
   ]
  },
  {
   "cell_type": "code",
   "execution_count": 3,
   "metadata": {
    "colab": {
     "base_uri": "https://localhost:8080/"
    },
    "id": "BPGE-JhkZLeg",
    "outputId": "1a428cf5-488e-4e5c-9d63-5fdc71011dfc"
   },
   "outputs": [
    {
     "name": "stdout",
     "output_type": "stream",
     "text": [
      "Drive already mounted at /content/drive; to attempt to forcibly remount, call drive.mount(\"/content/drive\", force_remount=True).\n",
      "[Errno 2] No such file or directory: '/content/drive/My Drive/NLP/w266-commonsenseqa/BERT'\n",
      "/content/drive/MyDrive/MIDS/NLP/w266-commonsenseqa/BERT_oob\n"
     ]
    }
   ],
   "source": [
    "from google.colab import drive\n",
    "drive.mount('/content/drive')\n",
    "%cd /content/drive/My\\ Drive/NLP/w266-commonsenseqa/BERT"
   ]
  },
  {
   "cell_type": "code",
   "execution_count": 15,
   "metadata": {
    "colab": {
     "base_uri": "https://localhost:8080/"
    },
    "id": "uyGfEdGFld2M",
    "outputId": "a79f9bcc-109a-497f-f8bb-0b778b15dabc"
   },
   "outputs": [
    {
     "name": "stderr",
     "output_type": "stream",
     "text": [
      "11/29/2020 23:01:09 - INFO - nlp.utils.file_utils -   PyTorch version 1.7.0+cu101 available.\n",
      "11/29/2020 23:01:09 - INFO - nlp.utils.file_utils -   TensorFlow version 2.3.0 available.\n"
     ]
    }
   ],
   "source": [
    "import logging\n",
    "import numpy as np\n",
    "import pandas as pd\n",
    "\n",
    "import nlp\n",
    "\n",
    "import warnings\n",
    "warnings.filterwarnings('ignore')\n",
    "\n",
    "import json\n",
    "from pandas.io.json import json_normalize\n",
    "\n",
    "from transformers import BertTokenizer, BertModel, BertConfig\n",
    "import torch\n",
    "from torch.utils.tensorboard import SummaryWriter\n",
    "from sklearn import metrics\n",
    "\n",
    "from datetime import datetime\n",
    "import pytz\n",
    "# configuration = BertConfig() \n",
    "from collections import defaultdict \n",
    "import pickle "
   ]
  },
  {
   "cell_type": "code",
   "execution_count": 5,
   "metadata": {
    "id": "fSPD-txe6FYb"
   },
   "outputs": [],
   "source": [
    "ts = datetime.now(pytz.timezone('US/Pacific')).strftime(\"%Y%m%d_%H%M%S\")\n"
   ]
  },
  {
   "cell_type": "code",
   "execution_count": 6,
   "metadata": {
    "colab": {
     "base_uri": "https://localhost:8080/"
    },
    "id": "oxMS4iqX6Ds6",
    "outputId": "1041d55c-e2d3-4cbd-e255-4051656fc519"
   },
   "outputs": [
    {
     "name": "stdout",
     "output_type": "stream",
     "text": [
      "Model NAME: BertForMultipleChoice__full_allgrad_newlr_b16_20201129_145722\n"
     ]
    }
   ],
   "source": [
    "runtype=\"full_allgrad_newlr_b16\"\n",
    "NAME = 'BertForMultipleChoice__{runtype}_{ts}'.format(runtype=runtype, ts=ts)\n",
    "# Logs for tensorboard will be saved in the following directory \n",
    "writer = SummaryWriter(\"runs/\"+ NAME)\n",
    "\n",
    "print(\"Model NAME:\", NAME)"
   ]
  },
  {
   "cell_type": "code",
   "execution_count": 7,
   "metadata": {
    "id": "FaFgHDcc6GI1"
   },
   "outputs": [],
   "source": [
    "# To use tensorboard in Google Colab, run this:\n",
    "%load_ext tensorboard\n",
    "\n",
    "# Tensorboard can be viewed with the following command\n",
    "# %tensorboard --logdir logs"
   ]
  },
  {
   "cell_type": "code",
   "execution_count": 8,
   "metadata": {
    "id": "zPEAD2OAzdvH"
   },
   "outputs": [],
   "source": [
    "# These were supposed to be fed in as .py arguments\n",
    "# Copied them over from the BertForMultipleChoice example doc.\n",
    "# Adapted from https://github.com/rodgzilla/pytorch-pretrained-BERT/blob/dcb50eaa4b80d3ab75d373c36780c80fb47cfd97/examples/run_swag.py\n",
    "\n",
    "logging.basicConfig(format = '%(asctime)s - %(levelname)s - %(name)s -   %(message)s',\n",
    "                    datefmt = '%m/%d/%Y %H:%M:%S',\n",
    "                    level = logging.INFO)\n",
    "logger = logging.getLogger(__name__)\n",
    "\n",
    "\n",
    "class arg_holder():\n",
    "    def __init__(self):\n",
    "        self.bert_model = 'bert-base-uncased'\n",
    "        \n",
    "        self.max_seq_length = 128\n",
    "        self.train_batch_size = 16   # 32\n",
    "        self.eval_batch_size = 8\n",
    "        self.learning_rate = 2e-5    # 5e-5\n",
    "        self.num_train_epochs = 3\n",
    "        self.warmup_proportion = 0\n",
    "        self.no_cuda = False\n",
    "        self.gradient_accumulation_steps = 4\n",
    "        \n",
    "args = arg_holder()"
   ]
  },
  {
   "cell_type": "code",
   "execution_count": 9,
   "metadata": {
    "colab": {
     "base_uri": "https://localhost:8080/"
    },
    "id": "5Xt_Trih1o0-",
    "outputId": "0e59f431-abf1-415b-ee46-d7d90abc3fc0"
   },
   "outputs": [
    {
     "data": {
      "text/plain": [
       "16"
      ]
     },
     "execution_count": 9,
     "metadata": {
      "tags": []
     },
     "output_type": "execute_result"
    }
   ],
   "source": [
    "args.train_batch_size"
   ]
  },
  {
   "cell_type": "code",
   "execution_count": 10,
   "metadata": {
    "id": "4eFkv7pild2x"
   },
   "outputs": [],
   "source": [
    "from tqdm import tqdm, trange\n",
    "\n",
    "from torch.utils.data import TensorDataset, DataLoader, RandomSampler, SequentialSampler\n",
    "from torch.utils.data.distributed import DistributedSampler"
   ]
  },
  {
   "cell_type": "code",
   "execution_count": 11,
   "metadata": {
    "colab": {
     "base_uri": "https://localhost:8080/"
    },
    "id": "LE1aTzFFld2z",
    "outputId": "9e4ce287-74e2-4f2f-89a6-88c924f365b2"
   },
   "outputs": [
    {
     "data": {
      "text/plain": [
       "device(type='cuda')"
      ]
     },
     "execution_count": 11,
     "metadata": {
      "tags": []
     },
     "output_type": "execute_result"
    }
   ],
   "source": [
    "device = torch.device('cuda' if torch.cuda.is_available() else 'cpu')\n",
    "device"
   ]
  },
  {
   "cell_type": "markdown",
   "metadata": {
    "id": "Eughqxcdld2Q"
   },
   "source": [
    "## Import dataset\n",
    "\n",
    "It's in the dataset folder."
   ]
  },
  {
   "cell_type": "code",
   "execution_count": 17,
   "metadata": {
    "colab": {
     "base_uri": "https://localhost:8080/",
     "height": 1000,
     "referenced_widgets": [
      "05f8ca8e89174270bacfcdfc2d00985e",
      "7800e8b6b0bf47a1827b309023b057e5",
      "86982dad55ac4335a1b22ecca697b919",
      "e6bede9b39aa427a87566a0cc6dc7c13",
      "5ec19b0e745f45f98456de5bac1f4f36",
      "bf69e82d7ee943d7ba8851fd784fad71",
      "25b832a1527644f382269ba32fa66e48",
      "5bdc0cfc2cce4bcd9314789a336dedcd",
      "3254060acf934149b2efc2b25cf38765",
      "17d0e6400bb64b299b6cf66a2851579d",
      "243ad597f90649968895058029937f46",
      "6b096791353d4d269ec1dc173c10efd3",
      "8297742a00634502a571ff76b8171ad2",
      "15a1e9c2e7b74303b9430fd54fa36f23",
      "45d8371a0658448fbac72f1730c34a28",
      "c37a2a8530ab41c5ae2866a157c790a7",
      "562fcb4d281e4c368d62f50c293ac863",
      "2ac47a230b4b49c29e953e894b48f9aa",
      "dd117db3ae4243ceb6347fbfb3772b8d",
      "3a983100d07745ca879d554861ba4c03",
      "183e9f970a5d40e0a175e25524c0d718",
      "da3db247ffb7436bb89a0f704d0df7e7",
      "82c51bafbcdc4e7db7a444d42127b0bc",
      "ac1e5674be184492b069aefb5e293847",
      "cde5956bc1c14f718dc5ab8988f2957f",
      "5d01b2cdd66e443aa267cfdba166dcbd",
      "01506380c81d480fa8eb9042e44cfcd0",
      "49720fa187a34f2ab33f846cb380cd7b",
      "f6cb59f7a6bb4afcaf3f4909739b83f1",
      "6ffdfcf2f11641c2b526ff648fbf514e",
      "51075aec94674d348e52f70c394d44fb",
      "086a988bd52c4f76ae600f3c2cdcf941",
      "d7e7f863e3704c6e906c0dda90470017",
      "b50d874f992244ec824b2b94ab4990bc",
      "0f65e270b31a41d6a06bc9717af312c5",
      "91da1175d9e94be6b2504273da7d4ca8",
      "5c9f54f6ad304390bfa506f81efe6321",
      "5ce943f235774da4ae61e6cb5fd09bbe",
      "7c794dbbf3a5443bbdc00446be3aaeb7",
      "198e452fb24045f08534d97053b4fb5a",
      "643fc196f8c24dec8d993aa67cd025e7",
      "03421d4587194188826d9891a28232a7",
      "6f25e5f368c24e5d92112fc66b006517",
      "ac36cb98688a48638deaca98b470adfe",
      "af54ff201e814059ae3cc7caf5ba8c77",
      "5915c1693b994e36af505947e5328890",
      "8aee4290ea684d9ba41a975a028ee9ca",
      "6219a15122ac4e238897a8b905affe1a",
      "2d3490773e5849ed9ea2667f1aae5a97",
      "e4fb9362cdfd4eeca72e9860b405fb20",
      "9ec829bd774a42ca90571c8f9c5f25ca",
      "1dca7b042a82426c85eb9116ff58084e",
      "46f573409524443a861856a218e4a64b",
      "147a720b11f74fd39dcedd957c39af94",
      "0b39d5da98ae43a29530c14a02416a3d",
      "3b8fc300f7d1402d80c81b53bccc400f",
      "977ff0f66b27487aa7dfbeb2db77836f",
      "e8eb1611d96c41a895ffbdd263d73eeb",
      "ce7b107529eb4a5c99a16914dfe286f6",
      "020f2ba593d34dc8a08359858268e2e3",
      "4acbe9475b314dc481853067bea472c3",
      "b83000448eb0405f940309cf429a0ca8",
      "0f901c632dec411c9bf681848c206c5a",
      "684579d6bbb7455a818a5b5d7f123b74"
     ]
    },
    "id": "5uXc5BLcPBFL",
    "outputId": "08455ab5-cc47-42b5-a1ee-0d4c70d149f2"
   },
   "outputs": [
    {
     "name": "stderr",
     "output_type": "stream",
     "text": [
      "11/29/2020 23:01:23 - INFO - filelock -   Lock 139879389531664 acquired on /root/.cache/huggingface/datasets/ea29813e78501904688a90c430f89aca3126b45c3f3f072c4a4246096a5ad0ef.29f2def772f6505fbbc27537a807141066e57bf70f50bf1e0eeb544f7eb5cf3a.py.lock\n",
      "11/29/2020 23:01:23 - INFO - nlp.utils.file_utils -   https://s3.amazonaws.com/datasets.huggingface.co/nlp/datasets/commonsense_qa/commonsense_qa.py not found in cache or force_download set to True, downloading to /root/.cache/huggingface/datasets/tmpwzny632s\n"
     ]
    },
    {
     "data": {
      "application/vnd.jupyter.widget-view+json": {
       "model_id": "05f8ca8e89174270bacfcdfc2d00985e",
       "version_major": 2,
       "version_minor": 0
      },
      "text/plain": [
       "HBox(children=(FloatProgress(value=0.0, description='Downloading', max=4021.0, style=ProgressStyle(description…"
      ]
     },
     "metadata": {
      "tags": []
     },
     "output_type": "display_data"
    },
    {
     "name": "stderr",
     "output_type": "stream",
     "text": [
      "11/29/2020 23:01:23 - INFO - nlp.utils.file_utils -   storing https://s3.amazonaws.com/datasets.huggingface.co/nlp/datasets/commonsense_qa/commonsense_qa.py in cache at /root/.cache/huggingface/datasets/ea29813e78501904688a90c430f89aca3126b45c3f3f072c4a4246096a5ad0ef.29f2def772f6505fbbc27537a807141066e57bf70f50bf1e0eeb544f7eb5cf3a.py\n",
      "11/29/2020 23:01:23 - INFO - nlp.utils.file_utils -   creating metadata file for /root/.cache/huggingface/datasets/ea29813e78501904688a90c430f89aca3126b45c3f3f072c4a4246096a5ad0ef.29f2def772f6505fbbc27537a807141066e57bf70f50bf1e0eeb544f7eb5cf3a.py\n",
      "11/29/2020 23:01:23 - INFO - filelock -   Lock 139879389531664 released on /root/.cache/huggingface/datasets/ea29813e78501904688a90c430f89aca3126b45c3f3f072c4a4246096a5ad0ef.29f2def772f6505fbbc27537a807141066e57bf70f50bf1e0eeb544f7eb5cf3a.py.lock\n",
      "11/29/2020 23:01:23 - INFO - filelock -   Lock 139879389531664 acquired on /root/.cache/huggingface/datasets/57f2f3ea75915746c8c82276c4fa8c5ad2eefec1b68f4916fd427e350e0548d1.8e7921b0f2e4b84d6fe54300e2304189b22d5d373f2574d7071269bf89d558c8.lock\n",
      "11/29/2020 23:01:23 - INFO - nlp.utils.file_utils -   https://s3.amazonaws.com/datasets.huggingface.co/nlp/datasets/commonsense_qa/dataset_infos.json not found in cache or force_download set to True, downloading to /root/.cache/huggingface/datasets/tmpoe_wvwym\n"
     ]
    },
    {
     "name": "stdout",
     "output_type": "stream",
     "text": [
      "\n"
     ]
    },
    {
     "data": {
      "application/vnd.jupyter.widget-view+json": {
       "model_id": "3254060acf934149b2efc2b25cf38765",
       "version_major": 2,
       "version_minor": 0
      },
      "text/plain": [
       "HBox(children=(FloatProgress(value=0.0, description='Downloading', max=2306.0, style=ProgressStyle(description…"
      ]
     },
     "metadata": {
      "tags": []
     },
     "output_type": "display_data"
    },
    {
     "name": "stderr",
     "output_type": "stream",
     "text": [
      "11/29/2020 23:01:23 - INFO - nlp.utils.file_utils -   storing https://s3.amazonaws.com/datasets.huggingface.co/nlp/datasets/commonsense_qa/dataset_infos.json in cache at /root/.cache/huggingface/datasets/57f2f3ea75915746c8c82276c4fa8c5ad2eefec1b68f4916fd427e350e0548d1.8e7921b0f2e4b84d6fe54300e2304189b22d5d373f2574d7071269bf89d558c8\n",
      "11/29/2020 23:01:23 - INFO - nlp.utils.file_utils -   creating metadata file for /root/.cache/huggingface/datasets/57f2f3ea75915746c8c82276c4fa8c5ad2eefec1b68f4916fd427e350e0548d1.8e7921b0f2e4b84d6fe54300e2304189b22d5d373f2574d7071269bf89d558c8\n",
      "11/29/2020 23:01:23 - INFO - filelock -   Lock 139879389531664 released on /root/.cache/huggingface/datasets/57f2f3ea75915746c8c82276c4fa8c5ad2eefec1b68f4916fd427e350e0548d1.8e7921b0f2e4b84d6fe54300e2304189b22d5d373f2574d7071269bf89d558c8.lock\n",
      "11/29/2020 23:01:23 - INFO - nlp.load -   Checking /root/.cache/huggingface/datasets/ea29813e78501904688a90c430f89aca3126b45c3f3f072c4a4246096a5ad0ef.29f2def772f6505fbbc27537a807141066e57bf70f50bf1e0eeb544f7eb5cf3a.py for additional imports.\n"
     ]
    },
    {
     "name": "stdout",
     "output_type": "stream",
     "text": [
      "\n"
     ]
    },
    {
     "name": "stderr",
     "output_type": "stream",
     "text": [
      "11/29/2020 23:01:23 - INFO - filelock -   Lock 139879389531664 acquired on /root/.cache/huggingface/datasets/ea29813e78501904688a90c430f89aca3126b45c3f3f072c4a4246096a5ad0ef.29f2def772f6505fbbc27537a807141066e57bf70f50bf1e0eeb544f7eb5cf3a.py.lock\n",
      "11/29/2020 23:01:23 - INFO - nlp.load -   Found main folder for dataset https://s3.amazonaws.com/datasets.huggingface.co/nlp/datasets/commonsense_qa/commonsense_qa.py at /usr/local/lib/python3.6/dist-packages/nlp/datasets/commonsense_qa\n",
      "11/29/2020 23:01:23 - INFO - nlp.load -   Creating specific version folder for dataset https://s3.amazonaws.com/datasets.huggingface.co/nlp/datasets/commonsense_qa/commonsense_qa.py at /usr/local/lib/python3.6/dist-packages/nlp/datasets/commonsense_qa/a3ca6d89a0ea731b712148dc01a2d5679a3bffd6af0896468b02834325cc2bf9\n",
      "11/29/2020 23:01:23 - INFO - nlp.load -   Copying script file from https://s3.amazonaws.com/datasets.huggingface.co/nlp/datasets/commonsense_qa/commonsense_qa.py to /usr/local/lib/python3.6/dist-packages/nlp/datasets/commonsense_qa/a3ca6d89a0ea731b712148dc01a2d5679a3bffd6af0896468b02834325cc2bf9/commonsense_qa.py\n",
      "11/29/2020 23:01:23 - INFO - nlp.load -   Copying dataset infos file from https://s3.amazonaws.com/datasets.huggingface.co/nlp/datasets/commonsense_qa/dataset_infos.json to /usr/local/lib/python3.6/dist-packages/nlp/datasets/commonsense_qa/a3ca6d89a0ea731b712148dc01a2d5679a3bffd6af0896468b02834325cc2bf9/dataset_infos.json\n",
      "11/29/2020 23:01:23 - INFO - nlp.load -   Creating metadata file for dataset https://s3.amazonaws.com/datasets.huggingface.co/nlp/datasets/commonsense_qa/commonsense_qa.py at /usr/local/lib/python3.6/dist-packages/nlp/datasets/commonsense_qa/a3ca6d89a0ea731b712148dc01a2d5679a3bffd6af0896468b02834325cc2bf9/commonsense_qa.json\n",
      "11/29/2020 23:01:23 - INFO - filelock -   Lock 139879389531664 released on /root/.cache/huggingface/datasets/ea29813e78501904688a90c430f89aca3126b45c3f3f072c4a4246096a5ad0ef.29f2def772f6505fbbc27537a807141066e57bf70f50bf1e0eeb544f7eb5cf3a.py.lock\n",
      "11/29/2020 23:01:23 - WARNING - nlp.builder -   Using custom data configuration default\n",
      "11/29/2020 23:01:23 - INFO - nlp.info -   Loading Dataset Infos from /usr/local/lib/python3.6/dist-packages/nlp/datasets/commonsense_qa/a3ca6d89a0ea731b712148dc01a2d5679a3bffd6af0896468b02834325cc2bf9\n",
      "11/29/2020 23:01:23 - INFO - nlp.builder -   Generating dataset commonsense_qa (/root/.cache/huggingface/datasets/commonsense_qa/default/0.1.0/a3ca6d89a0ea731b712148dc01a2d5679a3bffd6af0896468b02834325cc2bf9)\n",
      "11/29/2020 23:01:23 - INFO - nlp.builder -   Dataset not on Hf google storage. Downloading and preparing it from source\n",
      "11/29/2020 23:01:23 - INFO - filelock -   Lock 139878226541032 acquired on /root/.cache/huggingface/datasets/downloads/f8ac90b19c90fe8ce59d56fa26d9c92ba19c31cbd83a80b10a875837b14d55cc.94445c194f4fa7081632829299edde11e6e705959b4711f3cf68f320e19fdb3a.lock\n",
      "11/29/2020 23:01:23 - INFO - nlp.utils.file_utils -   https://s3.amazonaws.com/commensenseqa/train_rand_split.jsonl not found in cache or force_download set to True, downloading to /root/.cache/huggingface/datasets/downloads/tmpzt7_knzu\n"
     ]
    },
    {
     "name": "stdout",
     "output_type": "stream",
     "text": [
      "Downloading and preparing dataset commonsense_qa/default (download: 4.46 MiB, generated: 2.08 MiB, post-processed: Unknown sizetotal: 6.54 MiB) to /root/.cache/huggingface/datasets/commonsense_qa/default/0.1.0/a3ca6d89a0ea731b712148dc01a2d5679a3bffd6af0896468b02834325cc2bf9...\n"
     ]
    },
    {
     "data": {
      "application/vnd.jupyter.widget-view+json": {
       "model_id": "562fcb4d281e4c368d62f50c293ac863",
       "version_major": 2,
       "version_minor": 0
      },
      "text/plain": [
       "HBox(children=(FloatProgress(value=0.0, description='Downloading', max=3785890.0, style=ProgressStyle(descript…"
      ]
     },
     "metadata": {
      "tags": []
     },
     "output_type": "display_data"
    },
    {
     "name": "stderr",
     "output_type": "stream",
     "text": [
      "11/29/2020 23:01:24 - INFO - nlp.utils.file_utils -   storing https://s3.amazonaws.com/commensenseqa/train_rand_split.jsonl in cache at /root/.cache/huggingface/datasets/downloads/f8ac90b19c90fe8ce59d56fa26d9c92ba19c31cbd83a80b10a875837b14d55cc.94445c194f4fa7081632829299edde11e6e705959b4711f3cf68f320e19fdb3a\n",
      "11/29/2020 23:01:24 - INFO - nlp.utils.file_utils -   creating metadata file for /root/.cache/huggingface/datasets/downloads/f8ac90b19c90fe8ce59d56fa26d9c92ba19c31cbd83a80b10a875837b14d55cc.94445c194f4fa7081632829299edde11e6e705959b4711f3cf68f320e19fdb3a\n",
      "11/29/2020 23:01:24 - INFO - filelock -   Lock 139878226541032 released on /root/.cache/huggingface/datasets/downloads/f8ac90b19c90fe8ce59d56fa26d9c92ba19c31cbd83a80b10a875837b14d55cc.94445c194f4fa7081632829299edde11e6e705959b4711f3cf68f320e19fdb3a.lock\n",
      "11/29/2020 23:01:24 - INFO - filelock -   Lock 139878226542488 acquired on /root/.cache/huggingface/datasets/downloads/fe6a5184d14e087b1cbb56e3cea5ceb0a24dd497ee8f82dcf4963e20aa0c5fe5.9138d3568a6b3ae08fbf85c1057048c6d23f4daff8df252f1e85a643ef03c83a.lock\n",
      "11/29/2020 23:01:24 - INFO - nlp.utils.file_utils -   https://s3.amazonaws.com/commensenseqa/test_rand_split_no_answers.jsonl not found in cache or force_download set to True, downloading to /root/.cache/huggingface/datasets/downloads/tmpb4h8y5jg\n"
     ]
    },
    {
     "name": "stdout",
     "output_type": "stream",
     "text": [
      "\n"
     ]
    },
    {
     "data": {
      "application/vnd.jupyter.widget-view+json": {
       "model_id": "cde5956bc1c14f718dc5ab8988f2957f",
       "version_major": 2,
       "version_minor": 0
      },
      "text/plain": [
       "HBox(children=(FloatProgress(value=0.0, description='Downloading', max=423148.0, style=ProgressStyle(descripti…"
      ]
     },
     "metadata": {
      "tags": []
     },
     "output_type": "display_data"
    },
    {
     "name": "stderr",
     "output_type": "stream",
     "text": [
      "11/29/2020 23:01:24 - INFO - nlp.utils.file_utils -   storing https://s3.amazonaws.com/commensenseqa/test_rand_split_no_answers.jsonl in cache at /root/.cache/huggingface/datasets/downloads/fe6a5184d14e087b1cbb56e3cea5ceb0a24dd497ee8f82dcf4963e20aa0c5fe5.9138d3568a6b3ae08fbf85c1057048c6d23f4daff8df252f1e85a643ef03c83a\n",
      "11/29/2020 23:01:24 - INFO - nlp.utils.file_utils -   creating metadata file for /root/.cache/huggingface/datasets/downloads/fe6a5184d14e087b1cbb56e3cea5ceb0a24dd497ee8f82dcf4963e20aa0c5fe5.9138d3568a6b3ae08fbf85c1057048c6d23f4daff8df252f1e85a643ef03c83a\n",
      "11/29/2020 23:01:24 - INFO - filelock -   Lock 139878226542488 released on /root/.cache/huggingface/datasets/downloads/fe6a5184d14e087b1cbb56e3cea5ceb0a24dd497ee8f82dcf4963e20aa0c5fe5.9138d3568a6b3ae08fbf85c1057048c6d23f4daff8df252f1e85a643ef03c83a.lock\n"
     ]
    },
    {
     "name": "stdout",
     "output_type": "stream",
     "text": [
      "\n"
     ]
    },
    {
     "name": "stderr",
     "output_type": "stream",
     "text": [
      "11/29/2020 23:01:24 - INFO - filelock -   Lock 139878226540920 acquired on /root/.cache/huggingface/datasets/downloads/712467f293862605fd78116a1c37eea362706de7051d865440c01296b042e1d0.babf491afa13fc9c974882ffa47e4a1707c82f5cb6f95ba74adeda5c380e222e.lock\n",
      "11/29/2020 23:01:24 - INFO - nlp.utils.file_utils -   https://s3.amazonaws.com/commensenseqa/dev_rand_split.jsonl not found in cache or force_download set to True, downloading to /root/.cache/huggingface/datasets/downloads/tmp3u_qnm5w\n"
     ]
    },
    {
     "data": {
      "application/vnd.jupyter.widget-view+json": {
       "model_id": "d7e7f863e3704c6e906c0dda90470017",
       "version_major": 2,
       "version_minor": 0
      },
      "text/plain": [
       "HBox(children=(FloatProgress(value=0.0, description='Downloading', max=471653.0, style=ProgressStyle(descripti…"
      ]
     },
     "metadata": {
      "tags": []
     },
     "output_type": "display_data"
    },
    {
     "name": "stderr",
     "output_type": "stream",
     "text": [
      "11/29/2020 23:01:24 - INFO - nlp.utils.file_utils -   storing https://s3.amazonaws.com/commensenseqa/dev_rand_split.jsonl in cache at /root/.cache/huggingface/datasets/downloads/712467f293862605fd78116a1c37eea362706de7051d865440c01296b042e1d0.babf491afa13fc9c974882ffa47e4a1707c82f5cb6f95ba74adeda5c380e222e\n",
      "11/29/2020 23:01:24 - INFO - nlp.utils.file_utils -   creating metadata file for /root/.cache/huggingface/datasets/downloads/712467f293862605fd78116a1c37eea362706de7051d865440c01296b042e1d0.babf491afa13fc9c974882ffa47e4a1707c82f5cb6f95ba74adeda5c380e222e\n",
      "11/29/2020 23:01:24 - INFO - filelock -   Lock 139878226540920 released on /root/.cache/huggingface/datasets/downloads/712467f293862605fd78116a1c37eea362706de7051d865440c01296b042e1d0.babf491afa13fc9c974882ffa47e4a1707c82f5cb6f95ba74adeda5c380e222e.lock\n"
     ]
    },
    {
     "name": "stdout",
     "output_type": "stream",
     "text": [
      "\n"
     ]
    },
    {
     "name": "stderr",
     "output_type": "stream",
     "text": [
      "11/29/2020 23:01:24 - INFO - nlp.utils.info_utils -   All the checksums matched successfully for dataset source files\n",
      "11/29/2020 23:01:24 - INFO - nlp.builder -   Generating split train\n"
     ]
    },
    {
     "data": {
      "application/vnd.jupyter.widget-view+json": {
       "model_id": "643fc196f8c24dec8d993aa67cd025e7",
       "version_major": 2,
       "version_minor": 0
      },
      "text/plain": [
       "HBox(children=(FloatProgress(value=1.0, bar_style='info', max=1.0), HTML(value='')))"
      ]
     },
     "metadata": {
      "tags": []
     },
     "output_type": "display_data"
    },
    {
     "name": "stderr",
     "output_type": "stream",
     "text": [
      "11/29/2020 23:01:25 - INFO - nlp.arrow_writer -   Done writing 9741 examples in 1736365 bytes /root/.cache/huggingface/datasets/commonsense_qa/default/0.1.0/a3ca6d89a0ea731b712148dc01a2d5679a3bffd6af0896468b02834325cc2bf9.incomplete/commonsense_qa-train.arrow.\n",
      "11/29/2020 23:01:25 - INFO - nlp.builder -   Generating split validation\n"
     ]
    },
    {
     "name": "stdout",
     "output_type": "stream",
     "text": [
      "\r"
     ]
    },
    {
     "data": {
      "application/vnd.jupyter.widget-view+json": {
       "model_id": "2d3490773e5849ed9ea2667f1aae5a97",
       "version_major": 2,
       "version_minor": 0
      },
      "text/plain": [
       "HBox(children=(FloatProgress(value=1.0, bar_style='info', max=1.0), HTML(value='')))"
      ]
     },
     "metadata": {
      "tags": []
     },
     "output_type": "display_data"
    },
    {
     "name": "stderr",
     "output_type": "stream",
     "text": [
      "11/29/2020 23:01:25 - INFO - nlp.arrow_writer -   Done writing 1221 examples in 215057 bytes /root/.cache/huggingface/datasets/commonsense_qa/default/0.1.0/a3ca6d89a0ea731b712148dc01a2d5679a3bffd6af0896468b02834325cc2bf9.incomplete/commonsense_qa-validation.arrow.\n",
      "11/29/2020 23:01:25 - INFO - nlp.builder -   Generating split test\n"
     ]
    },
    {
     "name": "stdout",
     "output_type": "stream",
     "text": [
      "\r"
     ]
    },
    {
     "data": {
      "application/vnd.jupyter.widget-view+json": {
       "model_id": "977ff0f66b27487aa7dfbeb2db77836f",
       "version_major": 2,
       "version_minor": 0
      },
      "text/plain": [
       "HBox(children=(FloatProgress(value=1.0, bar_style='info', max=1.0), HTML(value='')))"
      ]
     },
     "metadata": {
      "tags": []
     },
     "output_type": "display_data"
    },
    {
     "name": "stderr",
     "output_type": "stream",
     "text": [
      "11/29/2020 23:01:25 - INFO - nlp.arrow_writer -   Done writing 1140 examples in 202782 bytes /root/.cache/huggingface/datasets/commonsense_qa/default/0.1.0/a3ca6d89a0ea731b712148dc01a2d5679a3bffd6af0896468b02834325cc2bf9.incomplete/commonsense_qa-test.arrow.\n",
      "11/29/2020 23:01:25 - INFO - nlp.utils.info_utils -   All the splits matched successfully.\n",
      "11/29/2020 23:01:25 - INFO - nlp.builder -   Constructing Dataset for split train, from /root/.cache/huggingface/datasets/commonsense_qa/default/0.1.0/a3ca6d89a0ea731b712148dc01a2d5679a3bffd6af0896468b02834325cc2bf9\n",
      "11/29/2020 23:01:25 - INFO - nlp.utils.info_utils -   Unable to verify checksums.\n"
     ]
    },
    {
     "name": "stdout",
     "output_type": "stream",
     "text": [
      "\r",
      "Dataset commonsense_qa downloaded and prepared to /root/.cache/huggingface/datasets/commonsense_qa/default/0.1.0/a3ca6d89a0ea731b712148dc01a2d5679a3bffd6af0896468b02834325cc2bf9. Subsequent calls will reuse this data.\n"
     ]
    },
    {
     "name": "stderr",
     "output_type": "stream",
     "text": [
      "11/29/2020 23:01:25 - INFO - nlp.load -   Checking /root/.cache/huggingface/datasets/ea29813e78501904688a90c430f89aca3126b45c3f3f072c4a4246096a5ad0ef.29f2def772f6505fbbc27537a807141066e57bf70f50bf1e0eeb544f7eb5cf3a.py for additional imports.\n",
      "11/29/2020 23:01:25 - INFO - filelock -   Lock 139878226594000 acquired on /root/.cache/huggingface/datasets/ea29813e78501904688a90c430f89aca3126b45c3f3f072c4a4246096a5ad0ef.29f2def772f6505fbbc27537a807141066e57bf70f50bf1e0eeb544f7eb5cf3a.py.lock\n",
      "11/29/2020 23:01:25 - INFO - nlp.load -   Found main folder for dataset https://s3.amazonaws.com/datasets.huggingface.co/nlp/datasets/commonsense_qa/commonsense_qa.py at /usr/local/lib/python3.6/dist-packages/nlp/datasets/commonsense_qa\n",
      "11/29/2020 23:01:25 - INFO - nlp.load -   Found specific version folder for dataset https://s3.amazonaws.com/datasets.huggingface.co/nlp/datasets/commonsense_qa/commonsense_qa.py at /usr/local/lib/python3.6/dist-packages/nlp/datasets/commonsense_qa/a3ca6d89a0ea731b712148dc01a2d5679a3bffd6af0896468b02834325cc2bf9\n",
      "11/29/2020 23:01:25 - INFO - nlp.load -   Found script file from https://s3.amazonaws.com/datasets.huggingface.co/nlp/datasets/commonsense_qa/commonsense_qa.py to /usr/local/lib/python3.6/dist-packages/nlp/datasets/commonsense_qa/a3ca6d89a0ea731b712148dc01a2d5679a3bffd6af0896468b02834325cc2bf9/commonsense_qa.py\n",
      "11/29/2020 23:01:25 - INFO - nlp.load -   Found dataset infos file from https://s3.amazonaws.com/datasets.huggingface.co/nlp/datasets/commonsense_qa/dataset_infos.json to /usr/local/lib/python3.6/dist-packages/nlp/datasets/commonsense_qa/a3ca6d89a0ea731b712148dc01a2d5679a3bffd6af0896468b02834325cc2bf9/dataset_infos.json\n",
      "11/29/2020 23:01:25 - INFO - nlp.load -   Found metadata file for dataset https://s3.amazonaws.com/datasets.huggingface.co/nlp/datasets/commonsense_qa/commonsense_qa.py at /usr/local/lib/python3.6/dist-packages/nlp/datasets/commonsense_qa/a3ca6d89a0ea731b712148dc01a2d5679a3bffd6af0896468b02834325cc2bf9/commonsense_qa.json\n",
      "11/29/2020 23:01:25 - INFO - filelock -   Lock 139878226594000 released on /root/.cache/huggingface/datasets/ea29813e78501904688a90c430f89aca3126b45c3f3f072c4a4246096a5ad0ef.29f2def772f6505fbbc27537a807141066e57bf70f50bf1e0eeb544f7eb5cf3a.py.lock\n",
      "11/29/2020 23:01:25 - WARNING - nlp.builder -   Using custom data configuration default\n",
      "11/29/2020 23:01:25 - INFO - nlp.info -   Loading Dataset Infos from /usr/local/lib/python3.6/dist-packages/nlp/datasets/commonsense_qa/a3ca6d89a0ea731b712148dc01a2d5679a3bffd6af0896468b02834325cc2bf9\n",
      "11/29/2020 23:01:25 - INFO - nlp.builder -   Overwrite dataset info from restored data version.\n",
      "11/29/2020 23:01:25 - INFO - nlp.info -   Loading Dataset info from /root/.cache/huggingface/datasets/commonsense_qa/default/0.1.0/a3ca6d89a0ea731b712148dc01a2d5679a3bffd6af0896468b02834325cc2bf9\n",
      "11/29/2020 23:01:25 - INFO - nlp.builder -   Reusing dataset commonsense_qa (/root/.cache/huggingface/datasets/commonsense_qa/default/0.1.0/a3ca6d89a0ea731b712148dc01a2d5679a3bffd6af0896468b02834325cc2bf9)\n",
      "11/29/2020 23:01:25 - INFO - nlp.builder -   Constructing Dataset for split validation, from /root/.cache/huggingface/datasets/commonsense_qa/default/0.1.0/a3ca6d89a0ea731b712148dc01a2d5679a3bffd6af0896468b02834325cc2bf9\n",
      "11/29/2020 23:01:25 - INFO - nlp.utils.info_utils -   Unable to verify checksums.\n"
     ]
    }
   ],
   "source": [
    "train_dataset = nlp.load_dataset(\"commonsense_qa\", split = nlp.Split.TRAIN)\n",
    "valid_dataset = nlp.load_dataset(\"commonsense_qa\", split = nlp.Split.VALIDATION)"
   ]
  },
  {
   "cell_type": "code",
   "execution_count": 39,
   "metadata": {
    "colab": {
     "base_uri": "https://localhost:8080/"
    },
    "id": "FVvKfRnpRUYD",
    "outputId": "e8741b83-68f3-428b-8e1a-1a620cb398f3"
   },
   "outputs": [
    {
     "data": {
      "text/plain": [
       "{'label': ['A', 'B', 'C', 'D', 'E'],\n",
       " 'text': ['ignore', 'enforce', 'authoritarian', 'yell at', 'avoid']}"
      ]
     },
     "execution_count": 39,
     "metadata": {
      "tags": []
     },
     "output_type": "execute_result"
    }
   ],
   "source": [
    "train_dataset[0][\"choices\"]"
   ]
  },
  {
   "cell_type": "markdown",
   "metadata": {
    "id": "VPkzLy1Dld2U"
   },
   "source": [
    "# BERT base model (uncased)\n",
    "\n",
    "From: https://huggingface.co/bert-base-uncased\n",
    "\n",
    "> Pretrained model on English language using a masked language modeling (MLM) objective. It was introduced in this paper and first released in this repository. This model is uncased: it does not make a difference between english and English.\n",
    "> \n",
    "> Disclaimer: The team releasing BERT did not write a model card for this model so this model card has been written by the Hugging Face team."
   ]
  },
  {
   "cell_type": "markdown",
   "metadata": {
    "id": "VefgfZHjld2V"
   },
   "source": [
    "For each question, there are five answer choices. Only one of them is correct.\n",
    "\n",
    "For BERT, the first thought was to have all five answers attached to each question, and the model would choose one of the five responses. This is how it's originally done in the CommonsenseQA paper.\n",
    "\n",
    "```\n",
    "[CLS] Question text here [SEP] Ans choice A [SEP] Ans choice B [SEP] Ans choice C [SEP] Ans choice D [SEP] Ans choice E [SEP]\n",
    "```\n",
    "\n",
    "It seems complicated, however, and requires a significant lift. So for now, let me try creating five question-answer pairs for each question. Like this:\n",
    "\n",
    "```\n",
    "[CLS] Question text here [SEP] A Ans choice [SEP]\n",
    "[CLS] Question text here [SEP] B Ans choice [SEP]\n",
    "[CLS] Question text here [SEP] C Ans choice [SEP]\n",
    "[CLS] Question text here [SEP] D Ans choice [SEP]\n",
    "[CLS] Question text here [SEP] E Ans choice [SEP]\n",
    "```\n",
    "\n",
    "Only one of the above 5 inputs will have a positive label for being the correct answer. The rest will have 0. The problem with this model is that we're evaluating each choice separately to see if it looks like a right answer at all. But it's important for the model to know how the answer choices compare to each other as well.\n"
   ]
  },
  {
   "cell_type": "code",
   "execution_count": 45,
   "metadata": {
    "id": "FYemdu1Ild2V"
   },
   "outputs": [],
   "source": [
    "tokenizer = BertTokenizer.from_pretrained(\"bert-base-uncased\")\n",
    "lab_order = {\"A\": 0, \"B\":1, \"C\":2, \"D\":3, \"E\":4}\n",
    "\n",
    "class InputExample(object):\n",
    "    \"\"\"A single multiple choice question and its five multiple choice answer candidates\"\"\"\n",
    "    # This class is adapted from https://github.com/jonathanherzig/commonsenseqa/blob/master/bert/run_commonsense_qa.py\n",
    "    # and from https://github.com/rodgzilla/pytorch-pretrained-BERT/blob/dcb50eaa4b80d3ab75d373c36780c80fb47cfd97/examples/run_swag.py\n",
    "\n",
    "    def __init__(\n",
    "            self,\n",
    "            question,\n",
    "            choice_0,\n",
    "            choice_1,\n",
    "            choice_2,\n",
    "            choice_3,\n",
    "            choice_4,\n",
    "            label=None):\n",
    "        \"\"\"Construct an instance.\"\"\"\n",
    "        self.question = question  # e.g., 'The sanctions against the school were a punishing blow, and they seemed to what the efforts the school had made to change?'\n",
    "        self.choices = [          # All five anser choices as a list\n",
    "            choice_0,\n",
    "            choice_1,\n",
    "            choice_2,\n",
    "            choice_3,\n",
    "            choice_4\n",
    "        ]\n",
    "        self.label = label        # \n",
    "        \n",
    "    def __str__(self):\n",
    "        return self.__repr__()\n",
    "\n",
    "    def __repr__(self):\n",
    "        l = [\n",
    "            f\"question: {self.question}\",\n",
    "            f\"choice_0: {self.choices[0]}\",\n",
    "            f\"choice_1: {self.choices[1]}\",\n",
    "            f\"choice_2: {self.choices[2]}\",\n",
    "            f\"choice_3: {self.choices[3]}\",\n",
    "            f\"choice_4: {self.choices[4]}\",\n",
    "        ]\n",
    "\n",
    "        if self.label is not None:\n",
    "            l.append(f\"label: {self.label}\")\n",
    "\n",
    "        return \", \".join(l)    \n",
    "\n",
    "class InputFeatures(object):\n",
    "    \"\"\"Adapted from: https://github.com/rodgzilla/pytorch-pretrained-BERT/blob/dcb50eaa4b80d3ab75d373c36780c80fb47cfd97/examples/run_swag.py\n",
    "    Stores Bert model inputs (ids, masks) for each example\"\"\"\n",
    "    \n",
    "    def __init__(self,\n",
    "                 choices_features,\n",
    "                 label\n",
    "\n",
    "    ):\n",
    "        self.choices_features = [\n",
    "            {\n",
    "                'input_ids': input_ids,\n",
    "                'input_mask': input_mask,\n",
    "                'segment_ids': segment_ids\n",
    "            }\n",
    "            for _, input_ids, input_mask, segment_ids in choices_features\n",
    "        ]\n",
    "        self.label = label\n",
    "\n",
    "    \n",
    "def process_examples(data):\n",
    "    \"\"\"Given the examples in a pandas df format, process examples into example class\"\"\"\n",
    "    examples = []\n",
    "    labels = []\n",
    "    questions = []\n",
    "    anscands = []\n",
    "    \n",
    "    \n",
    "    for row in data: \n",
    "        example = InputExample(\n",
    "                    question=row[\"question\"],\n",
    "                    choice_0=str(row[\"choices\"][\"label\"][0] + \" \" + row[\"choices\"][\"text\"][0]),\n",
    "                    choice_1=str(row[\"choices\"][\"label\"][1] + \" \" + row[\"choices\"][\"text\"][1]),\n",
    "                    choice_2=str(row[\"choices\"][\"label\"][2] + \" \" + row[\"choices\"][\"text\"][2]),\n",
    "                    choice_3=str(row[\"choices\"][\"label\"][3] + \" \" + row[\"choices\"][\"text\"][3]),\n",
    "                    choice_4=str(row[\"choices\"][\"label\"][4] + \" \" + row[\"choices\"][\"text\"][4]),\n",
    "                    label=lab_order[row[\"answerKey\"]]\n",
    "                )\n",
    "        examples.append(example)\n",
    "        \n",
    "    return examples \n",
    "\n",
    "def convert_examples_to_features(examples, tokenizer, max_seq_length, is_training):\n",
    "    # For each quesiton, we generate five inputs: one for each answer choice. \n",
    "    \n",
    "    # - [CLS] question [SEP] A choice_1 [SEP]\n",
    "    # - [CLS] question [SEP] B choice_2 [SEP]\n",
    "    # - [CLS] question [SEP] C choice_3 [SEP]\n",
    "    # - [CLS] question [SEP] D choice_4 [SEP]\n",
    "    # - [CLS] question [SEP] E choice_5 [SEP]\n",
    "    \n",
    "    features = []\n",
    "    # Loop through questions\n",
    "    for example_index, example in enumerate(examples):\n",
    "        question_tokens = tokenizer.tokenize(example.question)\n",
    "\n",
    "        choices_features = []\n",
    "        # For each question, loop through all answer choices \n",
    "        for choice_index, choice in enumerate(example.choices):\n",
    "            # We create a copy of the question tokens in order to be\n",
    "            # able to shrink it according to choice_tokens\n",
    "            question_tokens_choice = question_tokens[:]\n",
    "            choice_tokens = tokenizer.tokenize(choice)\n",
    "            # Modifies `question_tokens_choice` and `choice_tokens` in\n",
    "            # place so that the total length is less than the\n",
    "            # specified length.  Account for [CLS], [SEP], [SEP] with\n",
    "            # \"- 3\"\n",
    "            _truncate_seq_pair(question_tokens_choice, choice_tokens, max_seq_length - 3)\n",
    "\n",
    "            tokens = [\"[CLS]\"] + question_tokens_choice + [\"[SEP]\"] + choice_tokens + [\"[SEP]\"]\n",
    "            segment_ids = [0] * (len(question_tokens_choice) + 2) + [1] * (len(choice_tokens) + 1)\n",
    "\n",
    "            input_ids = tokenizer.convert_tokens_to_ids(tokens)\n",
    "            input_mask = [1] * len(input_ids)\n",
    "\n",
    "            # Zero-pad up to the sequence length.\n",
    "            padding = [0] * (max_seq_length - len(input_ids))\n",
    "            input_ids += padding\n",
    "            input_mask += padding\n",
    "            segment_ids += padding\n",
    "\n",
    "            assert len(input_ids) == max_seq_length\n",
    "            assert len(input_mask) == max_seq_length\n",
    "            assert len(segment_ids) == max_seq_length\n",
    "\n",
    "            choices_features.append((tokens, input_ids, input_mask, segment_ids))\n",
    "\n",
    "        label = example.label\n",
    "\n",
    "        features.append(\n",
    "            InputFeatures(\n",
    "                choices_features = choices_features,\n",
    "                label = label\n",
    "            )\n",
    "        )\n",
    "\n",
    "    return features\n",
    "\n",
    "\n",
    "def _truncate_seq_pair(tokens_a, tokens_b, max_length):\n",
    "    \"\"\"Truncates a sequence pair in place to the maximum length.\"\"\"\n",
    "\n",
    "    # This is a simple heuristic which will always truncate the longer sequence\n",
    "    # one token at a time. This makes more sense than truncating an equal percent\n",
    "    # of tokens from each, since if one sequence is very short then each token\n",
    "    # that's truncated likely contains more information than a longer sequence.\n",
    "    while True:\n",
    "        total_length = len(tokens_a) + len(tokens_b)\n",
    "        if total_length <= max_length:\n",
    "            break\n",
    "        if len(tokens_a) > len(tokens_b):\n",
    "            tokens_a.pop()\n",
    "        else:\n",
    "            tokens_b.pop()\n",
    "            \n",
    "def select_field(features, field):\n",
    "    \"\"\"Yields a list, length equal to the total number of examples,\n",
    "    where each item is a list of arrays,\n",
    "    each array representing the feature array\"\"\"\n",
    "    return [\n",
    "        [\n",
    "            choice[field]   # Grab the feature array of that choice.\n",
    "            for choice in feature.choices_features  # Loop through 5 choices of that example\n",
    "        ]\n",
    "        for feature in features   # loop through each example\n",
    "    ]\n",
    "\n"
   ]
  },
  {
   "cell_type": "code",
   "execution_count": 46,
   "metadata": {
    "id": "7aKR77U_ld2Y"
   },
   "outputs": [],
   "source": [
    "# Process inputs \n",
    "\n",
    "train_examples= process_examples(train_dataset)\n",
    "train_features = convert_examples_to_features(\n",
    "                    examples=train_examples, \n",
    "                    tokenizer=tokenizer, \n",
    "                    max_seq_length=50, \n",
    "                    is_training=True)\n",
    "\n",
    "dev_examples= process_examples(valid_dataset)\n",
    "dev_features = convert_examples_to_features(\n",
    "                    examples=dev_examples, \n",
    "                    tokenizer=tokenizer, \n",
    "                    max_seq_length=50, \n",
    "                    is_training=True)\n"
   ]
  },
  {
   "cell_type": "code",
   "execution_count": 47,
   "metadata": {
    "colab": {
     "base_uri": "https://localhost:8080/"
    },
    "id": "aJ0jMNNbDwP1",
    "outputId": "c1273314-3838-4bb6-d85e-da30e7607366"
   },
   "outputs": [
    {
     "name": "stdout",
     "output_type": "stream",
     "text": [
      "dev_examples: 1221\n",
      "dev_features: 1221\n",
      "train_examples: 9741\n",
      "train_features: 9741\n"
     ]
    }
   ],
   "source": [
    "print(\"dev_examples:\", len(dev_examples))\n",
    "print(\"dev_features:\", len(dev_features))\n",
    "print(\"train_examples:\", len(train_examples))\n",
    "print(\"train_features:\", len(train_features))"
   ]
  },
  {
   "cell_type": "code",
   "execution_count": 48,
   "metadata": {
    "id": "STXPhHvtld2a"
   },
   "outputs": [],
   "source": [
    "def create_inputs_from_features(features):\n",
    "    input_ids = torch.tensor(select_field(features, 'input_ids'), dtype=torch.long)\n",
    "    input_mask = torch.tensor(select_field(features, 'input_mask'), dtype=torch.long)\n",
    "    segment_ids = torch.tensor(select_field(features, 'segment_ids'), dtype=torch.long)\n",
    "    label = torch.tensor([f.label for f in features], dtype=torch.long)\n",
    "    \n",
    "    return input_ids, input_mask, segment_ids, label\n",
    "\n",
    "def accuracy(out, labels):\n",
    "    outputs = np.argmax(out, axis=1)\n",
    "    return np.sum(outputs == labels)\n"
   ]
  },
  {
   "cell_type": "code",
   "execution_count": 50,
   "metadata": {
    "id": "PWhIaRGOld2c"
   },
   "outputs": [],
   "source": [
    "train_examples= process_examples(train_dataset)\n"
   ]
  },
  {
   "cell_type": "code",
   "execution_count": 51,
   "metadata": {
    "id": "6g7VMDwJTqiw"
   },
   "outputs": [],
   "source": [
    "# Full data here. Can correct it to tiny dataset as well\n",
    "train_features = convert_examples_to_features(\n",
    "                    examples=train_examples, \n",
    "                    tokenizer=tokenizer, \n",
    "                    max_seq_length=50, \n",
    "                    is_training=True)"
   ]
  },
  {
   "cell_type": "markdown",
   "metadata": {
    "id": "I0psj9yKdM-r"
   },
   "source": [
    "# Import Model\n"
   ]
  },
  {
   "cell_type": "code",
   "execution_count": 52,
   "metadata": {
    "id": "TnaJxOOvld2h"
   },
   "outputs": [],
   "source": [
    "from transformers import BertForMultipleChoice"
   ]
  },
  {
   "cell_type": "code",
   "execution_count": 53,
   "metadata": {
    "colab": {
     "base_uri": "https://localhost:8080/",
     "height": 286,
     "referenced_widgets": [
      "ed9ce340f028495fae99969fab507c46",
      "cec12892efc64ba69fdab43efb49f937",
      "8c432bc5e1334c6992c7509a1089cbc9",
      "c018ced24f17446d9f3f7df844c5b3e5",
      "bcf3cf8857c8466ea3fd1e6751bedd20",
      "6039d07081d94ebe841040941d0fd13c",
      "f329e1092c534b6f85f1561ba20a19e6",
      "9105ed3495ff4864a7e225a618b5a725",
      "eae3838fd5794f5a904c31195c408e21",
      "c2c8840c29bc47c28a26f5781aa7791f",
      "33c4a940931b4ae681e6a8a18e8c3058",
      "ddb0308cd5b74f8687dfe79d034ecc08",
      "a8946025998b46458cdcba12e76e6ea6",
      "6bb51b41c92f4b8b804195a7e955efc1",
      "7410e70908d24316b27ca2f75eaf9e79",
      "5dc9abe5d7134d808ea2a7cb7610aee4"
     ]
    },
    "id": "Hy1kGx7rld2i",
    "outputId": "020edb17-c3d8-4776-f79b-2a37d559b787"
   },
   "outputs": [
    {
     "name": "stderr",
     "output_type": "stream",
     "text": [
      "11/29/2020 23:14:02 - INFO - filelock -   Lock 139880709384120 acquired on /root/.cache/torch/transformers/3c61d016573b14f7f008c02c4e51a366c67ab274726fe2910691e2a761acf43e.637c6035640bacb831febcc2b7f7bee0a96f9b30c2d7e9ef84082d9f252f3170.lock\n"
     ]
    },
    {
     "data": {
      "application/vnd.jupyter.widget-view+json": {
       "model_id": "ed9ce340f028495fae99969fab507c46",
       "version_major": 2,
       "version_minor": 0
      },
      "text/plain": [
       "HBox(children=(FloatProgress(value=0.0, description='Downloading', max=433.0, style=ProgressStyle(description_…"
      ]
     },
     "metadata": {
      "tags": []
     },
     "output_type": "display_data"
    },
    {
     "name": "stderr",
     "output_type": "stream",
     "text": [
      "11/29/2020 23:14:02 - INFO - filelock -   Lock 139880709384120 released on /root/.cache/torch/transformers/3c61d016573b14f7f008c02c4e51a366c67ab274726fe2910691e2a761acf43e.637c6035640bacb831febcc2b7f7bee0a96f9b30c2d7e9ef84082d9f252f3170.lock\n",
      "11/29/2020 23:14:02 - INFO - filelock -   Lock 139878227049384 acquired on /root/.cache/torch/transformers/a8041bf617d7f94ea26d15e218abd04afc2004805632abc0ed2066aa16d50d04.faf6ea826ae9c5867d12b22257f9877e6b8367890837bd60f7c54a29633f7f2f.lock\n"
     ]
    },
    {
     "name": "stdout",
     "output_type": "stream",
     "text": [
      "\n"
     ]
    },
    {
     "data": {
      "application/vnd.jupyter.widget-view+json": {
       "model_id": "eae3838fd5794f5a904c31195c408e21",
       "version_major": 2,
       "version_minor": 0
      },
      "text/plain": [
       "HBox(children=(FloatProgress(value=0.0, description='Downloading', max=440473133.0, style=ProgressStyle(descri…"
      ]
     },
     "metadata": {
      "tags": []
     },
     "output_type": "display_data"
    },
    {
     "name": "stderr",
     "output_type": "stream",
     "text": [
      "11/29/2020 23:14:09 - INFO - filelock -   Lock 139878227049384 released on /root/.cache/torch/transformers/a8041bf617d7f94ea26d15e218abd04afc2004805632abc0ed2066aa16d50d04.faf6ea826ae9c5867d12b22257f9877e6b8367890837bd60f7c54a29633f7f2f.lock\n"
     ]
    },
    {
     "name": "stdout",
     "output_type": "stream",
     "text": [
      "\n"
     ]
    },
    {
     "name": "stderr",
     "output_type": "stream",
     "text": [
      "Some weights of the model checkpoint at bert-base-uncased were not used when initializing BertForMultipleChoice: ['cls.predictions.bias', 'cls.predictions.transform.dense.weight', 'cls.predictions.transform.dense.bias', 'cls.predictions.decoder.weight', 'cls.seq_relationship.weight', 'cls.seq_relationship.bias', 'cls.predictions.transform.LayerNorm.weight', 'cls.predictions.transform.LayerNorm.bias']\n",
      "- This IS expected if you are initializing BertForMultipleChoice from the checkpoint of a model trained on another task or with another architecture (e.g. initializing a BertForSequenceClassification model from a BertForPreTraining model).\n",
      "- This IS NOT expected if you are initializing BertForMultipleChoice from the checkpoint of a model that you expect to be exactly identical (initializing a BertForSequenceClassification model from a BertForSequenceClassification model).\n",
      "Some weights of BertForMultipleChoice were not initialized from the model checkpoint at bert-base-uncased and are newly initialized: ['classifier.weight', 'classifier.bias']\n",
      "You should probably TRAIN this model on a down-stream task to be able to use it for predictions and inference.\n"
     ]
    }
   ],
   "source": [
    "model = BertForMultipleChoice.from_pretrained('bert-base-uncased')"
   ]
  },
  {
   "cell_type": "code",
   "execution_count": 54,
   "metadata": {
    "colab": {
     "base_uri": "https://localhost:8080/"
    },
    "id": "r6kTPnbBGWlo",
    "outputId": "e8ead7c8-dc7a-4305-8208-b7212d39ebf5"
   },
   "outputs": [
    {
     "data": {
      "text/plain": [
       "BertForMultipleChoice(\n",
       "  (bert): BertModel(\n",
       "    (embeddings): BertEmbeddings(\n",
       "      (word_embeddings): Embedding(30522, 768, padding_idx=0)\n",
       "      (position_embeddings): Embedding(512, 768)\n",
       "      (token_type_embeddings): Embedding(2, 768)\n",
       "      (LayerNorm): LayerNorm((768,), eps=1e-12, elementwise_affine=True)\n",
       "      (dropout): Dropout(p=0.1, inplace=False)\n",
       "    )\n",
       "    (encoder): BertEncoder(\n",
       "      (layer): ModuleList(\n",
       "        (0): BertLayer(\n",
       "          (attention): BertAttention(\n",
       "            (self): BertSelfAttention(\n",
       "              (query): Linear(in_features=768, out_features=768, bias=True)\n",
       "              (key): Linear(in_features=768, out_features=768, bias=True)\n",
       "              (value): Linear(in_features=768, out_features=768, bias=True)\n",
       "              (dropout): Dropout(p=0.1, inplace=False)\n",
       "            )\n",
       "            (output): BertSelfOutput(\n",
       "              (dense): Linear(in_features=768, out_features=768, bias=True)\n",
       "              (LayerNorm): LayerNorm((768,), eps=1e-12, elementwise_affine=True)\n",
       "              (dropout): Dropout(p=0.1, inplace=False)\n",
       "            )\n",
       "          )\n",
       "          (intermediate): BertIntermediate(\n",
       "            (dense): Linear(in_features=768, out_features=3072, bias=True)\n",
       "          )\n",
       "          (output): BertOutput(\n",
       "            (dense): Linear(in_features=3072, out_features=768, bias=True)\n",
       "            (LayerNorm): LayerNorm((768,), eps=1e-12, elementwise_affine=True)\n",
       "            (dropout): Dropout(p=0.1, inplace=False)\n",
       "          )\n",
       "        )\n",
       "        (1): BertLayer(\n",
       "          (attention): BertAttention(\n",
       "            (self): BertSelfAttention(\n",
       "              (query): Linear(in_features=768, out_features=768, bias=True)\n",
       "              (key): Linear(in_features=768, out_features=768, bias=True)\n",
       "              (value): Linear(in_features=768, out_features=768, bias=True)\n",
       "              (dropout): Dropout(p=0.1, inplace=False)\n",
       "            )\n",
       "            (output): BertSelfOutput(\n",
       "              (dense): Linear(in_features=768, out_features=768, bias=True)\n",
       "              (LayerNorm): LayerNorm((768,), eps=1e-12, elementwise_affine=True)\n",
       "              (dropout): Dropout(p=0.1, inplace=False)\n",
       "            )\n",
       "          )\n",
       "          (intermediate): BertIntermediate(\n",
       "            (dense): Linear(in_features=768, out_features=3072, bias=True)\n",
       "          )\n",
       "          (output): BertOutput(\n",
       "            (dense): Linear(in_features=3072, out_features=768, bias=True)\n",
       "            (LayerNorm): LayerNorm((768,), eps=1e-12, elementwise_affine=True)\n",
       "            (dropout): Dropout(p=0.1, inplace=False)\n",
       "          )\n",
       "        )\n",
       "        (2): BertLayer(\n",
       "          (attention): BertAttention(\n",
       "            (self): BertSelfAttention(\n",
       "              (query): Linear(in_features=768, out_features=768, bias=True)\n",
       "              (key): Linear(in_features=768, out_features=768, bias=True)\n",
       "              (value): Linear(in_features=768, out_features=768, bias=True)\n",
       "              (dropout): Dropout(p=0.1, inplace=False)\n",
       "            )\n",
       "            (output): BertSelfOutput(\n",
       "              (dense): Linear(in_features=768, out_features=768, bias=True)\n",
       "              (LayerNorm): LayerNorm((768,), eps=1e-12, elementwise_affine=True)\n",
       "              (dropout): Dropout(p=0.1, inplace=False)\n",
       "            )\n",
       "          )\n",
       "          (intermediate): BertIntermediate(\n",
       "            (dense): Linear(in_features=768, out_features=3072, bias=True)\n",
       "          )\n",
       "          (output): BertOutput(\n",
       "            (dense): Linear(in_features=3072, out_features=768, bias=True)\n",
       "            (LayerNorm): LayerNorm((768,), eps=1e-12, elementwise_affine=True)\n",
       "            (dropout): Dropout(p=0.1, inplace=False)\n",
       "          )\n",
       "        )\n",
       "        (3): BertLayer(\n",
       "          (attention): BertAttention(\n",
       "            (self): BertSelfAttention(\n",
       "              (query): Linear(in_features=768, out_features=768, bias=True)\n",
       "              (key): Linear(in_features=768, out_features=768, bias=True)\n",
       "              (value): Linear(in_features=768, out_features=768, bias=True)\n",
       "              (dropout): Dropout(p=0.1, inplace=False)\n",
       "            )\n",
       "            (output): BertSelfOutput(\n",
       "              (dense): Linear(in_features=768, out_features=768, bias=True)\n",
       "              (LayerNorm): LayerNorm((768,), eps=1e-12, elementwise_affine=True)\n",
       "              (dropout): Dropout(p=0.1, inplace=False)\n",
       "            )\n",
       "          )\n",
       "          (intermediate): BertIntermediate(\n",
       "            (dense): Linear(in_features=768, out_features=3072, bias=True)\n",
       "          )\n",
       "          (output): BertOutput(\n",
       "            (dense): Linear(in_features=3072, out_features=768, bias=True)\n",
       "            (LayerNorm): LayerNorm((768,), eps=1e-12, elementwise_affine=True)\n",
       "            (dropout): Dropout(p=0.1, inplace=False)\n",
       "          )\n",
       "        )\n",
       "        (4): BertLayer(\n",
       "          (attention): BertAttention(\n",
       "            (self): BertSelfAttention(\n",
       "              (query): Linear(in_features=768, out_features=768, bias=True)\n",
       "              (key): Linear(in_features=768, out_features=768, bias=True)\n",
       "              (value): Linear(in_features=768, out_features=768, bias=True)\n",
       "              (dropout): Dropout(p=0.1, inplace=False)\n",
       "            )\n",
       "            (output): BertSelfOutput(\n",
       "              (dense): Linear(in_features=768, out_features=768, bias=True)\n",
       "              (LayerNorm): LayerNorm((768,), eps=1e-12, elementwise_affine=True)\n",
       "              (dropout): Dropout(p=0.1, inplace=False)\n",
       "            )\n",
       "          )\n",
       "          (intermediate): BertIntermediate(\n",
       "            (dense): Linear(in_features=768, out_features=3072, bias=True)\n",
       "          )\n",
       "          (output): BertOutput(\n",
       "            (dense): Linear(in_features=3072, out_features=768, bias=True)\n",
       "            (LayerNorm): LayerNorm((768,), eps=1e-12, elementwise_affine=True)\n",
       "            (dropout): Dropout(p=0.1, inplace=False)\n",
       "          )\n",
       "        )\n",
       "        (5): BertLayer(\n",
       "          (attention): BertAttention(\n",
       "            (self): BertSelfAttention(\n",
       "              (query): Linear(in_features=768, out_features=768, bias=True)\n",
       "              (key): Linear(in_features=768, out_features=768, bias=True)\n",
       "              (value): Linear(in_features=768, out_features=768, bias=True)\n",
       "              (dropout): Dropout(p=0.1, inplace=False)\n",
       "            )\n",
       "            (output): BertSelfOutput(\n",
       "              (dense): Linear(in_features=768, out_features=768, bias=True)\n",
       "              (LayerNorm): LayerNorm((768,), eps=1e-12, elementwise_affine=True)\n",
       "              (dropout): Dropout(p=0.1, inplace=False)\n",
       "            )\n",
       "          )\n",
       "          (intermediate): BertIntermediate(\n",
       "            (dense): Linear(in_features=768, out_features=3072, bias=True)\n",
       "          )\n",
       "          (output): BertOutput(\n",
       "            (dense): Linear(in_features=3072, out_features=768, bias=True)\n",
       "            (LayerNorm): LayerNorm((768,), eps=1e-12, elementwise_affine=True)\n",
       "            (dropout): Dropout(p=0.1, inplace=False)\n",
       "          )\n",
       "        )\n",
       "        (6): BertLayer(\n",
       "          (attention): BertAttention(\n",
       "            (self): BertSelfAttention(\n",
       "              (query): Linear(in_features=768, out_features=768, bias=True)\n",
       "              (key): Linear(in_features=768, out_features=768, bias=True)\n",
       "              (value): Linear(in_features=768, out_features=768, bias=True)\n",
       "              (dropout): Dropout(p=0.1, inplace=False)\n",
       "            )\n",
       "            (output): BertSelfOutput(\n",
       "              (dense): Linear(in_features=768, out_features=768, bias=True)\n",
       "              (LayerNorm): LayerNorm((768,), eps=1e-12, elementwise_affine=True)\n",
       "              (dropout): Dropout(p=0.1, inplace=False)\n",
       "            )\n",
       "          )\n",
       "          (intermediate): BertIntermediate(\n",
       "            (dense): Linear(in_features=768, out_features=3072, bias=True)\n",
       "          )\n",
       "          (output): BertOutput(\n",
       "            (dense): Linear(in_features=3072, out_features=768, bias=True)\n",
       "            (LayerNorm): LayerNorm((768,), eps=1e-12, elementwise_affine=True)\n",
       "            (dropout): Dropout(p=0.1, inplace=False)\n",
       "          )\n",
       "        )\n",
       "        (7): BertLayer(\n",
       "          (attention): BertAttention(\n",
       "            (self): BertSelfAttention(\n",
       "              (query): Linear(in_features=768, out_features=768, bias=True)\n",
       "              (key): Linear(in_features=768, out_features=768, bias=True)\n",
       "              (value): Linear(in_features=768, out_features=768, bias=True)\n",
       "              (dropout): Dropout(p=0.1, inplace=False)\n",
       "            )\n",
       "            (output): BertSelfOutput(\n",
       "              (dense): Linear(in_features=768, out_features=768, bias=True)\n",
       "              (LayerNorm): LayerNorm((768,), eps=1e-12, elementwise_affine=True)\n",
       "              (dropout): Dropout(p=0.1, inplace=False)\n",
       "            )\n",
       "          )\n",
       "          (intermediate): BertIntermediate(\n",
       "            (dense): Linear(in_features=768, out_features=3072, bias=True)\n",
       "          )\n",
       "          (output): BertOutput(\n",
       "            (dense): Linear(in_features=3072, out_features=768, bias=True)\n",
       "            (LayerNorm): LayerNorm((768,), eps=1e-12, elementwise_affine=True)\n",
       "            (dropout): Dropout(p=0.1, inplace=False)\n",
       "          )\n",
       "        )\n",
       "        (8): BertLayer(\n",
       "          (attention): BertAttention(\n",
       "            (self): BertSelfAttention(\n",
       "              (query): Linear(in_features=768, out_features=768, bias=True)\n",
       "              (key): Linear(in_features=768, out_features=768, bias=True)\n",
       "              (value): Linear(in_features=768, out_features=768, bias=True)\n",
       "              (dropout): Dropout(p=0.1, inplace=False)\n",
       "            )\n",
       "            (output): BertSelfOutput(\n",
       "              (dense): Linear(in_features=768, out_features=768, bias=True)\n",
       "              (LayerNorm): LayerNorm((768,), eps=1e-12, elementwise_affine=True)\n",
       "              (dropout): Dropout(p=0.1, inplace=False)\n",
       "            )\n",
       "          )\n",
       "          (intermediate): BertIntermediate(\n",
       "            (dense): Linear(in_features=768, out_features=3072, bias=True)\n",
       "          )\n",
       "          (output): BertOutput(\n",
       "            (dense): Linear(in_features=3072, out_features=768, bias=True)\n",
       "            (LayerNorm): LayerNorm((768,), eps=1e-12, elementwise_affine=True)\n",
       "            (dropout): Dropout(p=0.1, inplace=False)\n",
       "          )\n",
       "        )\n",
       "        (9): BertLayer(\n",
       "          (attention): BertAttention(\n",
       "            (self): BertSelfAttention(\n",
       "              (query): Linear(in_features=768, out_features=768, bias=True)\n",
       "              (key): Linear(in_features=768, out_features=768, bias=True)\n",
       "              (value): Linear(in_features=768, out_features=768, bias=True)\n",
       "              (dropout): Dropout(p=0.1, inplace=False)\n",
       "            )\n",
       "            (output): BertSelfOutput(\n",
       "              (dense): Linear(in_features=768, out_features=768, bias=True)\n",
       "              (LayerNorm): LayerNorm((768,), eps=1e-12, elementwise_affine=True)\n",
       "              (dropout): Dropout(p=0.1, inplace=False)\n",
       "            )\n",
       "          )\n",
       "          (intermediate): BertIntermediate(\n",
       "            (dense): Linear(in_features=768, out_features=3072, bias=True)\n",
       "          )\n",
       "          (output): BertOutput(\n",
       "            (dense): Linear(in_features=3072, out_features=768, bias=True)\n",
       "            (LayerNorm): LayerNorm((768,), eps=1e-12, elementwise_affine=True)\n",
       "            (dropout): Dropout(p=0.1, inplace=False)\n",
       "          )\n",
       "        )\n",
       "        (10): BertLayer(\n",
       "          (attention): BertAttention(\n",
       "            (self): BertSelfAttention(\n",
       "              (query): Linear(in_features=768, out_features=768, bias=True)\n",
       "              (key): Linear(in_features=768, out_features=768, bias=True)\n",
       "              (value): Linear(in_features=768, out_features=768, bias=True)\n",
       "              (dropout): Dropout(p=0.1, inplace=False)\n",
       "            )\n",
       "            (output): BertSelfOutput(\n",
       "              (dense): Linear(in_features=768, out_features=768, bias=True)\n",
       "              (LayerNorm): LayerNorm((768,), eps=1e-12, elementwise_affine=True)\n",
       "              (dropout): Dropout(p=0.1, inplace=False)\n",
       "            )\n",
       "          )\n",
       "          (intermediate): BertIntermediate(\n",
       "            (dense): Linear(in_features=768, out_features=3072, bias=True)\n",
       "          )\n",
       "          (output): BertOutput(\n",
       "            (dense): Linear(in_features=3072, out_features=768, bias=True)\n",
       "            (LayerNorm): LayerNorm((768,), eps=1e-12, elementwise_affine=True)\n",
       "            (dropout): Dropout(p=0.1, inplace=False)\n",
       "          )\n",
       "        )\n",
       "        (11): BertLayer(\n",
       "          (attention): BertAttention(\n",
       "            (self): BertSelfAttention(\n",
       "              (query): Linear(in_features=768, out_features=768, bias=True)\n",
       "              (key): Linear(in_features=768, out_features=768, bias=True)\n",
       "              (value): Linear(in_features=768, out_features=768, bias=True)\n",
       "              (dropout): Dropout(p=0.1, inplace=False)\n",
       "            )\n",
       "            (output): BertSelfOutput(\n",
       "              (dense): Linear(in_features=768, out_features=768, bias=True)\n",
       "              (LayerNorm): LayerNorm((768,), eps=1e-12, elementwise_affine=True)\n",
       "              (dropout): Dropout(p=0.1, inplace=False)\n",
       "            )\n",
       "          )\n",
       "          (intermediate): BertIntermediate(\n",
       "            (dense): Linear(in_features=768, out_features=3072, bias=True)\n",
       "          )\n",
       "          (output): BertOutput(\n",
       "            (dense): Linear(in_features=3072, out_features=768, bias=True)\n",
       "            (LayerNorm): LayerNorm((768,), eps=1e-12, elementwise_affine=True)\n",
       "            (dropout): Dropout(p=0.1, inplace=False)\n",
       "          )\n",
       "        )\n",
       "      )\n",
       "    )\n",
       "    (pooler): BertPooler(\n",
       "      (dense): Linear(in_features=768, out_features=768, bias=True)\n",
       "      (activation): Tanh()\n",
       "    )\n",
       "  )\n",
       "  (dropout): Dropout(p=0.1, inplace=False)\n",
       "  (classifier): Linear(in_features=768, out_features=1, bias=True)\n",
       ")"
      ]
     },
     "execution_count": 54,
     "metadata": {
      "tags": []
     },
     "output_type": "execute_result"
    }
   ],
   "source": [
    "model.to(device)"
   ]
  },
  {
   "cell_type": "markdown",
   "metadata": {
    "id": "d7EnsR2Tld2m"
   },
   "source": [
    "Output is of the class `MultipleChoiceModelOutput`. It contains the following elements:\n",
    "\n",
    "            loss=loss,\n",
    "            logits=reshaped_logits,\n",
    "            hidden_states=outputs.hidden_states,\n",
    "            attentions=outputs.attentions,\n",
    "        \n"
   ]
  },
  {
   "cell_type": "markdown",
   "metadata": {
    "id": "6AtPb4Huld2p"
   },
   "source": [
    "Let's see if we can train it some more. \n",
    "\n",
    "1. Forward pass to make predictions\n",
    "2. Calculate loss\n",
    "3. Backward pass: compute gradient of the loss with respect to all the learnable parameters of the model.\n"
   ]
  },
  {
   "cell_type": "code",
   "execution_count": 55,
   "metadata": {
    "colab": {
     "base_uri": "https://localhost:8080/"
    },
    "id": "u8nVeTxD5Y06",
    "outputId": "bf494120-07d6-44fc-fe28-263663f13e3d"
   },
   "outputs": [
    {
     "name": "stderr",
     "output_type": "stream",
     "text": [
      "11/29/2020 23:14:27 - INFO - pytorch_pretrained_bert.modeling -   Better speed can be achieved with apex installed from https://www.github.com/nvidia/apex .\n"
     ]
    }
   ],
   "source": [
    "# Set up optimizer \n",
    "from pytorch_pretrained_bert.optimization import BertAdam\n",
    "\n",
    "no_decay = ['bias', 'gamma', 'beta']\n",
    "num_train_steps = int(len(train_examples) / args.train_batch_size / args.gradient_accumulation_steps * args.num_train_epochs)\n",
    "\n",
    "t_total = num_train_steps\n",
    "param_optimizer = list(model.named_parameters())\n",
    "optimizer_grouped_parameters = [\n",
    "        {'params': [p for n, p in param_optimizer if not any(nd in n for nd in no_decay)], 'weight_decay_rate': 0.01},\n",
    "        {'params': [p for n, p in param_optimizer if any(nd in n for nd in no_decay)], 'weight_decay_rate': 0.0}\n",
    "        ]\n",
    "optimizer = BertAdam(optimizer_grouped_parameters,\n",
    "                         lr=args.learning_rate,\n",
    "                         warmup=args.warmup_proportion,\n",
    "                         t_total=t_total)"
   ]
  },
  {
   "cell_type": "code",
   "execution_count": 56,
   "metadata": {
    "colab": {
     "base_uri": "https://localhost:8080/"
    },
    "id": "-vDLQXBl4jqa",
    "outputId": "38a75c60-5d81-44dc-b530-5cdb545a9f77"
   },
   "outputs": [
    {
     "name": "stderr",
     "output_type": "stream",
     "text": [
      "\r",
      "Iteration:   0%|          | 0/609 [00:00<?, ?it/s]"
     ]
    },
    {
     "name": "stdout",
     "output_type": "stream",
     "text": [
      "epoch 20201129_151507\n"
     ]
    },
    {
     "name": "stderr",
     "output_type": "stream",
     "text": [
      "Iteration: 100%|██████████| 609/609 [06:28<00:00,  1.57it/s]\n",
      "Iteration:   0%|          | 0/609 [00:00<?, ?it/s]"
     ]
    },
    {
     "name": "stdout",
     "output_type": "stream",
     "text": [
      "epoch 20201129_152135\n"
     ]
    },
    {
     "name": "stderr",
     "output_type": "stream",
     "text": [
      "Iteration: 100%|██████████| 609/609 [06:32<00:00,  1.55it/s]\n",
      "Iteration:   0%|          | 0/609 [00:00<?, ?it/s]"
     ]
    },
    {
     "name": "stdout",
     "output_type": "stream",
     "text": [
      "epoch 20201129_152808\n"
     ]
    },
    {
     "name": "stderr",
     "output_type": "stream",
     "text": [
      "Iteration: 100%|██████████| 609/609 [06:32<00:00,  1.55it/s]\n"
     ]
    }
   ],
   "source": [
    "# Update loss at every epoch rather than little batches. \n",
    "\n",
    "num_epochs=args.num_train_epochs\n",
    "\n",
    "# Prepare data by processing features into inputs\n",
    "all_input_ids = torch.tensor(select_field(train_features, 'input_ids'), dtype=torch.long)\n",
    "all_input_mask = torch.tensor(select_field(train_features, 'input_mask'), dtype=torch.long)\n",
    "all_segment_ids = torch.tensor(select_field(train_features, 'segment_ids'), dtype=torch.long)\n",
    "all_label = torch.tensor([f.label for f in train_features], dtype=torch.long)\n",
    "\n",
    "# Package it all nicely into a TensorDataset \n",
    "train_data = TensorDataset(all_input_ids, all_input_mask, all_segment_ids, all_label)\n",
    "\n",
    "# Then package it into a DataLoader that can be batched and processed \n",
    "train_sampler = RandomSampler(train_data)\n",
    "train_dataloader = DataLoader(train_data, sampler=train_sampler, batch_size=args.train_batch_size)\n",
    "\n",
    "global_step = 0\n",
    "model.train()  # Models are initialized in eval mode by default. We can call model.train() to put it in train mode.\n",
    "for epoch in range(num_epochs):\n",
    "  # Reset for epoch: tr loss, number of training examples, training steps \n",
    "  tr_loss = 0\n",
    "  nb_tr_examples, nb_tr_steps = 0, 0\n",
    "\n",
    "  print(\"epoch\", datetime.now(pytz.timezone('US/Pacific')).strftime(\"%Y%m%d_%H%M%S\"))\n",
    "\n",
    "  for step, batch in enumerate(tqdm(train_dataloader, desc=\"Iteration\")):\n",
    "    # Create a batch \n",
    "    batch = tuple(t.to(device) for t in batch)\n",
    "    input_ids, input_mask, segment_ids, label_ids = batch\n",
    "\n",
    "    # Calculate loss from forward feed method \n",
    "    output = model(input_ids=input_ids, \n",
    "                 attention_mask=input_mask, \n",
    "                 token_type_ids=segment_ids,\n",
    "                 labels=label_ids,\n",
    "                 return_dict=True)\n",
    "    loss=output[\"loss\"]\n",
    "    \n",
    "    # back prop\n",
    "    loss.backward()\n",
    "    # print(\"\\nbackprop!\", epoch, step)\n",
    "\n",
    "    # add to tr loss\n",
    "    tr_loss += loss.item()\n",
    "    nb_tr_examples += input_ids.size(0)\n",
    "    nb_tr_steps += 1\n",
    "    \n",
    "    if (step + 1) % args.gradient_accumulation_steps == 0:   # Number of updates steps to accumulate before performing a backward/update pass.\n",
    "      # update \n",
    "      optimizer.step()\n",
    "      # reset gradient \n",
    "      model.zero_grad()\n",
    "      global_step += 1\n",
    "      \n",
    "      # Show the answer choice with the highest score for each question \n",
    "      train_predictions = torch.argmax(torch.nn.functional.softmax(output[\"logits\"]), dim=1)\n",
    "      # Accuracy against train data\n",
    "      train_accuracy = float(sum(label_ids==train_predictions))/len(label_ids)\n",
    "      \n",
    "      # log loss \n",
    "      # print(\"\\nLogging:\", global_step)\n",
    "      writer.add_scalar('training loss', \n",
    "                      loss.item(), \n",
    "                      global_step)\n",
    "      # Log accuracy against train data\n",
    "      writer.add_scalar('train accuracy', train_accuracy, global_step)\n",
    "\n"
   ]
  },
  {
   "cell_type": "code",
   "execution_count": null,
   "metadata": {
    "id": "XTBiRlaKi-3x"
   },
   "outputs": [],
   "source": [
    "all_input_ids = torch.tensor(select_field(dev_features, 'input_ids'), dtype=torch.long)\n",
    "all_input_mask = torch.tensor(select_field(dev_features, 'input_mask'), dtype=torch.long)\n",
    "all_segment_ids = torch.tensor(select_field(dev_features, 'segment_ids'), dtype=torch.long)\n",
    "all_label = torch.tensor([f.label for f in dev_features], dtype=torch.long)\n",
    "eval_data = TensorDataset(all_input_ids, all_input_mask, all_segment_ids, all_label)\n",
    "\n",
    "# Run prediction for full data\n",
    "eval_sampler = SequentialSampler(eval_data)\n",
    "eval_dataloader = DataLoader(eval_data, sampler=eval_sampler, batch_size=args.eval_batch_size)\n",
    "\n",
    "model.eval()\n",
    "eval_loss, eval_accuracy = 0, 0\n",
    "nb_eval_steps, nb_eval_examples = 0, 0\n",
    "for input_ids, input_mask, segment_ids, label_ids in eval_dataloader:\n",
    "    input_ids = input_ids.to(device)\n",
    "    input_mask = input_mask.to(device)\n",
    "    segment_ids = segment_ids.to(device)\n",
    "    label_ids = label_ids.to(device)\n",
    "\n",
    "    # Since we're using dev set just to evaluate the data,\n",
    "    # make sure not to update anything. \n",
    "    with torch.no_grad():\n",
    "        eval_output = model.forward(\n",
    "          input_ids=input_ids,\n",
    "          attention_mask=input_mask,\n",
    "          token_type_ids=segment_ids,\n",
    "          labels=label_ids,\n",
    "          return_dict=True,\n",
    "      )\n",
    "        tmp_eval_loss = eval_output[\"loss\"]\n",
    "        logits = eval_output[\"logits\"]\n",
    "\n",
    "    logits = logits.detach().cpu().numpy()\n",
    "    label_ids = label_ids.to('cpu').numpy()\n",
    "    tmp_eval_accuracy = accuracy(logits, label_ids)\n",
    "\n",
    "    eval_loss += tmp_eval_loss.mean().item()\n",
    "    eval_accuracy += tmp_eval_accuracy\n",
    "\n",
    "    nb_eval_examples += input_ids.size(0)\n",
    "    nb_eval_steps += 1\n",
    "\n",
    "eval_loss = eval_loss / nb_eval_steps\n",
    "eval_accuracy = eval_accuracy / nb_eval_examples\n",
    "\n",
    "# Show the answer choice with the highest score for each question \n",
    "dev_predictions = torch.argmax(torch.nn.functional.softmax(eval_output[\"logits\"]), dim=1)\n",
    "\n",
    "result = {'eval_loss': eval_loss,\n",
    "          'eval_accuracy': eval_accuracy,\n",
    "          'global_step': global_step#,\n",
    "          #'loss': tr_loss/nb_tr_steps\n",
    "          }\n",
    "\n",
    "output_eval_file =  \"eval_results_{}.txt\".format(NAME)\n",
    "with open(output_eval_file, \"w\") as writer:\n",
    "    logger.info(\"***** Eval results *****\")\n",
    "    for key in sorted(result.keys()):\n",
    "        logger.info(\"  %s = %s\", key, str(result[key]))\n",
    "        writer.write(\"%s = %s\\n\" % (key, str(result[key])))\n"
   ]
  },
  {
   "cell_type": "code",
   "execution_count": 58,
   "metadata": {
    "colab": {
     "base_uri": "https://localhost:8080/",
     "height": 35
    },
    "id": "0p9HGhG6s7CK",
    "outputId": "719b9479-8533-4614-c625-0fc473b75407"
   },
   "outputs": [
    {
     "data": {
      "application/vnd.google.colaboratory.intrinsic+json": {
       "type": "string"
      },
      "text/plain": [
       "'BertForMultipleChoice__full_allgrad_newlr_b16_20201129_145722'"
      ]
     },
     "execution_count": 58,
     "metadata": {
      "tags": []
     },
     "output_type": "execute_result"
    }
   ],
   "source": [
    "NAME"
   ]
  },
  {
   "cell_type": "markdown",
   "metadata": {
    "id": "3q4XW6F0s3HQ"
   },
   "source": [
    "\n",
    "**BertForMultipleChoice__full_allgrad_newlr_b16_20201028_210307**\n",
    "\n",
    "    10/29/2020 05:54:54 - INFO - __main__ -   ***** Eval results *****\n",
    "    10/29/2020 05:54:54 - INFO - __main__ -     eval_accuracy = 0.5634725634725635\n",
    "    10/29/2020 05:54:54 - INFO - __main__ -     eval_loss = 1.3910671822191063\n",
    "    10/29/2020 05:54:54 - INFO - __main__ -     global_step = 1827\n"
   ]
  },
  {
   "cell_type": "code",
   "execution_count": 62,
   "metadata": {
    "id": "J1uJCZEY44rB"
   },
   "outputs": [],
   "source": [
    "# Save model\n",
    "torch.save(model.state_dict(), \"models/\"+NAME)\n",
    "\n",
    "# Save dev predictions \n",
    "fordump = eval_output \n",
    "dir = \"models/\"\n",
    "filename = \"{NAME}_dev_predictions\".format(NAME=NAME)\n",
    "pickle_out = open(dir + filename, \"wb\")\n",
    "pickle.dump(fordump, pickle_out)\n",
    "pickle_out.close()"
   ]
  },
  {
   "cell_type": "code",
   "execution_count": null,
   "metadata": {
    "id": "8duTngvYeF3w"
   },
   "outputs": [],
   "source": []
  },
  {
   "cell_type": "code",
   "execution_count": null,
   "metadata": {
    "id": "OV3gsfdplDxr"
   },
   "outputs": [],
   "source": [
    "%tensorboard --logdir \"runs/\""
   ]
  },
  {
   "cell_type": "code",
   "execution_count": null,
   "metadata": {
    "id": "q8OkbocFsS57"
   },
   "outputs": [],
   "source": []
  },
  {
   "cell_type": "code",
   "execution_count": null,
   "metadata": {
    "id": "pel0mLI8oc2h"
   },
   "outputs": [],
   "source": []
  }
 ],
 "metadata": {
  "accelerator": "GPU",
  "colab": {
   "collapsed_sections": [],
   "name": "GPU BertForMultipleChoice (PyTorch).ipynb",
   "provenance": []
  },
  "kernelspec": {
   "display_name": "Python 3",
   "language": "python",
   "name": "python3"
  },
  "language_info": {
   "codemirror_mode": {
    "name": "ipython",
    "version": 3
   },
   "file_extension": ".py",
   "mimetype": "text/x-python",
   "name": "python",
   "nbconvert_exporter": "python",
   "pygments_lexer": "ipython3",
   "version": "3.8.3"
  },
  "widgets": {
   "application/vnd.jupyter.widget-state+json": {
    "01506380c81d480fa8eb9042e44cfcd0": {
     "model_module": "@jupyter-widgets/controls",
     "model_name": "FloatProgressModel",
     "state": {
      "_dom_classes": [],
      "_model_module": "@jupyter-widgets/controls",
      "_model_module_version": "1.5.0",
      "_model_name": "FloatProgressModel",
      "_view_count": null,
      "_view_module": "@jupyter-widgets/controls",
      "_view_module_version": "1.5.0",
      "_view_name": "ProgressView",
      "bar_style": "success",
      "description": "Downloading: 100%",
      "description_tooltip": null,
      "layout": "IPY_MODEL_6ffdfcf2f11641c2b526ff648fbf514e",
      "max": 423148,
      "min": 0,
      "orientation": "horizontal",
      "style": "IPY_MODEL_f6cb59f7a6bb4afcaf3f4909739b83f1",
      "value": 423148
     }
    },
    "020f2ba593d34dc8a08359858268e2e3": {
     "model_module": "@jupyter-widgets/controls",
     "model_name": "HTMLModel",
     "state": {
      "_dom_classes": [],
      "_model_module": "@jupyter-widgets/controls",
      "_model_module_version": "1.5.0",
      "_model_name": "HTMLModel",
      "_view_count": null,
      "_view_module": "@jupyter-widgets/controls",
      "_view_module_version": "1.5.0",
      "_view_name": "HTMLView",
      "description": "",
      "description_tooltip": null,
      "layout": "IPY_MODEL_684579d6bbb7455a818a5b5d7f123b74",
      "placeholder": "​",
      "style": "IPY_MODEL_0f901c632dec411c9bf681848c206c5a",
      "value": " 1140/0 [00:00&lt;00:00, 8239.24 examples/s]"
     }
    },
    "03421d4587194188826d9891a28232a7": {
     "model_module": "@jupyter-widgets/base",
     "model_name": "LayoutModel",
     "state": {
      "_model_module": "@jupyter-widgets/base",
      "_model_module_version": "1.2.0",
      "_model_name": "LayoutModel",
      "_view_count": null,
      "_view_module": "@jupyter-widgets/base",
      "_view_module_version": "1.2.0",
      "_view_name": "LayoutView",
      "align_content": null,
      "align_items": null,
      "align_self": null,
      "border": null,
      "bottom": null,
      "display": null,
      "flex": null,
      "flex_flow": null,
      "grid_area": null,
      "grid_auto_columns": null,
      "grid_auto_flow": null,
      "grid_auto_rows": null,
      "grid_column": null,
      "grid_gap": null,
      "grid_row": null,
      "grid_template_areas": null,
      "grid_template_columns": null,
      "grid_template_rows": null,
      "height": null,
      "justify_content": null,
      "justify_items": null,
      "left": null,
      "margin": null,
      "max_height": null,
      "max_width": null,
      "min_height": null,
      "min_width": null,
      "object_fit": null,
      "object_position": null,
      "order": null,
      "overflow": null,
      "overflow_x": null,
      "overflow_y": null,
      "padding": null,
      "right": null,
      "top": null,
      "visibility": null,
      "width": null
     }
    },
    "05f8ca8e89174270bacfcdfc2d00985e": {
     "model_module": "@jupyter-widgets/controls",
     "model_name": "HBoxModel",
     "state": {
      "_dom_classes": [],
      "_model_module": "@jupyter-widgets/controls",
      "_model_module_version": "1.5.0",
      "_model_name": "HBoxModel",
      "_view_count": null,
      "_view_module": "@jupyter-widgets/controls",
      "_view_module_version": "1.5.0",
      "_view_name": "HBoxView",
      "box_style": "",
      "children": [
       "IPY_MODEL_86982dad55ac4335a1b22ecca697b919",
       "IPY_MODEL_e6bede9b39aa427a87566a0cc6dc7c13"
      ],
      "layout": "IPY_MODEL_7800e8b6b0bf47a1827b309023b057e5"
     }
    },
    "086a988bd52c4f76ae600f3c2cdcf941": {
     "model_module": "@jupyter-widgets/base",
     "model_name": "LayoutModel",
     "state": {
      "_model_module": "@jupyter-widgets/base",
      "_model_module_version": "1.2.0",
      "_model_name": "LayoutModel",
      "_view_count": null,
      "_view_module": "@jupyter-widgets/base",
      "_view_module_version": "1.2.0",
      "_view_name": "LayoutView",
      "align_content": null,
      "align_items": null,
      "align_self": null,
      "border": null,
      "bottom": null,
      "display": null,
      "flex": null,
      "flex_flow": null,
      "grid_area": null,
      "grid_auto_columns": null,
      "grid_auto_flow": null,
      "grid_auto_rows": null,
      "grid_column": null,
      "grid_gap": null,
      "grid_row": null,
      "grid_template_areas": null,
      "grid_template_columns": null,
      "grid_template_rows": null,
      "height": null,
      "justify_content": null,
      "justify_items": null,
      "left": null,
      "margin": null,
      "max_height": null,
      "max_width": null,
      "min_height": null,
      "min_width": null,
      "object_fit": null,
      "object_position": null,
      "order": null,
      "overflow": null,
      "overflow_x": null,
      "overflow_y": null,
      "padding": null,
      "right": null,
      "top": null,
      "visibility": null,
      "width": null
     }
    },
    "0b39d5da98ae43a29530c14a02416a3d": {
     "model_module": "@jupyter-widgets/controls",
     "model_name": "DescriptionStyleModel",
     "state": {
      "_model_module": "@jupyter-widgets/controls",
      "_model_module_version": "1.5.0",
      "_model_name": "DescriptionStyleModel",
      "_view_count": null,
      "_view_module": "@jupyter-widgets/base",
      "_view_module_version": "1.2.0",
      "_view_name": "StyleView",
      "description_width": ""
     }
    },
    "0f65e270b31a41d6a06bc9717af312c5": {
     "model_module": "@jupyter-widgets/controls",
     "model_name": "FloatProgressModel",
     "state": {
      "_dom_classes": [],
      "_model_module": "@jupyter-widgets/controls",
      "_model_module_version": "1.5.0",
      "_model_name": "FloatProgressModel",
      "_view_count": null,
      "_view_module": "@jupyter-widgets/controls",
      "_view_module_version": "1.5.0",
      "_view_name": "ProgressView",
      "bar_style": "success",
      "description": "Downloading: 100%",
      "description_tooltip": null,
      "layout": "IPY_MODEL_5ce943f235774da4ae61e6cb5fd09bbe",
      "max": 471653,
      "min": 0,
      "orientation": "horizontal",
      "style": "IPY_MODEL_5c9f54f6ad304390bfa506f81efe6321",
      "value": 471653
     }
    },
    "0f901c632dec411c9bf681848c206c5a": {
     "model_module": "@jupyter-widgets/controls",
     "model_name": "DescriptionStyleModel",
     "state": {
      "_model_module": "@jupyter-widgets/controls",
      "_model_module_version": "1.5.0",
      "_model_name": "DescriptionStyleModel",
      "_view_count": null,
      "_view_module": "@jupyter-widgets/base",
      "_view_module_version": "1.2.0",
      "_view_name": "StyleView",
      "description_width": ""
     }
    },
    "147a720b11f74fd39dcedd957c39af94": {
     "model_module": "@jupyter-widgets/base",
     "model_name": "LayoutModel",
     "state": {
      "_model_module": "@jupyter-widgets/base",
      "_model_module_version": "1.2.0",
      "_model_name": "LayoutModel",
      "_view_count": null,
      "_view_module": "@jupyter-widgets/base",
      "_view_module_version": "1.2.0",
      "_view_name": "LayoutView",
      "align_content": null,
      "align_items": null,
      "align_self": null,
      "border": null,
      "bottom": null,
      "display": null,
      "flex": null,
      "flex_flow": null,
      "grid_area": null,
      "grid_auto_columns": null,
      "grid_auto_flow": null,
      "grid_auto_rows": null,
      "grid_column": null,
      "grid_gap": null,
      "grid_row": null,
      "grid_template_areas": null,
      "grid_template_columns": null,
      "grid_template_rows": null,
      "height": null,
      "justify_content": null,
      "justify_items": null,
      "left": null,
      "margin": null,
      "max_height": null,
      "max_width": null,
      "min_height": null,
      "min_width": null,
      "object_fit": null,
      "object_position": null,
      "order": null,
      "overflow": null,
      "overflow_x": null,
      "overflow_y": null,
      "padding": null,
      "right": null,
      "top": null,
      "visibility": null,
      "width": null
     }
    },
    "15a1e9c2e7b74303b9430fd54fa36f23": {
     "model_module": "@jupyter-widgets/base",
     "model_name": "LayoutModel",
     "state": {
      "_model_module": "@jupyter-widgets/base",
      "_model_module_version": "1.2.0",
      "_model_name": "LayoutModel",
      "_view_count": null,
      "_view_module": "@jupyter-widgets/base",
      "_view_module_version": "1.2.0",
      "_view_name": "LayoutView",
      "align_content": null,
      "align_items": null,
      "align_self": null,
      "border": null,
      "bottom": null,
      "display": null,
      "flex": null,
      "flex_flow": null,
      "grid_area": null,
      "grid_auto_columns": null,
      "grid_auto_flow": null,
      "grid_auto_rows": null,
      "grid_column": null,
      "grid_gap": null,
      "grid_row": null,
      "grid_template_areas": null,
      "grid_template_columns": null,
      "grid_template_rows": null,
      "height": null,
      "justify_content": null,
      "justify_items": null,
      "left": null,
      "margin": null,
      "max_height": null,
      "max_width": null,
      "min_height": null,
      "min_width": null,
      "object_fit": null,
      "object_position": null,
      "order": null,
      "overflow": null,
      "overflow_x": null,
      "overflow_y": null,
      "padding": null,
      "right": null,
      "top": null,
      "visibility": null,
      "width": null
     }
    },
    "17d0e6400bb64b299b6cf66a2851579d": {
     "model_module": "@jupyter-widgets/base",
     "model_name": "LayoutModel",
     "state": {
      "_model_module": "@jupyter-widgets/base",
      "_model_module_version": "1.2.0",
      "_model_name": "LayoutModel",
      "_view_count": null,
      "_view_module": "@jupyter-widgets/base",
      "_view_module_version": "1.2.0",
      "_view_name": "LayoutView",
      "align_content": null,
      "align_items": null,
      "align_self": null,
      "border": null,
      "bottom": null,
      "display": null,
      "flex": null,
      "flex_flow": null,
      "grid_area": null,
      "grid_auto_columns": null,
      "grid_auto_flow": null,
      "grid_auto_rows": null,
      "grid_column": null,
      "grid_gap": null,
      "grid_row": null,
      "grid_template_areas": null,
      "grid_template_columns": null,
      "grid_template_rows": null,
      "height": null,
      "justify_content": null,
      "justify_items": null,
      "left": null,
      "margin": null,
      "max_height": null,
      "max_width": null,
      "min_height": null,
      "min_width": null,
      "object_fit": null,
      "object_position": null,
      "order": null,
      "overflow": null,
      "overflow_x": null,
      "overflow_y": null,
      "padding": null,
      "right": null,
      "top": null,
      "visibility": null,
      "width": null
     }
    },
    "183e9f970a5d40e0a175e25524c0d718": {
     "model_module": "@jupyter-widgets/controls",
     "model_name": "ProgressStyleModel",
     "state": {
      "_model_module": "@jupyter-widgets/controls",
      "_model_module_version": "1.5.0",
      "_model_name": "ProgressStyleModel",
      "_view_count": null,
      "_view_module": "@jupyter-widgets/base",
      "_view_module_version": "1.2.0",
      "_view_name": "StyleView",
      "bar_color": null,
      "description_width": "initial"
     }
    },
    "198e452fb24045f08534d97053b4fb5a": {
     "model_module": "@jupyter-widgets/base",
     "model_name": "LayoutModel",
     "state": {
      "_model_module": "@jupyter-widgets/base",
      "_model_module_version": "1.2.0",
      "_model_name": "LayoutModel",
      "_view_count": null,
      "_view_module": "@jupyter-widgets/base",
      "_view_module_version": "1.2.0",
      "_view_name": "LayoutView",
      "align_content": null,
      "align_items": null,
      "align_self": null,
      "border": null,
      "bottom": null,
      "display": null,
      "flex": null,
      "flex_flow": null,
      "grid_area": null,
      "grid_auto_columns": null,
      "grid_auto_flow": null,
      "grid_auto_rows": null,
      "grid_column": null,
      "grid_gap": null,
      "grid_row": null,
      "grid_template_areas": null,
      "grid_template_columns": null,
      "grid_template_rows": null,
      "height": null,
      "justify_content": null,
      "justify_items": null,
      "left": null,
      "margin": null,
      "max_height": null,
      "max_width": null,
      "min_height": null,
      "min_width": null,
      "object_fit": null,
      "object_position": null,
      "order": null,
      "overflow": null,
      "overflow_x": null,
      "overflow_y": null,
      "padding": null,
      "right": null,
      "top": null,
      "visibility": null,
      "width": null
     }
    },
    "1dca7b042a82426c85eb9116ff58084e": {
     "model_module": "@jupyter-widgets/controls",
     "model_name": "HTMLModel",
     "state": {
      "_dom_classes": [],
      "_model_module": "@jupyter-widgets/controls",
      "_model_module_version": "1.5.0",
      "_model_name": "HTMLModel",
      "_view_count": null,
      "_view_module": "@jupyter-widgets/controls",
      "_view_module_version": "1.5.0",
      "_view_name": "HTMLView",
      "description": "",
      "description_tooltip": null,
      "layout": "IPY_MODEL_3b8fc300f7d1402d80c81b53bccc400f",
      "placeholder": "​",
      "style": "IPY_MODEL_0b39d5da98ae43a29530c14a02416a3d",
      "value": " 1221/0 [00:00&lt;00:00, 10164.24 examples/s]"
     }
    },
    "243ad597f90649968895058029937f46": {
     "model_module": "@jupyter-widgets/controls",
     "model_name": "FloatProgressModel",
     "state": {
      "_dom_classes": [],
      "_model_module": "@jupyter-widgets/controls",
      "_model_module_version": "1.5.0",
      "_model_name": "FloatProgressModel",
      "_view_count": null,
      "_view_module": "@jupyter-widgets/controls",
      "_view_module_version": "1.5.0",
      "_view_name": "ProgressView",
      "bar_style": "success",
      "description": "Downloading: 100%",
      "description_tooltip": null,
      "layout": "IPY_MODEL_15a1e9c2e7b74303b9430fd54fa36f23",
      "max": 2306,
      "min": 0,
      "orientation": "horizontal",
      "style": "IPY_MODEL_8297742a00634502a571ff76b8171ad2",
      "value": 2306
     }
    },
    "25b832a1527644f382269ba32fa66e48": {
     "model_module": "@jupyter-widgets/controls",
     "model_name": "DescriptionStyleModel",
     "state": {
      "_model_module": "@jupyter-widgets/controls",
      "_model_module_version": "1.5.0",
      "_model_name": "DescriptionStyleModel",
      "_view_count": null,
      "_view_module": "@jupyter-widgets/base",
      "_view_module_version": "1.2.0",
      "_view_name": "StyleView",
      "description_width": ""
     }
    },
    "2ac47a230b4b49c29e953e894b48f9aa": {
     "model_module": "@jupyter-widgets/base",
     "model_name": "LayoutModel",
     "state": {
      "_model_module": "@jupyter-widgets/base",
      "_model_module_version": "1.2.0",
      "_model_name": "LayoutModel",
      "_view_count": null,
      "_view_module": "@jupyter-widgets/base",
      "_view_module_version": "1.2.0",
      "_view_name": "LayoutView",
      "align_content": null,
      "align_items": null,
      "align_self": null,
      "border": null,
      "bottom": null,
      "display": null,
      "flex": null,
      "flex_flow": null,
      "grid_area": null,
      "grid_auto_columns": null,
      "grid_auto_flow": null,
      "grid_auto_rows": null,
      "grid_column": null,
      "grid_gap": null,
      "grid_row": null,
      "grid_template_areas": null,
      "grid_template_columns": null,
      "grid_template_rows": null,
      "height": null,
      "justify_content": null,
      "justify_items": null,
      "left": null,
      "margin": null,
      "max_height": null,
      "max_width": null,
      "min_height": null,
      "min_width": null,
      "object_fit": null,
      "object_position": null,
      "order": null,
      "overflow": null,
      "overflow_x": null,
      "overflow_y": null,
      "padding": null,
      "right": null,
      "top": null,
      "visibility": null,
      "width": null
     }
    },
    "2d3490773e5849ed9ea2667f1aae5a97": {
     "model_module": "@jupyter-widgets/controls",
     "model_name": "HBoxModel",
     "state": {
      "_dom_classes": [],
      "_model_module": "@jupyter-widgets/controls",
      "_model_module_version": "1.5.0",
      "_model_name": "HBoxModel",
      "_view_count": null,
      "_view_module": "@jupyter-widgets/controls",
      "_view_module_version": "1.5.0",
      "_view_name": "HBoxView",
      "box_style": "",
      "children": [
       "IPY_MODEL_9ec829bd774a42ca90571c8f9c5f25ca",
       "IPY_MODEL_1dca7b042a82426c85eb9116ff58084e"
      ],
      "layout": "IPY_MODEL_e4fb9362cdfd4eeca72e9860b405fb20"
     }
    },
    "3254060acf934149b2efc2b25cf38765": {
     "model_module": "@jupyter-widgets/controls",
     "model_name": "HBoxModel",
     "state": {
      "_dom_classes": [],
      "_model_module": "@jupyter-widgets/controls",
      "_model_module_version": "1.5.0",
      "_model_name": "HBoxModel",
      "_view_count": null,
      "_view_module": "@jupyter-widgets/controls",
      "_view_module_version": "1.5.0",
      "_view_name": "HBoxView",
      "box_style": "",
      "children": [
       "IPY_MODEL_243ad597f90649968895058029937f46",
       "IPY_MODEL_6b096791353d4d269ec1dc173c10efd3"
      ],
      "layout": "IPY_MODEL_17d0e6400bb64b299b6cf66a2851579d"
     }
    },
    "33c4a940931b4ae681e6a8a18e8c3058": {
     "model_module": "@jupyter-widgets/controls",
     "model_name": "FloatProgressModel",
     "state": {
      "_dom_classes": [],
      "_model_module": "@jupyter-widgets/controls",
      "_model_module_version": "1.5.0",
      "_model_name": "FloatProgressModel",
      "_view_count": null,
      "_view_module": "@jupyter-widgets/controls",
      "_view_module_version": "1.5.0",
      "_view_name": "ProgressView",
      "bar_style": "success",
      "description": "Downloading: 100%",
      "description_tooltip": null,
      "layout": "IPY_MODEL_6bb51b41c92f4b8b804195a7e955efc1",
      "max": 440473133,
      "min": 0,
      "orientation": "horizontal",
      "style": "IPY_MODEL_a8946025998b46458cdcba12e76e6ea6",
      "value": 440473133
     }
    },
    "3a983100d07745ca879d554861ba4c03": {
     "model_module": "@jupyter-widgets/controls",
     "model_name": "HTMLModel",
     "state": {
      "_dom_classes": [],
      "_model_module": "@jupyter-widgets/controls",
      "_model_module_version": "1.5.0",
      "_model_name": "HTMLModel",
      "_view_count": null,
      "_view_module": "@jupyter-widgets/controls",
      "_view_module_version": "1.5.0",
      "_view_name": "HTMLView",
      "description": "",
      "description_tooltip": null,
      "layout": "IPY_MODEL_ac1e5674be184492b069aefb5e293847",
      "placeholder": "​",
      "style": "IPY_MODEL_82c51bafbcdc4e7db7a444d42127b0bc",
      "value": " 3.79M/3.79M [00:00&lt;00:00, 20.1MB/s]"
     }
    },
    "3b8fc300f7d1402d80c81b53bccc400f": {
     "model_module": "@jupyter-widgets/base",
     "model_name": "LayoutModel",
     "state": {
      "_model_module": "@jupyter-widgets/base",
      "_model_module_version": "1.2.0",
      "_model_name": "LayoutModel",
      "_view_count": null,
      "_view_module": "@jupyter-widgets/base",
      "_view_module_version": "1.2.0",
      "_view_name": "LayoutView",
      "align_content": null,
      "align_items": null,
      "align_self": null,
      "border": null,
      "bottom": null,
      "display": null,
      "flex": null,
      "flex_flow": null,
      "grid_area": null,
      "grid_auto_columns": null,
      "grid_auto_flow": null,
      "grid_auto_rows": null,
      "grid_column": null,
      "grid_gap": null,
      "grid_row": null,
      "grid_template_areas": null,
      "grid_template_columns": null,
      "grid_template_rows": null,
      "height": null,
      "justify_content": null,
      "justify_items": null,
      "left": null,
      "margin": null,
      "max_height": null,
      "max_width": null,
      "min_height": null,
      "min_width": null,
      "object_fit": null,
      "object_position": null,
      "order": null,
      "overflow": null,
      "overflow_x": null,
      "overflow_y": null,
      "padding": null,
      "right": null,
      "top": null,
      "visibility": null,
      "width": null
     }
    },
    "45d8371a0658448fbac72f1730c34a28": {
     "model_module": "@jupyter-widgets/controls",
     "model_name": "DescriptionStyleModel",
     "state": {
      "_model_module": "@jupyter-widgets/controls",
      "_model_module_version": "1.5.0",
      "_model_name": "DescriptionStyleModel",
      "_view_count": null,
      "_view_module": "@jupyter-widgets/base",
      "_view_module_version": "1.2.0",
      "_view_name": "StyleView",
      "description_width": ""
     }
    },
    "46f573409524443a861856a218e4a64b": {
     "model_module": "@jupyter-widgets/controls",
     "model_name": "ProgressStyleModel",
     "state": {
      "_model_module": "@jupyter-widgets/controls",
      "_model_module_version": "1.5.0",
      "_model_name": "ProgressStyleModel",
      "_view_count": null,
      "_view_module": "@jupyter-widgets/base",
      "_view_module_version": "1.2.0",
      "_view_name": "StyleView",
      "bar_color": null,
      "description_width": "initial"
     }
    },
    "49720fa187a34f2ab33f846cb380cd7b": {
     "model_module": "@jupyter-widgets/controls",
     "model_name": "HTMLModel",
     "state": {
      "_dom_classes": [],
      "_model_module": "@jupyter-widgets/controls",
      "_model_module_version": "1.5.0",
      "_model_name": "HTMLModel",
      "_view_count": null,
      "_view_module": "@jupyter-widgets/controls",
      "_view_module_version": "1.5.0",
      "_view_name": "HTMLView",
      "description": "",
      "description_tooltip": null,
      "layout": "IPY_MODEL_086a988bd52c4f76ae600f3c2cdcf941",
      "placeholder": "​",
      "style": "IPY_MODEL_51075aec94674d348e52f70c394d44fb",
      "value": " 423k/423k [00:00&lt;00:00, 1.32MB/s]"
     }
    },
    "4acbe9475b314dc481853067bea472c3": {
     "model_module": "@jupyter-widgets/controls",
     "model_name": "ProgressStyleModel",
     "state": {
      "_model_module": "@jupyter-widgets/controls",
      "_model_module_version": "1.5.0",
      "_model_name": "ProgressStyleModel",
      "_view_count": null,
      "_view_module": "@jupyter-widgets/base",
      "_view_module_version": "1.2.0",
      "_view_name": "StyleView",
      "bar_color": null,
      "description_width": "initial"
     }
    },
    "51075aec94674d348e52f70c394d44fb": {
     "model_module": "@jupyter-widgets/controls",
     "model_name": "DescriptionStyleModel",
     "state": {
      "_model_module": "@jupyter-widgets/controls",
      "_model_module_version": "1.5.0",
      "_model_name": "DescriptionStyleModel",
      "_view_count": null,
      "_view_module": "@jupyter-widgets/base",
      "_view_module_version": "1.2.0",
      "_view_name": "StyleView",
      "description_width": ""
     }
    },
    "562fcb4d281e4c368d62f50c293ac863": {
     "model_module": "@jupyter-widgets/controls",
     "model_name": "HBoxModel",
     "state": {
      "_dom_classes": [],
      "_model_module": "@jupyter-widgets/controls",
      "_model_module_version": "1.5.0",
      "_model_name": "HBoxModel",
      "_view_count": null,
      "_view_module": "@jupyter-widgets/controls",
      "_view_module_version": "1.5.0",
      "_view_name": "HBoxView",
      "box_style": "",
      "children": [
       "IPY_MODEL_dd117db3ae4243ceb6347fbfb3772b8d",
       "IPY_MODEL_3a983100d07745ca879d554861ba4c03"
      ],
      "layout": "IPY_MODEL_2ac47a230b4b49c29e953e894b48f9aa"
     }
    },
    "5915c1693b994e36af505947e5328890": {
     "model_module": "@jupyter-widgets/base",
     "model_name": "LayoutModel",
     "state": {
      "_model_module": "@jupyter-widgets/base",
      "_model_module_version": "1.2.0",
      "_model_name": "LayoutModel",
      "_view_count": null,
      "_view_module": "@jupyter-widgets/base",
      "_view_module_version": "1.2.0",
      "_view_name": "LayoutView",
      "align_content": null,
      "align_items": null,
      "align_self": null,
      "border": null,
      "bottom": null,
      "display": null,
      "flex": null,
      "flex_flow": null,
      "grid_area": null,
      "grid_auto_columns": null,
      "grid_auto_flow": null,
      "grid_auto_rows": null,
      "grid_column": null,
      "grid_gap": null,
      "grid_row": null,
      "grid_template_areas": null,
      "grid_template_columns": null,
      "grid_template_rows": null,
      "height": null,
      "justify_content": null,
      "justify_items": null,
      "left": null,
      "margin": null,
      "max_height": null,
      "max_width": null,
      "min_height": null,
      "min_width": null,
      "object_fit": null,
      "object_position": null,
      "order": null,
      "overflow": null,
      "overflow_x": null,
      "overflow_y": null,
      "padding": null,
      "right": null,
      "top": null,
      "visibility": null,
      "width": null
     }
    },
    "5bdc0cfc2cce4bcd9314789a336dedcd": {
     "model_module": "@jupyter-widgets/base",
     "model_name": "LayoutModel",
     "state": {
      "_model_module": "@jupyter-widgets/base",
      "_model_module_version": "1.2.0",
      "_model_name": "LayoutModel",
      "_view_count": null,
      "_view_module": "@jupyter-widgets/base",
      "_view_module_version": "1.2.0",
      "_view_name": "LayoutView",
      "align_content": null,
      "align_items": null,
      "align_self": null,
      "border": null,
      "bottom": null,
      "display": null,
      "flex": null,
      "flex_flow": null,
      "grid_area": null,
      "grid_auto_columns": null,
      "grid_auto_flow": null,
      "grid_auto_rows": null,
      "grid_column": null,
      "grid_gap": null,
      "grid_row": null,
      "grid_template_areas": null,
      "grid_template_columns": null,
      "grid_template_rows": null,
      "height": null,
      "justify_content": null,
      "justify_items": null,
      "left": null,
      "margin": null,
      "max_height": null,
      "max_width": null,
      "min_height": null,
      "min_width": null,
      "object_fit": null,
      "object_position": null,
      "order": null,
      "overflow": null,
      "overflow_x": null,
      "overflow_y": null,
      "padding": null,
      "right": null,
      "top": null,
      "visibility": null,
      "width": null
     }
    },
    "5c9f54f6ad304390bfa506f81efe6321": {
     "model_module": "@jupyter-widgets/controls",
     "model_name": "ProgressStyleModel",
     "state": {
      "_model_module": "@jupyter-widgets/controls",
      "_model_module_version": "1.5.0",
      "_model_name": "ProgressStyleModel",
      "_view_count": null,
      "_view_module": "@jupyter-widgets/base",
      "_view_module_version": "1.2.0",
      "_view_name": "StyleView",
      "bar_color": null,
      "description_width": "initial"
     }
    },
    "5ce943f235774da4ae61e6cb5fd09bbe": {
     "model_module": "@jupyter-widgets/base",
     "model_name": "LayoutModel",
     "state": {
      "_model_module": "@jupyter-widgets/base",
      "_model_module_version": "1.2.0",
      "_model_name": "LayoutModel",
      "_view_count": null,
      "_view_module": "@jupyter-widgets/base",
      "_view_module_version": "1.2.0",
      "_view_name": "LayoutView",
      "align_content": null,
      "align_items": null,
      "align_self": null,
      "border": null,
      "bottom": null,
      "display": null,
      "flex": null,
      "flex_flow": null,
      "grid_area": null,
      "grid_auto_columns": null,
      "grid_auto_flow": null,
      "grid_auto_rows": null,
      "grid_column": null,
      "grid_gap": null,
      "grid_row": null,
      "grid_template_areas": null,
      "grid_template_columns": null,
      "grid_template_rows": null,
      "height": null,
      "justify_content": null,
      "justify_items": null,
      "left": null,
      "margin": null,
      "max_height": null,
      "max_width": null,
      "min_height": null,
      "min_width": null,
      "object_fit": null,
      "object_position": null,
      "order": null,
      "overflow": null,
      "overflow_x": null,
      "overflow_y": null,
      "padding": null,
      "right": null,
      "top": null,
      "visibility": null,
      "width": null
     }
    },
    "5d01b2cdd66e443aa267cfdba166dcbd": {
     "model_module": "@jupyter-widgets/base",
     "model_name": "LayoutModel",
     "state": {
      "_model_module": "@jupyter-widgets/base",
      "_model_module_version": "1.2.0",
      "_model_name": "LayoutModel",
      "_view_count": null,
      "_view_module": "@jupyter-widgets/base",
      "_view_module_version": "1.2.0",
      "_view_name": "LayoutView",
      "align_content": null,
      "align_items": null,
      "align_self": null,
      "border": null,
      "bottom": null,
      "display": null,
      "flex": null,
      "flex_flow": null,
      "grid_area": null,
      "grid_auto_columns": null,
      "grid_auto_flow": null,
      "grid_auto_rows": null,
      "grid_column": null,
      "grid_gap": null,
      "grid_row": null,
      "grid_template_areas": null,
      "grid_template_columns": null,
      "grid_template_rows": null,
      "height": null,
      "justify_content": null,
      "justify_items": null,
      "left": null,
      "margin": null,
      "max_height": null,
      "max_width": null,
      "min_height": null,
      "min_width": null,
      "object_fit": null,
      "object_position": null,
      "order": null,
      "overflow": null,
      "overflow_x": null,
      "overflow_y": null,
      "padding": null,
      "right": null,
      "top": null,
      "visibility": null,
      "width": null
     }
    },
    "5dc9abe5d7134d808ea2a7cb7610aee4": {
     "model_module": "@jupyter-widgets/base",
     "model_name": "LayoutModel",
     "state": {
      "_model_module": "@jupyter-widgets/base",
      "_model_module_version": "1.2.0",
      "_model_name": "LayoutModel",
      "_view_count": null,
      "_view_module": "@jupyter-widgets/base",
      "_view_module_version": "1.2.0",
      "_view_name": "LayoutView",
      "align_content": null,
      "align_items": null,
      "align_self": null,
      "border": null,
      "bottom": null,
      "display": null,
      "flex": null,
      "flex_flow": null,
      "grid_area": null,
      "grid_auto_columns": null,
      "grid_auto_flow": null,
      "grid_auto_rows": null,
      "grid_column": null,
      "grid_gap": null,
      "grid_row": null,
      "grid_template_areas": null,
      "grid_template_columns": null,
      "grid_template_rows": null,
      "height": null,
      "justify_content": null,
      "justify_items": null,
      "left": null,
      "margin": null,
      "max_height": null,
      "max_width": null,
      "min_height": null,
      "min_width": null,
      "object_fit": null,
      "object_position": null,
      "order": null,
      "overflow": null,
      "overflow_x": null,
      "overflow_y": null,
      "padding": null,
      "right": null,
      "top": null,
      "visibility": null,
      "width": null
     }
    },
    "5ec19b0e745f45f98456de5bac1f4f36": {
     "model_module": "@jupyter-widgets/controls",
     "model_name": "ProgressStyleModel",
     "state": {
      "_model_module": "@jupyter-widgets/controls",
      "_model_module_version": "1.5.0",
      "_model_name": "ProgressStyleModel",
      "_view_count": null,
      "_view_module": "@jupyter-widgets/base",
      "_view_module_version": "1.2.0",
      "_view_name": "StyleView",
      "bar_color": null,
      "description_width": "initial"
     }
    },
    "6039d07081d94ebe841040941d0fd13c": {
     "model_module": "@jupyter-widgets/base",
     "model_name": "LayoutModel",
     "state": {
      "_model_module": "@jupyter-widgets/base",
      "_model_module_version": "1.2.0",
      "_model_name": "LayoutModel",
      "_view_count": null,
      "_view_module": "@jupyter-widgets/base",
      "_view_module_version": "1.2.0",
      "_view_name": "LayoutView",
      "align_content": null,
      "align_items": null,
      "align_self": null,
      "border": null,
      "bottom": null,
      "display": null,
      "flex": null,
      "flex_flow": null,
      "grid_area": null,
      "grid_auto_columns": null,
      "grid_auto_flow": null,
      "grid_auto_rows": null,
      "grid_column": null,
      "grid_gap": null,
      "grid_row": null,
      "grid_template_areas": null,
      "grid_template_columns": null,
      "grid_template_rows": null,
      "height": null,
      "justify_content": null,
      "justify_items": null,
      "left": null,
      "margin": null,
      "max_height": null,
      "max_width": null,
      "min_height": null,
      "min_width": null,
      "object_fit": null,
      "object_position": null,
      "order": null,
      "overflow": null,
      "overflow_x": null,
      "overflow_y": null,
      "padding": null,
      "right": null,
      "top": null,
      "visibility": null,
      "width": null
     }
    },
    "6219a15122ac4e238897a8b905affe1a": {
     "model_module": "@jupyter-widgets/base",
     "model_name": "LayoutModel",
     "state": {
      "_model_module": "@jupyter-widgets/base",
      "_model_module_version": "1.2.0",
      "_model_name": "LayoutModel",
      "_view_count": null,
      "_view_module": "@jupyter-widgets/base",
      "_view_module_version": "1.2.0",
      "_view_name": "LayoutView",
      "align_content": null,
      "align_items": null,
      "align_self": null,
      "border": null,
      "bottom": null,
      "display": null,
      "flex": null,
      "flex_flow": null,
      "grid_area": null,
      "grid_auto_columns": null,
      "grid_auto_flow": null,
      "grid_auto_rows": null,
      "grid_column": null,
      "grid_gap": null,
      "grid_row": null,
      "grid_template_areas": null,
      "grid_template_columns": null,
      "grid_template_rows": null,
      "height": null,
      "justify_content": null,
      "justify_items": null,
      "left": null,
      "margin": null,
      "max_height": null,
      "max_width": null,
      "min_height": null,
      "min_width": null,
      "object_fit": null,
      "object_position": null,
      "order": null,
      "overflow": null,
      "overflow_x": null,
      "overflow_y": null,
      "padding": null,
      "right": null,
      "top": null,
      "visibility": null,
      "width": null
     }
    },
    "643fc196f8c24dec8d993aa67cd025e7": {
     "model_module": "@jupyter-widgets/controls",
     "model_name": "HBoxModel",
     "state": {
      "_dom_classes": [],
      "_model_module": "@jupyter-widgets/controls",
      "_model_module_version": "1.5.0",
      "_model_name": "HBoxModel",
      "_view_count": null,
      "_view_module": "@jupyter-widgets/controls",
      "_view_module_version": "1.5.0",
      "_view_name": "HBoxView",
      "box_style": "",
      "children": [
       "IPY_MODEL_6f25e5f368c24e5d92112fc66b006517",
       "IPY_MODEL_ac36cb98688a48638deaca98b470adfe"
      ],
      "layout": "IPY_MODEL_03421d4587194188826d9891a28232a7"
     }
    },
    "684579d6bbb7455a818a5b5d7f123b74": {
     "model_module": "@jupyter-widgets/base",
     "model_name": "LayoutModel",
     "state": {
      "_model_module": "@jupyter-widgets/base",
      "_model_module_version": "1.2.0",
      "_model_name": "LayoutModel",
      "_view_count": null,
      "_view_module": "@jupyter-widgets/base",
      "_view_module_version": "1.2.0",
      "_view_name": "LayoutView",
      "align_content": null,
      "align_items": null,
      "align_self": null,
      "border": null,
      "bottom": null,
      "display": null,
      "flex": null,
      "flex_flow": null,
      "grid_area": null,
      "grid_auto_columns": null,
      "grid_auto_flow": null,
      "grid_auto_rows": null,
      "grid_column": null,
      "grid_gap": null,
      "grid_row": null,
      "grid_template_areas": null,
      "grid_template_columns": null,
      "grid_template_rows": null,
      "height": null,
      "justify_content": null,
      "justify_items": null,
      "left": null,
      "margin": null,
      "max_height": null,
      "max_width": null,
      "min_height": null,
      "min_width": null,
      "object_fit": null,
      "object_position": null,
      "order": null,
      "overflow": null,
      "overflow_x": null,
      "overflow_y": null,
      "padding": null,
      "right": null,
      "top": null,
      "visibility": null,
      "width": null
     }
    },
    "6b096791353d4d269ec1dc173c10efd3": {
     "model_module": "@jupyter-widgets/controls",
     "model_name": "HTMLModel",
     "state": {
      "_dom_classes": [],
      "_model_module": "@jupyter-widgets/controls",
      "_model_module_version": "1.5.0",
      "_model_name": "HTMLModel",
      "_view_count": null,
      "_view_module": "@jupyter-widgets/controls",
      "_view_module_version": "1.5.0",
      "_view_name": "HTMLView",
      "description": "",
      "description_tooltip": null,
      "layout": "IPY_MODEL_c37a2a8530ab41c5ae2866a157c790a7",
      "placeholder": "​",
      "style": "IPY_MODEL_45d8371a0658448fbac72f1730c34a28",
      "value": " 2.31k/2.31k [07:19&lt;00:00, 5.25B/s]"
     }
    },
    "6bb51b41c92f4b8b804195a7e955efc1": {
     "model_module": "@jupyter-widgets/base",
     "model_name": "LayoutModel",
     "state": {
      "_model_module": "@jupyter-widgets/base",
      "_model_module_version": "1.2.0",
      "_model_name": "LayoutModel",
      "_view_count": null,
      "_view_module": "@jupyter-widgets/base",
      "_view_module_version": "1.2.0",
      "_view_name": "LayoutView",
      "align_content": null,
      "align_items": null,
      "align_self": null,
      "border": null,
      "bottom": null,
      "display": null,
      "flex": null,
      "flex_flow": null,
      "grid_area": null,
      "grid_auto_columns": null,
      "grid_auto_flow": null,
      "grid_auto_rows": null,
      "grid_column": null,
      "grid_gap": null,
      "grid_row": null,
      "grid_template_areas": null,
      "grid_template_columns": null,
      "grid_template_rows": null,
      "height": null,
      "justify_content": null,
      "justify_items": null,
      "left": null,
      "margin": null,
      "max_height": null,
      "max_width": null,
      "min_height": null,
      "min_width": null,
      "object_fit": null,
      "object_position": null,
      "order": null,
      "overflow": null,
      "overflow_x": null,
      "overflow_y": null,
      "padding": null,
      "right": null,
      "top": null,
      "visibility": null,
      "width": null
     }
    },
    "6f25e5f368c24e5d92112fc66b006517": {
     "model_module": "@jupyter-widgets/controls",
     "model_name": "FloatProgressModel",
     "state": {
      "_dom_classes": [],
      "_model_module": "@jupyter-widgets/controls",
      "_model_module_version": "1.5.0",
      "_model_name": "FloatProgressModel",
      "_view_count": null,
      "_view_module": "@jupyter-widgets/controls",
      "_view_module_version": "1.5.0",
      "_view_name": "ProgressView",
      "bar_style": "info",
      "description": "",
      "description_tooltip": null,
      "layout": "IPY_MODEL_5915c1693b994e36af505947e5328890",
      "max": 1,
      "min": 0,
      "orientation": "horizontal",
      "style": "IPY_MODEL_af54ff201e814059ae3cc7caf5ba8c77",
      "value": 1
     }
    },
    "6ffdfcf2f11641c2b526ff648fbf514e": {
     "model_module": "@jupyter-widgets/base",
     "model_name": "LayoutModel",
     "state": {
      "_model_module": "@jupyter-widgets/base",
      "_model_module_version": "1.2.0",
      "_model_name": "LayoutModel",
      "_view_count": null,
      "_view_module": "@jupyter-widgets/base",
      "_view_module_version": "1.2.0",
      "_view_name": "LayoutView",
      "align_content": null,
      "align_items": null,
      "align_self": null,
      "border": null,
      "bottom": null,
      "display": null,
      "flex": null,
      "flex_flow": null,
      "grid_area": null,
      "grid_auto_columns": null,
      "grid_auto_flow": null,
      "grid_auto_rows": null,
      "grid_column": null,
      "grid_gap": null,
      "grid_row": null,
      "grid_template_areas": null,
      "grid_template_columns": null,
      "grid_template_rows": null,
      "height": null,
      "justify_content": null,
      "justify_items": null,
      "left": null,
      "margin": null,
      "max_height": null,
      "max_width": null,
      "min_height": null,
      "min_width": null,
      "object_fit": null,
      "object_position": null,
      "order": null,
      "overflow": null,
      "overflow_x": null,
      "overflow_y": null,
      "padding": null,
      "right": null,
      "top": null,
      "visibility": null,
      "width": null
     }
    },
    "7410e70908d24316b27ca2f75eaf9e79": {
     "model_module": "@jupyter-widgets/controls",
     "model_name": "DescriptionStyleModel",
     "state": {
      "_model_module": "@jupyter-widgets/controls",
      "_model_module_version": "1.5.0",
      "_model_name": "DescriptionStyleModel",
      "_view_count": null,
      "_view_module": "@jupyter-widgets/base",
      "_view_module_version": "1.2.0",
      "_view_name": "StyleView",
      "description_width": ""
     }
    },
    "7800e8b6b0bf47a1827b309023b057e5": {
     "model_module": "@jupyter-widgets/base",
     "model_name": "LayoutModel",
     "state": {
      "_model_module": "@jupyter-widgets/base",
      "_model_module_version": "1.2.0",
      "_model_name": "LayoutModel",
      "_view_count": null,
      "_view_module": "@jupyter-widgets/base",
      "_view_module_version": "1.2.0",
      "_view_name": "LayoutView",
      "align_content": null,
      "align_items": null,
      "align_self": null,
      "border": null,
      "bottom": null,
      "display": null,
      "flex": null,
      "flex_flow": null,
      "grid_area": null,
      "grid_auto_columns": null,
      "grid_auto_flow": null,
      "grid_auto_rows": null,
      "grid_column": null,
      "grid_gap": null,
      "grid_row": null,
      "grid_template_areas": null,
      "grid_template_columns": null,
      "grid_template_rows": null,
      "height": null,
      "justify_content": null,
      "justify_items": null,
      "left": null,
      "margin": null,
      "max_height": null,
      "max_width": null,
      "min_height": null,
      "min_width": null,
      "object_fit": null,
      "object_position": null,
      "order": null,
      "overflow": null,
      "overflow_x": null,
      "overflow_y": null,
      "padding": null,
      "right": null,
      "top": null,
      "visibility": null,
      "width": null
     }
    },
    "7c794dbbf3a5443bbdc00446be3aaeb7": {
     "model_module": "@jupyter-widgets/controls",
     "model_name": "DescriptionStyleModel",
     "state": {
      "_model_module": "@jupyter-widgets/controls",
      "_model_module_version": "1.5.0",
      "_model_name": "DescriptionStyleModel",
      "_view_count": null,
      "_view_module": "@jupyter-widgets/base",
      "_view_module_version": "1.2.0",
      "_view_name": "StyleView",
      "description_width": ""
     }
    },
    "8297742a00634502a571ff76b8171ad2": {
     "model_module": "@jupyter-widgets/controls",
     "model_name": "ProgressStyleModel",
     "state": {
      "_model_module": "@jupyter-widgets/controls",
      "_model_module_version": "1.5.0",
      "_model_name": "ProgressStyleModel",
      "_view_count": null,
      "_view_module": "@jupyter-widgets/base",
      "_view_module_version": "1.2.0",
      "_view_name": "StyleView",
      "bar_color": null,
      "description_width": "initial"
     }
    },
    "82c51bafbcdc4e7db7a444d42127b0bc": {
     "model_module": "@jupyter-widgets/controls",
     "model_name": "DescriptionStyleModel",
     "state": {
      "_model_module": "@jupyter-widgets/controls",
      "_model_module_version": "1.5.0",
      "_model_name": "DescriptionStyleModel",
      "_view_count": null,
      "_view_module": "@jupyter-widgets/base",
      "_view_module_version": "1.2.0",
      "_view_name": "StyleView",
      "description_width": ""
     }
    },
    "86982dad55ac4335a1b22ecca697b919": {
     "model_module": "@jupyter-widgets/controls",
     "model_name": "FloatProgressModel",
     "state": {
      "_dom_classes": [],
      "_model_module": "@jupyter-widgets/controls",
      "_model_module_version": "1.5.0",
      "_model_name": "FloatProgressModel",
      "_view_count": null,
      "_view_module": "@jupyter-widgets/controls",
      "_view_module_version": "1.5.0",
      "_view_name": "ProgressView",
      "bar_style": "success",
      "description": "Downloading: 100%",
      "description_tooltip": null,
      "layout": "IPY_MODEL_bf69e82d7ee943d7ba8851fd784fad71",
      "max": 4021,
      "min": 0,
      "orientation": "horizontal",
      "style": "IPY_MODEL_5ec19b0e745f45f98456de5bac1f4f36",
      "value": 4021
     }
    },
    "8aee4290ea684d9ba41a975a028ee9ca": {
     "model_module": "@jupyter-widgets/controls",
     "model_name": "DescriptionStyleModel",
     "state": {
      "_model_module": "@jupyter-widgets/controls",
      "_model_module_version": "1.5.0",
      "_model_name": "DescriptionStyleModel",
      "_view_count": null,
      "_view_module": "@jupyter-widgets/base",
      "_view_module_version": "1.2.0",
      "_view_name": "StyleView",
      "description_width": ""
     }
    },
    "8c432bc5e1334c6992c7509a1089cbc9": {
     "model_module": "@jupyter-widgets/controls",
     "model_name": "FloatProgressModel",
     "state": {
      "_dom_classes": [],
      "_model_module": "@jupyter-widgets/controls",
      "_model_module_version": "1.5.0",
      "_model_name": "FloatProgressModel",
      "_view_count": null,
      "_view_module": "@jupyter-widgets/controls",
      "_view_module_version": "1.5.0",
      "_view_name": "ProgressView",
      "bar_style": "success",
      "description": "Downloading: 100%",
      "description_tooltip": null,
      "layout": "IPY_MODEL_6039d07081d94ebe841040941d0fd13c",
      "max": 433,
      "min": 0,
      "orientation": "horizontal",
      "style": "IPY_MODEL_bcf3cf8857c8466ea3fd1e6751bedd20",
      "value": 433
     }
    },
    "9105ed3495ff4864a7e225a618b5a725": {
     "model_module": "@jupyter-widgets/base",
     "model_name": "LayoutModel",
     "state": {
      "_model_module": "@jupyter-widgets/base",
      "_model_module_version": "1.2.0",
      "_model_name": "LayoutModel",
      "_view_count": null,
      "_view_module": "@jupyter-widgets/base",
      "_view_module_version": "1.2.0",
      "_view_name": "LayoutView",
      "align_content": null,
      "align_items": null,
      "align_self": null,
      "border": null,
      "bottom": null,
      "display": null,
      "flex": null,
      "flex_flow": null,
      "grid_area": null,
      "grid_auto_columns": null,
      "grid_auto_flow": null,
      "grid_auto_rows": null,
      "grid_column": null,
      "grid_gap": null,
      "grid_row": null,
      "grid_template_areas": null,
      "grid_template_columns": null,
      "grid_template_rows": null,
      "height": null,
      "justify_content": null,
      "justify_items": null,
      "left": null,
      "margin": null,
      "max_height": null,
      "max_width": null,
      "min_height": null,
      "min_width": null,
      "object_fit": null,
      "object_position": null,
      "order": null,
      "overflow": null,
      "overflow_x": null,
      "overflow_y": null,
      "padding": null,
      "right": null,
      "top": null,
      "visibility": null,
      "width": null
     }
    },
    "91da1175d9e94be6b2504273da7d4ca8": {
     "model_module": "@jupyter-widgets/controls",
     "model_name": "HTMLModel",
     "state": {
      "_dom_classes": [],
      "_model_module": "@jupyter-widgets/controls",
      "_model_module_version": "1.5.0",
      "_model_name": "HTMLModel",
      "_view_count": null,
      "_view_module": "@jupyter-widgets/controls",
      "_view_module_version": "1.5.0",
      "_view_name": "HTMLView",
      "description": "",
      "description_tooltip": null,
      "layout": "IPY_MODEL_198e452fb24045f08534d97053b4fb5a",
      "placeholder": "​",
      "style": "IPY_MODEL_7c794dbbf3a5443bbdc00446be3aaeb7",
      "value": " 472k/472k [00:00&lt;00:00, 3.84MB/s]"
     }
    },
    "977ff0f66b27487aa7dfbeb2db77836f": {
     "model_module": "@jupyter-widgets/controls",
     "model_name": "HBoxModel",
     "state": {
      "_dom_classes": [],
      "_model_module": "@jupyter-widgets/controls",
      "_model_module_version": "1.5.0",
      "_model_name": "HBoxModel",
      "_view_count": null,
      "_view_module": "@jupyter-widgets/controls",
      "_view_module_version": "1.5.0",
      "_view_name": "HBoxView",
      "box_style": "",
      "children": [
       "IPY_MODEL_ce7b107529eb4a5c99a16914dfe286f6",
       "IPY_MODEL_020f2ba593d34dc8a08359858268e2e3"
      ],
      "layout": "IPY_MODEL_e8eb1611d96c41a895ffbdd263d73eeb"
     }
    },
    "9ec829bd774a42ca90571c8f9c5f25ca": {
     "model_module": "@jupyter-widgets/controls",
     "model_name": "FloatProgressModel",
     "state": {
      "_dom_classes": [],
      "_model_module": "@jupyter-widgets/controls",
      "_model_module_version": "1.5.0",
      "_model_name": "FloatProgressModel",
      "_view_count": null,
      "_view_module": "@jupyter-widgets/controls",
      "_view_module_version": "1.5.0",
      "_view_name": "ProgressView",
      "bar_style": "info",
      "description": "",
      "description_tooltip": null,
      "layout": "IPY_MODEL_147a720b11f74fd39dcedd957c39af94",
      "max": 1,
      "min": 0,
      "orientation": "horizontal",
      "style": "IPY_MODEL_46f573409524443a861856a218e4a64b",
      "value": 1
     }
    },
    "a8946025998b46458cdcba12e76e6ea6": {
     "model_module": "@jupyter-widgets/controls",
     "model_name": "ProgressStyleModel",
     "state": {
      "_model_module": "@jupyter-widgets/controls",
      "_model_module_version": "1.5.0",
      "_model_name": "ProgressStyleModel",
      "_view_count": null,
      "_view_module": "@jupyter-widgets/base",
      "_view_module_version": "1.2.0",
      "_view_name": "StyleView",
      "bar_color": null,
      "description_width": "initial"
     }
    },
    "ac1e5674be184492b069aefb5e293847": {
     "model_module": "@jupyter-widgets/base",
     "model_name": "LayoutModel",
     "state": {
      "_model_module": "@jupyter-widgets/base",
      "_model_module_version": "1.2.0",
      "_model_name": "LayoutModel",
      "_view_count": null,
      "_view_module": "@jupyter-widgets/base",
      "_view_module_version": "1.2.0",
      "_view_name": "LayoutView",
      "align_content": null,
      "align_items": null,
      "align_self": null,
      "border": null,
      "bottom": null,
      "display": null,
      "flex": null,
      "flex_flow": null,
      "grid_area": null,
      "grid_auto_columns": null,
      "grid_auto_flow": null,
      "grid_auto_rows": null,
      "grid_column": null,
      "grid_gap": null,
      "grid_row": null,
      "grid_template_areas": null,
      "grid_template_columns": null,
      "grid_template_rows": null,
      "height": null,
      "justify_content": null,
      "justify_items": null,
      "left": null,
      "margin": null,
      "max_height": null,
      "max_width": null,
      "min_height": null,
      "min_width": null,
      "object_fit": null,
      "object_position": null,
      "order": null,
      "overflow": null,
      "overflow_x": null,
      "overflow_y": null,
      "padding": null,
      "right": null,
      "top": null,
      "visibility": null,
      "width": null
     }
    },
    "ac36cb98688a48638deaca98b470adfe": {
     "model_module": "@jupyter-widgets/controls",
     "model_name": "HTMLModel",
     "state": {
      "_dom_classes": [],
      "_model_module": "@jupyter-widgets/controls",
      "_model_module_version": "1.5.0",
      "_model_name": "HTMLModel",
      "_view_count": null,
      "_view_module": "@jupyter-widgets/controls",
      "_view_module_version": "1.5.0",
      "_view_name": "HTMLView",
      "description": "",
      "description_tooltip": null,
      "layout": "IPY_MODEL_6219a15122ac4e238897a8b905affe1a",
      "placeholder": "​",
      "style": "IPY_MODEL_8aee4290ea684d9ba41a975a028ee9ca",
      "value": " 9741/0 [00:00&lt;00:00, 13483.69 examples/s]"
     }
    },
    "af54ff201e814059ae3cc7caf5ba8c77": {
     "model_module": "@jupyter-widgets/controls",
     "model_name": "ProgressStyleModel",
     "state": {
      "_model_module": "@jupyter-widgets/controls",
      "_model_module_version": "1.5.0",
      "_model_name": "ProgressStyleModel",
      "_view_count": null,
      "_view_module": "@jupyter-widgets/base",
      "_view_module_version": "1.2.0",
      "_view_name": "StyleView",
      "bar_color": null,
      "description_width": "initial"
     }
    },
    "b50d874f992244ec824b2b94ab4990bc": {
     "model_module": "@jupyter-widgets/base",
     "model_name": "LayoutModel",
     "state": {
      "_model_module": "@jupyter-widgets/base",
      "_model_module_version": "1.2.0",
      "_model_name": "LayoutModel",
      "_view_count": null,
      "_view_module": "@jupyter-widgets/base",
      "_view_module_version": "1.2.0",
      "_view_name": "LayoutView",
      "align_content": null,
      "align_items": null,
      "align_self": null,
      "border": null,
      "bottom": null,
      "display": null,
      "flex": null,
      "flex_flow": null,
      "grid_area": null,
      "grid_auto_columns": null,
      "grid_auto_flow": null,
      "grid_auto_rows": null,
      "grid_column": null,
      "grid_gap": null,
      "grid_row": null,
      "grid_template_areas": null,
      "grid_template_columns": null,
      "grid_template_rows": null,
      "height": null,
      "justify_content": null,
      "justify_items": null,
      "left": null,
      "margin": null,
      "max_height": null,
      "max_width": null,
      "min_height": null,
      "min_width": null,
      "object_fit": null,
      "object_position": null,
      "order": null,
      "overflow": null,
      "overflow_x": null,
      "overflow_y": null,
      "padding": null,
      "right": null,
      "top": null,
      "visibility": null,
      "width": null
     }
    },
    "b83000448eb0405f940309cf429a0ca8": {
     "model_module": "@jupyter-widgets/base",
     "model_name": "LayoutModel",
     "state": {
      "_model_module": "@jupyter-widgets/base",
      "_model_module_version": "1.2.0",
      "_model_name": "LayoutModel",
      "_view_count": null,
      "_view_module": "@jupyter-widgets/base",
      "_view_module_version": "1.2.0",
      "_view_name": "LayoutView",
      "align_content": null,
      "align_items": null,
      "align_self": null,
      "border": null,
      "bottom": null,
      "display": null,
      "flex": null,
      "flex_flow": null,
      "grid_area": null,
      "grid_auto_columns": null,
      "grid_auto_flow": null,
      "grid_auto_rows": null,
      "grid_column": null,
      "grid_gap": null,
      "grid_row": null,
      "grid_template_areas": null,
      "grid_template_columns": null,
      "grid_template_rows": null,
      "height": null,
      "justify_content": null,
      "justify_items": null,
      "left": null,
      "margin": null,
      "max_height": null,
      "max_width": null,
      "min_height": null,
      "min_width": null,
      "object_fit": null,
      "object_position": null,
      "order": null,
      "overflow": null,
      "overflow_x": null,
      "overflow_y": null,
      "padding": null,
      "right": null,
      "top": null,
      "visibility": null,
      "width": null
     }
    },
    "bcf3cf8857c8466ea3fd1e6751bedd20": {
     "model_module": "@jupyter-widgets/controls",
     "model_name": "ProgressStyleModel",
     "state": {
      "_model_module": "@jupyter-widgets/controls",
      "_model_module_version": "1.5.0",
      "_model_name": "ProgressStyleModel",
      "_view_count": null,
      "_view_module": "@jupyter-widgets/base",
      "_view_module_version": "1.2.0",
      "_view_name": "StyleView",
      "bar_color": null,
      "description_width": "initial"
     }
    },
    "bf69e82d7ee943d7ba8851fd784fad71": {
     "model_module": "@jupyter-widgets/base",
     "model_name": "LayoutModel",
     "state": {
      "_model_module": "@jupyter-widgets/base",
      "_model_module_version": "1.2.0",
      "_model_name": "LayoutModel",
      "_view_count": null,
      "_view_module": "@jupyter-widgets/base",
      "_view_module_version": "1.2.0",
      "_view_name": "LayoutView",
      "align_content": null,
      "align_items": null,
      "align_self": null,
      "border": null,
      "bottom": null,
      "display": null,
      "flex": null,
      "flex_flow": null,
      "grid_area": null,
      "grid_auto_columns": null,
      "grid_auto_flow": null,
      "grid_auto_rows": null,
      "grid_column": null,
      "grid_gap": null,
      "grid_row": null,
      "grid_template_areas": null,
      "grid_template_columns": null,
      "grid_template_rows": null,
      "height": null,
      "justify_content": null,
      "justify_items": null,
      "left": null,
      "margin": null,
      "max_height": null,
      "max_width": null,
      "min_height": null,
      "min_width": null,
      "object_fit": null,
      "object_position": null,
      "order": null,
      "overflow": null,
      "overflow_x": null,
      "overflow_y": null,
      "padding": null,
      "right": null,
      "top": null,
      "visibility": null,
      "width": null
     }
    },
    "c018ced24f17446d9f3f7df844c5b3e5": {
     "model_module": "@jupyter-widgets/controls",
     "model_name": "HTMLModel",
     "state": {
      "_dom_classes": [],
      "_model_module": "@jupyter-widgets/controls",
      "_model_module_version": "1.5.0",
      "_model_name": "HTMLModel",
      "_view_count": null,
      "_view_module": "@jupyter-widgets/controls",
      "_view_module_version": "1.5.0",
      "_view_name": "HTMLView",
      "description": "",
      "description_tooltip": null,
      "layout": "IPY_MODEL_9105ed3495ff4864a7e225a618b5a725",
      "placeholder": "​",
      "style": "IPY_MODEL_f329e1092c534b6f85f1561ba20a19e6",
      "value": " 433/433 [00:00&lt;00:00, 3.64kB/s]"
     }
    },
    "c2c8840c29bc47c28a26f5781aa7791f": {
     "model_module": "@jupyter-widgets/base",
     "model_name": "LayoutModel",
     "state": {
      "_model_module": "@jupyter-widgets/base",
      "_model_module_version": "1.2.0",
      "_model_name": "LayoutModel",
      "_view_count": null,
      "_view_module": "@jupyter-widgets/base",
      "_view_module_version": "1.2.0",
      "_view_name": "LayoutView",
      "align_content": null,
      "align_items": null,
      "align_self": null,
      "border": null,
      "bottom": null,
      "display": null,
      "flex": null,
      "flex_flow": null,
      "grid_area": null,
      "grid_auto_columns": null,
      "grid_auto_flow": null,
      "grid_auto_rows": null,
      "grid_column": null,
      "grid_gap": null,
      "grid_row": null,
      "grid_template_areas": null,
      "grid_template_columns": null,
      "grid_template_rows": null,
      "height": null,
      "justify_content": null,
      "justify_items": null,
      "left": null,
      "margin": null,
      "max_height": null,
      "max_width": null,
      "min_height": null,
      "min_width": null,
      "object_fit": null,
      "object_position": null,
      "order": null,
      "overflow": null,
      "overflow_x": null,
      "overflow_y": null,
      "padding": null,
      "right": null,
      "top": null,
      "visibility": null,
      "width": null
     }
    },
    "c37a2a8530ab41c5ae2866a157c790a7": {
     "model_module": "@jupyter-widgets/base",
     "model_name": "LayoutModel",
     "state": {
      "_model_module": "@jupyter-widgets/base",
      "_model_module_version": "1.2.0",
      "_model_name": "LayoutModel",
      "_view_count": null,
      "_view_module": "@jupyter-widgets/base",
      "_view_module_version": "1.2.0",
      "_view_name": "LayoutView",
      "align_content": null,
      "align_items": null,
      "align_self": null,
      "border": null,
      "bottom": null,
      "display": null,
      "flex": null,
      "flex_flow": null,
      "grid_area": null,
      "grid_auto_columns": null,
      "grid_auto_flow": null,
      "grid_auto_rows": null,
      "grid_column": null,
      "grid_gap": null,
      "grid_row": null,
      "grid_template_areas": null,
      "grid_template_columns": null,
      "grid_template_rows": null,
      "height": null,
      "justify_content": null,
      "justify_items": null,
      "left": null,
      "margin": null,
      "max_height": null,
      "max_width": null,
      "min_height": null,
      "min_width": null,
      "object_fit": null,
      "object_position": null,
      "order": null,
      "overflow": null,
      "overflow_x": null,
      "overflow_y": null,
      "padding": null,
      "right": null,
      "top": null,
      "visibility": null,
      "width": null
     }
    },
    "cde5956bc1c14f718dc5ab8988f2957f": {
     "model_module": "@jupyter-widgets/controls",
     "model_name": "HBoxModel",
     "state": {
      "_dom_classes": [],
      "_model_module": "@jupyter-widgets/controls",
      "_model_module_version": "1.5.0",
      "_model_name": "HBoxModel",
      "_view_count": null,
      "_view_module": "@jupyter-widgets/controls",
      "_view_module_version": "1.5.0",
      "_view_name": "HBoxView",
      "box_style": "",
      "children": [
       "IPY_MODEL_01506380c81d480fa8eb9042e44cfcd0",
       "IPY_MODEL_49720fa187a34f2ab33f846cb380cd7b"
      ],
      "layout": "IPY_MODEL_5d01b2cdd66e443aa267cfdba166dcbd"
     }
    },
    "ce7b107529eb4a5c99a16914dfe286f6": {
     "model_module": "@jupyter-widgets/controls",
     "model_name": "FloatProgressModel",
     "state": {
      "_dom_classes": [],
      "_model_module": "@jupyter-widgets/controls",
      "_model_module_version": "1.5.0",
      "_model_name": "FloatProgressModel",
      "_view_count": null,
      "_view_module": "@jupyter-widgets/controls",
      "_view_module_version": "1.5.0",
      "_view_name": "ProgressView",
      "bar_style": "info",
      "description": "",
      "description_tooltip": null,
      "layout": "IPY_MODEL_b83000448eb0405f940309cf429a0ca8",
      "max": 1,
      "min": 0,
      "orientation": "horizontal",
      "style": "IPY_MODEL_4acbe9475b314dc481853067bea472c3",
      "value": 1
     }
    },
    "cec12892efc64ba69fdab43efb49f937": {
     "model_module": "@jupyter-widgets/base",
     "model_name": "LayoutModel",
     "state": {
      "_model_module": "@jupyter-widgets/base",
      "_model_module_version": "1.2.0",
      "_model_name": "LayoutModel",
      "_view_count": null,
      "_view_module": "@jupyter-widgets/base",
      "_view_module_version": "1.2.0",
      "_view_name": "LayoutView",
      "align_content": null,
      "align_items": null,
      "align_self": null,
      "border": null,
      "bottom": null,
      "display": null,
      "flex": null,
      "flex_flow": null,
      "grid_area": null,
      "grid_auto_columns": null,
      "grid_auto_flow": null,
      "grid_auto_rows": null,
      "grid_column": null,
      "grid_gap": null,
      "grid_row": null,
      "grid_template_areas": null,
      "grid_template_columns": null,
      "grid_template_rows": null,
      "height": null,
      "justify_content": null,
      "justify_items": null,
      "left": null,
      "margin": null,
      "max_height": null,
      "max_width": null,
      "min_height": null,
      "min_width": null,
      "object_fit": null,
      "object_position": null,
      "order": null,
      "overflow": null,
      "overflow_x": null,
      "overflow_y": null,
      "padding": null,
      "right": null,
      "top": null,
      "visibility": null,
      "width": null
     }
    },
    "d7e7f863e3704c6e906c0dda90470017": {
     "model_module": "@jupyter-widgets/controls",
     "model_name": "HBoxModel",
     "state": {
      "_dom_classes": [],
      "_model_module": "@jupyter-widgets/controls",
      "_model_module_version": "1.5.0",
      "_model_name": "HBoxModel",
      "_view_count": null,
      "_view_module": "@jupyter-widgets/controls",
      "_view_module_version": "1.5.0",
      "_view_name": "HBoxView",
      "box_style": "",
      "children": [
       "IPY_MODEL_0f65e270b31a41d6a06bc9717af312c5",
       "IPY_MODEL_91da1175d9e94be6b2504273da7d4ca8"
      ],
      "layout": "IPY_MODEL_b50d874f992244ec824b2b94ab4990bc"
     }
    },
    "da3db247ffb7436bb89a0f704d0df7e7": {
     "model_module": "@jupyter-widgets/base",
     "model_name": "LayoutModel",
     "state": {
      "_model_module": "@jupyter-widgets/base",
      "_model_module_version": "1.2.0",
      "_model_name": "LayoutModel",
      "_view_count": null,
      "_view_module": "@jupyter-widgets/base",
      "_view_module_version": "1.2.0",
      "_view_name": "LayoutView",
      "align_content": null,
      "align_items": null,
      "align_self": null,
      "border": null,
      "bottom": null,
      "display": null,
      "flex": null,
      "flex_flow": null,
      "grid_area": null,
      "grid_auto_columns": null,
      "grid_auto_flow": null,
      "grid_auto_rows": null,
      "grid_column": null,
      "grid_gap": null,
      "grid_row": null,
      "grid_template_areas": null,
      "grid_template_columns": null,
      "grid_template_rows": null,
      "height": null,
      "justify_content": null,
      "justify_items": null,
      "left": null,
      "margin": null,
      "max_height": null,
      "max_width": null,
      "min_height": null,
      "min_width": null,
      "object_fit": null,
      "object_position": null,
      "order": null,
      "overflow": null,
      "overflow_x": null,
      "overflow_y": null,
      "padding": null,
      "right": null,
      "top": null,
      "visibility": null,
      "width": null
     }
    },
    "dd117db3ae4243ceb6347fbfb3772b8d": {
     "model_module": "@jupyter-widgets/controls",
     "model_name": "FloatProgressModel",
     "state": {
      "_dom_classes": [],
      "_model_module": "@jupyter-widgets/controls",
      "_model_module_version": "1.5.0",
      "_model_name": "FloatProgressModel",
      "_view_count": null,
      "_view_module": "@jupyter-widgets/controls",
      "_view_module_version": "1.5.0",
      "_view_name": "ProgressView",
      "bar_style": "success",
      "description": "Downloading: 100%",
      "description_tooltip": null,
      "layout": "IPY_MODEL_da3db247ffb7436bb89a0f704d0df7e7",
      "max": 3785890,
      "min": 0,
      "orientation": "horizontal",
      "style": "IPY_MODEL_183e9f970a5d40e0a175e25524c0d718",
      "value": 3785890
     }
    },
    "ddb0308cd5b74f8687dfe79d034ecc08": {
     "model_module": "@jupyter-widgets/controls",
     "model_name": "HTMLModel",
     "state": {
      "_dom_classes": [],
      "_model_module": "@jupyter-widgets/controls",
      "_model_module_version": "1.5.0",
      "_model_name": "HTMLModel",
      "_view_count": null,
      "_view_module": "@jupyter-widgets/controls",
      "_view_module_version": "1.5.0",
      "_view_name": "HTMLView",
      "description": "",
      "description_tooltip": null,
      "layout": "IPY_MODEL_5dc9abe5d7134d808ea2a7cb7610aee4",
      "placeholder": "​",
      "style": "IPY_MODEL_7410e70908d24316b27ca2f75eaf9e79",
      "value": " 440M/440M [00:06&lt;00:00, 65.2MB/s]"
     }
    },
    "e4fb9362cdfd4eeca72e9860b405fb20": {
     "model_module": "@jupyter-widgets/base",
     "model_name": "LayoutModel",
     "state": {
      "_model_module": "@jupyter-widgets/base",
      "_model_module_version": "1.2.0",
      "_model_name": "LayoutModel",
      "_view_count": null,
      "_view_module": "@jupyter-widgets/base",
      "_view_module_version": "1.2.0",
      "_view_name": "LayoutView",
      "align_content": null,
      "align_items": null,
      "align_self": null,
      "border": null,
      "bottom": null,
      "display": null,
      "flex": null,
      "flex_flow": null,
      "grid_area": null,
      "grid_auto_columns": null,
      "grid_auto_flow": null,
      "grid_auto_rows": null,
      "grid_column": null,
      "grid_gap": null,
      "grid_row": null,
      "grid_template_areas": null,
      "grid_template_columns": null,
      "grid_template_rows": null,
      "height": null,
      "justify_content": null,
      "justify_items": null,
      "left": null,
      "margin": null,
      "max_height": null,
      "max_width": null,
      "min_height": null,
      "min_width": null,
      "object_fit": null,
      "object_position": null,
      "order": null,
      "overflow": null,
      "overflow_x": null,
      "overflow_y": null,
      "padding": null,
      "right": null,
      "top": null,
      "visibility": null,
      "width": null
     }
    },
    "e6bede9b39aa427a87566a0cc6dc7c13": {
     "model_module": "@jupyter-widgets/controls",
     "model_name": "HTMLModel",
     "state": {
      "_dom_classes": [],
      "_model_module": "@jupyter-widgets/controls",
      "_model_module_version": "1.5.0",
      "_model_name": "HTMLModel",
      "_view_count": null,
      "_view_module": "@jupyter-widgets/controls",
      "_view_module_version": "1.5.0",
      "_view_name": "HTMLView",
      "description": "",
      "description_tooltip": null,
      "layout": "IPY_MODEL_5bdc0cfc2cce4bcd9314789a336dedcd",
      "placeholder": "​",
      "style": "IPY_MODEL_25b832a1527644f382269ba32fa66e48",
      "value": " 4.02k/4.02k [00:00&lt;00:00, 22.5kB/s]"
     }
    },
    "e8eb1611d96c41a895ffbdd263d73eeb": {
     "model_module": "@jupyter-widgets/base",
     "model_name": "LayoutModel",
     "state": {
      "_model_module": "@jupyter-widgets/base",
      "_model_module_version": "1.2.0",
      "_model_name": "LayoutModel",
      "_view_count": null,
      "_view_module": "@jupyter-widgets/base",
      "_view_module_version": "1.2.0",
      "_view_name": "LayoutView",
      "align_content": null,
      "align_items": null,
      "align_self": null,
      "border": null,
      "bottom": null,
      "display": null,
      "flex": null,
      "flex_flow": null,
      "grid_area": null,
      "grid_auto_columns": null,
      "grid_auto_flow": null,
      "grid_auto_rows": null,
      "grid_column": null,
      "grid_gap": null,
      "grid_row": null,
      "grid_template_areas": null,
      "grid_template_columns": null,
      "grid_template_rows": null,
      "height": null,
      "justify_content": null,
      "justify_items": null,
      "left": null,
      "margin": null,
      "max_height": null,
      "max_width": null,
      "min_height": null,
      "min_width": null,
      "object_fit": null,
      "object_position": null,
      "order": null,
      "overflow": null,
      "overflow_x": null,
      "overflow_y": null,
      "padding": null,
      "right": null,
      "top": null,
      "visibility": null,
      "width": null
     }
    },
    "eae3838fd5794f5a904c31195c408e21": {
     "model_module": "@jupyter-widgets/controls",
     "model_name": "HBoxModel",
     "state": {
      "_dom_classes": [],
      "_model_module": "@jupyter-widgets/controls",
      "_model_module_version": "1.5.0",
      "_model_name": "HBoxModel",
      "_view_count": null,
      "_view_module": "@jupyter-widgets/controls",
      "_view_module_version": "1.5.0",
      "_view_name": "HBoxView",
      "box_style": "",
      "children": [
       "IPY_MODEL_33c4a940931b4ae681e6a8a18e8c3058",
       "IPY_MODEL_ddb0308cd5b74f8687dfe79d034ecc08"
      ],
      "layout": "IPY_MODEL_c2c8840c29bc47c28a26f5781aa7791f"
     }
    },
    "ed9ce340f028495fae99969fab507c46": {
     "model_module": "@jupyter-widgets/controls",
     "model_name": "HBoxModel",
     "state": {
      "_dom_classes": [],
      "_model_module": "@jupyter-widgets/controls",
      "_model_module_version": "1.5.0",
      "_model_name": "HBoxModel",
      "_view_count": null,
      "_view_module": "@jupyter-widgets/controls",
      "_view_module_version": "1.5.0",
      "_view_name": "HBoxView",
      "box_style": "",
      "children": [
       "IPY_MODEL_8c432bc5e1334c6992c7509a1089cbc9",
       "IPY_MODEL_c018ced24f17446d9f3f7df844c5b3e5"
      ],
      "layout": "IPY_MODEL_cec12892efc64ba69fdab43efb49f937"
     }
    },
    "f329e1092c534b6f85f1561ba20a19e6": {
     "model_module": "@jupyter-widgets/controls",
     "model_name": "DescriptionStyleModel",
     "state": {
      "_model_module": "@jupyter-widgets/controls",
      "_model_module_version": "1.5.0",
      "_model_name": "DescriptionStyleModel",
      "_view_count": null,
      "_view_module": "@jupyter-widgets/base",
      "_view_module_version": "1.2.0",
      "_view_name": "StyleView",
      "description_width": ""
     }
    },
    "f6cb59f7a6bb4afcaf3f4909739b83f1": {
     "model_module": "@jupyter-widgets/controls",
     "model_name": "ProgressStyleModel",
     "state": {
      "_model_module": "@jupyter-widgets/controls",
      "_model_module_version": "1.5.0",
      "_model_name": "ProgressStyleModel",
      "_view_count": null,
      "_view_module": "@jupyter-widgets/base",
      "_view_module_version": "1.2.0",
      "_view_name": "StyleView",
      "bar_color": null,
      "description_width": "initial"
     }
    }
   }
  }
 },
 "nbformat": 4,
 "nbformat_minor": 1
}
