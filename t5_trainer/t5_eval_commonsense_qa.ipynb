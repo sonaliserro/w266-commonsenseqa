{
 "cells": [
  {
   "cell_type": "code",
   "execution_count": 25,
   "metadata": {},
   "outputs": [],
   "source": [
    "import torch\n",
    "import nlp\n",
    "\n",
    "from transformers import T5ForConditionalGeneration, T5Tokenizer\n",
    "\n",
    "from tqdm.auto import tqdm\n",
    "\n",
    "from sklearn import metrics"
   ]
  },
  {
   "cell_type": "code",
   "execution_count": 2,
   "metadata": {},
   "outputs": [],
   "source": [
    "# Load the pretrained model\n",
    "model = T5ForConditionalGeneration.from_pretrained('models')\n",
    "tokenizer = T5Tokenizer.from_pretrained('models')"
   ]
  },
  {
   "cell_type": "code",
   "execution_count": 6,
   "metadata": {},
   "outputs": [],
   "source": [
    "# Load the validation dataset\n",
    "valid_dataset = torch.load('./data/csqa/valid_data.pt')\n",
    "dataloader = torch.utils.data.DataLoader(valid_dataset, batch_size = 32)"
   ]
  },
  {
   "cell_type": "code",
   "execution_count": 21,
   "metadata": {},
   "outputs": [
    {
     "data": {
      "application/vnd.jupyter.widget-view+json": {
       "model_id": "ed32f5a742ac4bf984436cb2fe1411c6",
       "version_major": 2,
       "version_minor": 0
      },
      "text/plain": [
       "HBox(children=(FloatProgress(value=0.0, max=39.0), HTML(value='')))"
      ]
     },
     "metadata": {},
     "output_type": "display_data"
    },
    {
     "name": "stdout",
     "output_type": "stream",
     "text": [
      "\n"
     ]
    }
   ],
   "source": [
    "# Generate predictions\n",
    "predictions = []\n",
    "targets = []\n",
    "for batch in tqdm(dataloader):\n",
    "    prediction = model.generate(input_ids = batch['input_ids'], \n",
    "                          attention_mask = batch['attention_mask'],\n",
    "                          max_length = 16,\n",
    "                          early_stopping = True)\n",
    "    prediction = [tokenizer.decode(ids) for ids in prediction]\n",
    "    target = [tokenizer.decode(ids) for ids in batch['target_ids']]\n",
    "    \n",
    "    predictions.extend(prediction)\n",
    "    targets.extend(target)"
   ]
  },
  {
   "cell_type": "code",
   "execution_count": 26,
   "metadata": {},
   "outputs": [
    {
     "data": {
      "text/plain": [
       "0.6183456183456183"
      ]
     },
     "execution_count": 26,
     "metadata": {},
     "output_type": "execute_result"
    }
   ],
   "source": [
    "metrics.accuracy_score(targets, predictions)"
   ]
  },
  {
   "cell_type": "code",
   "execution_count": 36,
   "metadata": {},
   "outputs": [
    {
     "name": "stdout",
     "output_type": "stream",
     "text": [
      "question: I did not need a servant. I was not a what? options: A: freedom B: rich person C: hired help D: in charge E: busy\n",
      "Target Answer: B Predicted Answer: B\n"
     ]
    }
   ],
   "source": [
    "idx = 100\n",
    "print(tokenizer.decode(valid_dataset[idx]['input_ids']))\n",
    "print(\"Target Answer: {} Predicted Answer: {}\".format(tokenizer.decode(valid_dataset[idx]['target_ids']), predictions[idx]))"
   ]
  }
 ],
 "metadata": {
  "kernelspec": {
   "display_name": "Python 3",
   "language": "python",
   "name": "python3"
  },
  "language_info": {
   "codemirror_mode": {
    "name": "ipython",
    "version": 3
   },
   "file_extension": ".py",
   "mimetype": "text/x-python",
   "name": "python",
   "nbconvert_exporter": "python",
   "pygments_lexer": "ipython3",
   "version": "3.8.3"
  }
 },
 "nbformat": 4,
 "nbformat_minor": 4
}
