{
 "cells": [
  {
   "cell_type": "markdown",
   "metadata": {},
   "source": [
    "# BERT - Out of the Box\n",
    "\n",
    "In this notebook, we will test the performance of an out-of-the-box BERT model on CommonsenseQA. I follow the tutorial here: https://github.com/jalammar/jalammar.github.io/blob/master/notebooks/bert/A_Visual_Notebook_to_Using_BERT_for_the_First_Time.ipynb\n",
    "\n",
    "I've implemented the Hugginface transformers library. \n",
    "\n",
    "I referred to the Commonsense QA repo and code to understand how the authors of this work establiahsed their baseline using BERT. This is the link to their code: https://github.com/jonathanherzig/commonsenseqa/blob/master/bert/run_commonsense_qa.py\n",
    "\n",
    "From this repo (README): https://github.com/jonathanherzig/commonsenseqa\n",
    "\n",
    "Their work is far more advanced and complicated than maybe what I want to do at this time. But I refer to their work to understand the set up."
   ]
  },
  {
   "cell_type": "code",
   "execution_count": 1,
   "metadata": {},
   "outputs": [
    {
     "name": "stdout",
     "output_type": "stream",
     "text": [
      "Run type: tiny\n",
      "2.3.0\n",
      "Num GPUs Available:  0\n",
      "Num CPUs Available:  1\n"
     ]
    }
   ],
   "source": [
    "import numpy as np\n",
    "import pandas as pd\n",
    "from sklearn.model_selection import train_test_split\n",
    "from sklearn.linear_model import LogisticRegression\n",
    "from sklearn.model_selection import GridSearchCV\n",
    "from sklearn.model_selection import cross_val_score\n",
    "\n",
    "import warnings\n",
    "\n",
    "import json\n",
    "from pandas.io.json import json_normalize\n",
    "warnings.filterwarnings('ignore')\n",
    "\n",
    "\n",
    "from transformers import BertTokenizer, TFBertModel, BertConfig\n",
    "\n",
    "import tensorflow as tf\n",
    "from tensorflow import keras\n",
    "\n",
    "from datetime import datetime\n",
    "\n",
    "import time \n",
    "configuration = BertConfig() \n",
    "from IPython.display import Image \n",
    "\n",
    "from tensorflow.keras.callbacks import TensorBoard\n",
    "import pickle\n",
    "\n",
    "runtype=\"tiny\"\n",
    "\n",
    "print(\"Run type:\", runtype)\n",
    "print(tf.__version__) \n",
    "print(\"Num GPUs Available: \", len(tf.config.experimental.list_physical_devices('GPU')))\n",
    "print(\"Num CPUs Available: \",\n",
    "      len(tf.config.experimental.list_physical_devices('CPU')))\n"
   ]
  },
  {
   "cell_type": "markdown",
   "metadata": {},
   "source": [
    "## Import dataset\n",
    "\n",
    "It's in the dataset folder."
   ]
  },
  {
   "cell_type": "code",
   "execution_count": 2,
   "metadata": {},
   "outputs": [
    {
     "data": {
      "text/html": [
       "<div>\n",
       "<style scoped>\n",
       "    .dataframe tbody tr th:only-of-type {\n",
       "        vertical-align: middle;\n",
       "    }\n",
       "\n",
       "    .dataframe tbody tr th {\n",
       "        vertical-align: top;\n",
       "    }\n",
       "\n",
       "    .dataframe thead th {\n",
       "        text-align: right;\n",
       "    }\n",
       "</style>\n",
       "<table border=\"1\" class=\"dataframe\">\n",
       "  <thead>\n",
       "    <tr style=\"text-align: right;\">\n",
       "      <th></th>\n",
       "      <th>answerKey</th>\n",
       "      <th>id</th>\n",
       "      <th>question_concept</th>\n",
       "      <th>choices</th>\n",
       "      <th>stem</th>\n",
       "    </tr>\n",
       "  </thead>\n",
       "  <tbody>\n",
       "    <tr>\n",
       "      <th>0</th>\n",
       "      <td>A</td>\n",
       "      <td>075e483d21c29a511267ef62bedc0461</td>\n",
       "      <td>punishing</td>\n",
       "      <td>[{'label': 'A', 'text': 'ignore'}, {'label': '...</td>\n",
       "      <td>The sanctions against the school were a punish...</td>\n",
       "    </tr>\n",
       "    <tr>\n",
       "      <th>1</th>\n",
       "      <td>B</td>\n",
       "      <td>61fe6e879ff18686d7552425a36344c8</td>\n",
       "      <td>people</td>\n",
       "      <td>[{'label': 'A', 'text': 'race track'}, {'label...</td>\n",
       "      <td>Sammy wanted to go to where the people were.  ...</td>\n",
       "    </tr>\n",
       "    <tr>\n",
       "      <th>2</th>\n",
       "      <td>A</td>\n",
       "      <td>4c1cb0e95b99f72d55c068ba0255c54d</td>\n",
       "      <td>choker</td>\n",
       "      <td>[{'label': 'A', 'text': 'jewelry store'}, {'la...</td>\n",
       "      <td>To locate a choker not located in a jewelry bo...</td>\n",
       "    </tr>\n",
       "    <tr>\n",
       "      <th>3</th>\n",
       "      <td>D</td>\n",
       "      <td>02e821a3e53cb320790950aab4489e85</td>\n",
       "      <td>highway</td>\n",
       "      <td>[{'label': 'A', 'text': 'united states'}, {'la...</td>\n",
       "      <td>Google Maps and other highway and street GPS s...</td>\n",
       "    </tr>\n",
       "    <tr>\n",
       "      <th>4</th>\n",
       "      <td>C</td>\n",
       "      <td>23505889b94e880c3e89cff4ba119860</td>\n",
       "      <td>fox</td>\n",
       "      <td>[{'label': 'A', 'text': 'pretty flowers.'}, {'...</td>\n",
       "      <td>The fox walked from the city into the forest, ...</td>\n",
       "    </tr>\n",
       "  </tbody>\n",
       "</table>\n",
       "</div>"
      ],
      "text/plain": [
       "  answerKey                                id question_concept  \\\n",
       "0         A  075e483d21c29a511267ef62bedc0461        punishing   \n",
       "1         B  61fe6e879ff18686d7552425a36344c8           people   \n",
       "2         A  4c1cb0e95b99f72d55c068ba0255c54d           choker   \n",
       "3         D  02e821a3e53cb320790950aab4489e85          highway   \n",
       "4         C  23505889b94e880c3e89cff4ba119860              fox   \n",
       "\n",
       "                                             choices  \\\n",
       "0  [{'label': 'A', 'text': 'ignore'}, {'label': '...   \n",
       "1  [{'label': 'A', 'text': 'race track'}, {'label...   \n",
       "2  [{'label': 'A', 'text': 'jewelry store'}, {'la...   \n",
       "3  [{'label': 'A', 'text': 'united states'}, {'la...   \n",
       "4  [{'label': 'A', 'text': 'pretty flowers.'}, {'...   \n",
       "\n",
       "                                                stem  \n",
       "0  The sanctions against the school were a punish...  \n",
       "1  Sammy wanted to go to where the people were.  ...  \n",
       "2  To locate a choker not located in a jewelry bo...  \n",
       "3  Google Maps and other highway and street GPS s...  \n",
       "4  The fox walked from the city into the forest, ...  "
      ]
     },
     "execution_count": 2,
     "metadata": {},
     "output_type": "execute_result"
    }
   ],
   "source": [
    "def load_data(file):\n",
    "    lines = []\n",
    "    with open(file, 'rb') as json_file:\n",
    "        for json_line in json_file:\n",
    "            lines.append(json.loads(json_line))\n",
    "        data = json_normalize(lines)\n",
    "        data.columns = data.columns.map(lambda x: x.split(\".\")[-1])\n",
    "    return data\n",
    "# os.chdir('w266-commonsenseqa/BERT_oob)\n",
    "train = load_data('../dataset/train_rand_split.jsonl')\n",
    "dev = load_data('../dataset/dev_rand_split.jsonl')\n",
    "train.head()"
   ]
  },
  {
   "cell_type": "markdown",
   "metadata": {},
   "source": [
    "## Steps\n",
    "\n",
    "1. Import training examples\n",
    "2. Process it\n",
    "    - Format input into something BERT can work with, including `[CLS]` and `[SEP]`\n",
    "    - We were thinking which label is correct: \n",
    "    - Tokenize \n",
    "    - Create an output layer using softmax. \n",
    "3. Train it\n",
    "    - Specify how many layers of BERT to fine tune\n",
    "    "
   ]
  },
  {
   "cell_type": "markdown",
   "metadata": {},
   "source": [
    "# BERT base model (uncased)\n",
    "\n",
    "From: https://huggingface.co/bert-base-uncased\n",
    "\n",
    "> Pretrained model on English language using a masked language modeling (MLM) objective. It was introduced in this paper and first released in this repository. This model is uncased: it does not make a difference between english and English.\n",
    "> \n",
    "> Disclaimer: The team releasing BERT did not write a model card for this model so this model card has been written by the Hugging Face team."
   ]
  },
  {
   "cell_type": "markdown",
   "metadata": {},
   "source": [
    "For each question, there are five answer choices. Only one of them is correct.\n",
    "\n",
    "For BERT, the first thought was to have all five answers attached to each question, and the model would choose one of the five responses. This is how it's originally done in the CommonsenseQA paper.\n",
    "\n",
    "```\n",
    "[CLS] Question text here [SEP] Ans choice A [SEP] Ans choice B [SEP] Ans choice C [SEP] Ans choice D [SEP] Ans choice E [SEP]\n",
    "```\n",
    "\n",
    "It seems complicated, however, and requires a significant lift. So for now, let me try creating five question-answer pairs for each question. Like this:\n",
    "\n",
    "```\n",
    "[CLS] Question text here [SEP] Ans choice A [SEP]\n",
    "[CLS] Question text here [SEP] Ans choice B [SEP]\n",
    "[CLS] Question text here [SEP] Ans choice C [SEP]\n",
    "[CLS] Question text here [SEP] Ans choice D [SEP]\n",
    "[CLS] Question text here [SEP] Ans choice E [SEP]\n",
    "```\n",
    "\n",
    "Only one of the above 5 inputs will have a positive label for being the correct answer. The rest will have 0. The problem with this model is that we're evaluating each choice separately to see if it looks like a right answer at all. But I think it's important for the model to know how the answer choices compare to each other as well.\n"
   ]
  },
  {
   "cell_type": "code",
   "execution_count": 3,
   "metadata": {},
   "outputs": [],
   "source": [
    "tokenizer = BertTokenizer.from_pretrained(\"bert-base-uncased\")\n",
    "lab_order = {\"A\": 0, \"B\":1, \"C\":2, \"D\":3, \"E\":4}\n",
    "\n",
    "class InputExample(object):\n",
    "    \"\"\"A single multiple choice question and its five multiple choice answer candidates\"\"\"\n",
    "    # This class is adapted from https://github.com/jonathanherzig/commonsenseqa/blob/master/bert/run_commonsense_qa.py\n",
    "    # and from https://github.com/rodgzilla/pytorch-pretrained-BERT/blob/dcb50eaa4b80d3ab75d373c36780c80fb47cfd97/examples/run_swag.py\n",
    "\n",
    "    def __init__(\n",
    "            self,\n",
    "            qid,\n",
    "            question,\n",
    "            choice_0,\n",
    "            choice_1,\n",
    "            choice_2,\n",
    "            choice_3,\n",
    "            choice_4,\n",
    "            label=None):\n",
    "        \"\"\"Construct an instance.\"\"\"\n",
    "        self.qid = qid\n",
    "        self.question = question  # e.g., 'The sanctions against the school were a punishing blow, and they seemed to what the efforts the school had made to change?'\n",
    "        self.choices = [          # All five anser choices as a list\n",
    "            choice_0,\n",
    "            choice_1,\n",
    "            choice_2,\n",
    "            choice_3,\n",
    "            choice_4\n",
    "        ]\n",
    "        self.label = label        # \n",
    "        \n",
    "    def __str__(self):\n",
    "        return self.__repr__()\n",
    "\n",
    "    def __repr__(self):\n",
    "        l = [\n",
    "            f\"qid: {self.qid}\",\n",
    "            f\"question: {self.question}\",\n",
    "            f\"choice_0: {self.choices[0]}\",\n",
    "            f\"choice_1: {self.choices[1]}\",\n",
    "            f\"choice_2: {self.choices[2]}\",\n",
    "            f\"choice_3: {self.choices[3]}\",\n",
    "            f\"choice_4: {self.choices[4]}\",\n",
    "        ]\n",
    "\n",
    "        if self.label is not None:\n",
    "            l.append(f\"label: {self.label}\")\n",
    "\n",
    "        return \", \".join(l)    \n",
    "\n",
    "class InputFeatures(object):\n",
    "    \"\"\"Adapted from: https://github.com/rodgzilla/pytorch-pretrained-BERT/blob/dcb50eaa4b80d3ab75d373c36780c80fb47cfd97/examples/run_swag.py\n",
    "    Stores Bert model inputs (ids, masks) for each example\"\"\"\n",
    "    \n",
    "    def __init__(self,\n",
    "                 example_id,\n",
    "                 choices_features,\n",
    "                 label\n",
    "\n",
    "    ):\n",
    "        self.example_id = example_id\n",
    "        self.choices_features = [\n",
    "            {\n",
    "                'input_ids': input_ids,\n",
    "                'input_mask': input_mask,\n",
    "                'segment_ids': segment_ids\n",
    "            }\n",
    "            for _, input_ids, input_mask, segment_ids in choices_features\n",
    "        ]\n",
    "        self.label = label\n",
    "\n",
    "    \n",
    "def process_examples(data):\n",
    "    \"\"\"Given the examples in a pandas df format, process examples into example class\"\"\"\n",
    "    examples = []\n",
    "    labels = []\n",
    "    questions = []\n",
    "    anscands = []\n",
    "    \n",
    "    \n",
    "    for index, row in data.iterrows(): \n",
    "        example = InputExample(\n",
    "                    qid=row.id,\n",
    "                    question=row.stem,\n",
    "                    choice_0=str(row.choices[0]).replace(\"'\",\"\"),\n",
    "                    choice_1=str(row.choices[1]).replace(\"'\",\"\"),\n",
    "                    choice_2=str(row.choices[2]).replace(\"'\",\"\"),\n",
    "                    choice_3=str(row.choices[3]).replace(\"'\",\"\"),\n",
    "                    choice_4=str(row.choices[4]).replace(\"'\",\"\"),\n",
    "                    label=lab_order[row.answerKey]\n",
    "                )\n",
    "        examples.append(example)\n",
    "        \n",
    "    return examples \n",
    "\n",
    "def convert_examples_to_features(examples, tokenizer, max_seq_length, is_training):\n",
    "    # For each quesiton, we generate five inputs: one for each answer choice. \n",
    "    \n",
    "    # - [CLS] question [SEP] choice_1 [SEP]\n",
    "    # - [CLS] question [SEP] choice_2 [SEP]\n",
    "    # - [CLS] question [SEP] choice_3 [SEP]\n",
    "    # - [CLS] question [SEP] choice_4 [SEP]\n",
    "    # - [CLS] question [SEP] choice_5 [SEP]\n",
    "    \n",
    "    features = []\n",
    "    # Loop through questions\n",
    "    for example_index, example in enumerate(examples):\n",
    "        question_tokens = tokenizer.tokenize(example.question)\n",
    "\n",
    "        choices_features = []\n",
    "        # For each question, loop through all answer choices \n",
    "        for choice_index, choice in enumerate(example.choices):\n",
    "            # We create a copy of the question tokens in order to be\n",
    "            # able to shrink it according to choice_tokens\n",
    "            question_tokens_choice = question_tokens[:]\n",
    "            choice_tokens = tokenizer.tokenize(choice)\n",
    "            # Modifies `question_tokens_choice` and `choice_tokens` in\n",
    "            # place so that the total length is less than the\n",
    "            # specified length.  Account for [CLS], [SEP], [SEP] with\n",
    "            # \"- 3\"\n",
    "            _truncate_seq_pair(question_tokens_choice, choice_tokens, max_seq_length - 3)\n",
    "\n",
    "            tokens = [\"[CLS]\"] + question_tokens_choice + [\"[SEP]\"] + choice_tokens + [\"[SEP]\"]\n",
    "            segment_ids = [0] * (len(question_tokens_choice) + 2) + [1] * (len(choice_tokens) + 1)\n",
    "\n",
    "            input_ids = tokenizer.convert_tokens_to_ids(tokens)\n",
    "            input_mask = [1] * len(input_ids)\n",
    "\n",
    "            # Zero-pad up to the sequence length.\n",
    "            padding = [0] * (max_seq_length - len(input_ids))\n",
    "            input_ids += padding\n",
    "            input_mask += padding\n",
    "            segment_ids += padding\n",
    "\n",
    "            assert len(input_ids) == max_seq_length\n",
    "            assert len(input_mask) == max_seq_length\n",
    "            assert len(segment_ids) == max_seq_length\n",
    "\n",
    "            choices_features.append((tokens, input_ids, input_mask, segment_ids))\n",
    "\n",
    "        label = example.label\n",
    "\n",
    "        features.append(\n",
    "            InputFeatures(\n",
    "                example_id = example.qid,\n",
    "                choices_features = choices_features,\n",
    "                label = label\n",
    "            )\n",
    "        )\n",
    "\n",
    "    return features\n",
    "\n",
    "\n",
    "def _truncate_seq_pair(tokens_a, tokens_b, max_length):\n",
    "    \"\"\"Truncates a sequence pair in place to the maximum length.\"\"\"\n",
    "\n",
    "    # This is a simple heuristic which will always truncate the longer sequence\n",
    "    # one token at a time. This makes more sense than truncating an equal percent\n",
    "    # of tokens from each, since if one sequence is very short then each token\n",
    "    # that's truncated likely contains more information than a longer sequence.\n",
    "    while True:\n",
    "        total_length = len(tokens_a) + len(tokens_b)\n",
    "        if total_length <= max_length:\n",
    "            break\n",
    "        if len(tokens_a) > len(tokens_b):\n",
    "            tokens_a.pop()\n",
    "        else:\n",
    "            tokens_b.pop()\n",
    "            \n",
    "def select_field(features, field):\n",
    "    \"\"\"Yields a list, length equal to the total number of examples,\n",
    "    where each item is a list of arrays,\n",
    "    each array representing the feature array\"\"\"\n",
    "    return [\n",
    "        [\n",
    "            choice[field]   # Grab the feature array of that choice.\n",
    "            for choice in feature.choices_features  # Loop through 5 choices of that example\n",
    "        ]\n",
    "        for feature in features   # loop through each example\n",
    "    ]\n",
    "\n"
   ]
  },
  {
   "cell_type": "code",
   "execution_count": 4,
   "metadata": {},
   "outputs": [],
   "source": [
    "# Process inputs \n",
    "tiny_train = train.iloc[0:10]\n",
    "\n",
    "train_examples= process_examples(tiny_train)\n",
    "train_features = convert_examples_to_features(\n",
    "                    examples=train_examples, \n",
    "                    tokenizer=tokenizer, \n",
    "                    max_seq_length=50, \n",
    "                    is_training=True)\n"
   ]
  },
  {
   "cell_type": "code",
   "execution_count": 12,
   "metadata": {},
   "outputs": [],
   "source": [
    "all_input_ids = tf.convert_to_tensor(select_field(train_features, 'input_ids'), dtype=tf.int32)\n",
    "all_input_mask = tf.convert_to_tensor(select_field(train_features, 'input_mask'), dtype=tf.int32)\n",
    "all_segment_ids = tf.convert_to_tensor(select_field(train_features, 'segment_ids'), dtype=tf.int32)\n",
    "all_label = tf.convert_to_tensor([f.label for f in train_features], dtype=tf.float32)\n",
    "\n",
    "train_data = [all_input_ids, all_input_mask, all_segment_ids, all_label]\n"
   ]
  },
  {
   "cell_type": "code",
   "execution_count": 6,
   "metadata": {},
   "outputs": [
    {
     "name": "stdout",
     "output_type": "stream",
     "text": [
      "(10, 5, 50)\n",
      "(10, 5, 50)\n",
      "(10, 5, 50)\n",
      "(10,)\n"
     ]
    }
   ],
   "source": [
    "print(all_input_ids.shape)\n",
    "print(all_input_mask.shape)\n",
    "print(all_segment_ids.shape)\n",
    "print(all_label.shape)\n"
   ]
  },
  {
   "cell_type": "code",
   "execution_count": 7,
   "metadata": {},
   "outputs": [],
   "source": [
    "from transformers import TFBertForMultipleChoice"
   ]
  },
  {
   "cell_type": "code",
   "execution_count": 8,
   "metadata": {},
   "outputs": [
    {
     "name": "stderr",
     "output_type": "stream",
     "text": [
      "Some weights of the model checkpoint at bert-base-uncased were not used when initializing TFBertForMultipleChoice: ['mlm___cls', 'nsp___cls']\n",
      "- This IS expected if you are initializing TFBertForMultipleChoice from the checkpoint of a model trained on another task or with another architecture (e.g. initializing a BertForSequenceClassification model from a BertForPretraining model).\n",
      "- This IS NOT expected if you are initializing TFBertForMultipleChoice from the checkpoint of a model that you expect to be exactly identical (initializing a BertForSequenceClassification model from a BertForSequenceClassification model).\n",
      "Some weights of TFBertForMultipleChoice were not initialized from the model checkpoint at bert-base-uncased and are newly initialized: ['dropout_37', 'classifier']\n",
      "You should probably TRAIN this model on a down-stream task to be able to use it for predictions and inference.\n"
     ]
    }
   ],
   "source": [
    "model = TFBertForMultipleChoice.from_pretrained('bert-base-uncased')"
   ]
  },
  {
   "cell_type": "code",
   "execution_count": 14,
   "metadata": {},
   "outputs": [],
   "source": [
    "# The forward method is the actual code that runs during the forward pass (like the predict method in sklearn or keras).\n",
    "# call is a forward method.\n",
    "\n",
    "output = model.call(\n",
    "        inputs=all_input_ids,\n",
    "        attention_mask=all_input_mask,\n",
    "        token_type_ids=all_segment_ids,\n",
    "        position_ids=None,\n",
    "        head_mask=None,\n",
    "        inputs_embeds=None,\n",
    "        labels=all_label,\n",
    "        output_attentions=None,\n",
    "        output_hidden_states=None,\n",
    "        return_dict=True,\n",
    "    )"
   ]
  },
  {
   "cell_type": "markdown",
   "metadata": {},
   "source": [
    "Output is of the class `TFMultipleChoiceModelOutput`. It contains the following elements:\n",
    "\n",
    "            loss=loss,\n",
    "            logits=reshaped_logits,\n",
    "            hidden_states=outputs.hidden_states,\n",
    "            attentions=outputs.attentions,\n",
    "        "
   ]
  },
  {
   "cell_type": "code",
   "execution_count": 19,
   "metadata": {},
   "outputs": [
    {
     "data": {
      "text/plain": [
       "transformers.modeling_tf_outputs.TFMultipleChoiceModelOutput"
      ]
     },
     "execution_count": 19,
     "metadata": {},
     "output_type": "execute_result"
    }
   ],
   "source": [
    "type(output)"
   ]
  },
  {
   "cell_type": "code",
   "execution_count": 20,
   "metadata": {},
   "outputs": [
    {
     "data": {
      "text/plain": [
       "odict_keys(['loss', 'logits'])"
      ]
     },
     "execution_count": 20,
     "metadata": {},
     "output_type": "execute_result"
    }
   ],
   "source": [
    "output.keys()"
   ]
  },
  {
   "cell_type": "markdown",
   "metadata": {},
   "source": [
    "Looks like I didn't opt for it to return hidden states or attention. So I only got losses and logits. More info on what these mean [here - transformers.BertModel.forward](https://huggingface.co/transformers/model_doc/bert.html#transformers.BertModel.forward)"
   ]
  },
  {
   "cell_type": "code",
   "execution_count": 22,
   "metadata": {},
   "outputs": [
    {
     "data": {
      "text/plain": [
       "<tf.Tensor: shape=(5,), dtype=float32, numpy=\n",
       "array([-0.75718963, -0.767469  , -0.65268475, -0.735697  , -0.74570036],\n",
       "      dtype=float32)>"
      ]
     },
     "execution_count": 22,
     "metadata": {},
     "output_type": "execute_result"
    }
   ],
   "source": [
    "output['logits'][0]"
   ]
  },
  {
   "cell_type": "code",
   "execution_count": 35,
   "metadata": {},
   "outputs": [
    {
     "name": "stdout",
     "output_type": "stream",
     "text": [
      "predicted: 2 actual: 0 False\n",
      "predicted: 3 actual: 1 False\n",
      "predicted: 0 actual: 0 True\n",
      "predicted: 2 actual: 3 False\n",
      "predicted: 0 actual: 2 False\n",
      "predicted: 3 actual: 3 True\n",
      "predicted: 4 actual: 4 True\n",
      "predicted: 3 actual: 1 False\n",
      "predicted: 2 actual: 4 False\n",
      "predicted: 3 actual: 3 True\n"
     ]
    }
   ],
   "source": [
    "# So here are the guesses!\n",
    "\n",
    "for i in range(0, 10):\n",
    "    print(\"predicted:\", np.argmax(tf.nn.softmax(output['logits'][i])),\n",
    "         \"actual:\", int(all_label[i]), \n",
    "          np.argmax(tf.nn.softmax(output['logits'][i]))== int(all_label[i]))\n"
   ]
  },
  {
   "cell_type": "markdown",
   "metadata": {},
   "source": [
    "Let's see if we can train it some more."
   ]
  },
  {
   "cell_type": "code",
   "execution_count": null,
   "metadata": {},
   "outputs": [],
   "source": []
  },
  {
   "cell_type": "code",
   "execution_count": null,
   "metadata": {},
   "outputs": [],
   "source": []
  },
  {
   "cell_type": "code",
   "execution_count": null,
   "metadata": {},
   "outputs": [],
   "source": []
  },
  {
   "cell_type": "code",
   "execution_count": null,
   "metadata": {},
   "outputs": [],
   "source": []
  },
  {
   "cell_type": "code",
   "execution_count": null,
   "metadata": {},
   "outputs": [],
   "source": []
  },
  {
   "cell_type": "code",
   "execution_count": null,
   "metadata": {},
   "outputs": [],
   "source": []
  },
  {
   "cell_type": "markdown",
   "metadata": {},
   "source": [
    "### Game plan\n",
    "\n",
    "I'll be following the tutorial on: http://jalammar.github.io/a-visual-guide-to-using-bert-for-the-first-time/, but for specifically commonsenseQA. Here are the steps from the tutorial.\n",
    "\n",
    "1. Embed all sentences. Let's look at the output from the BERT model for our inputs. \n",
    "2. The tutorial says do a train/test split. We don't need this 'cause our data came separate.\n",
    "3. Train the logistic regressio model using the training set. This is training on the output of BERT. I will need to create a FFNN to attach at the end of BERT. See what it comes back with. \n",
    "4. (Optional for now) For each question, pick the answer with the highest score. \n",
    "5. Then, evaluate against true answers. The evaluation metric will be % of questions with the correct answers out of all questions. \n"
   ]
  },
  {
   "cell_type": "markdown",
   "metadata": {},
   "source": [
    "#### Step 1: Embed all sentences. \n",
    "\n",
    "I've already formatted the CommonsenseQA inpts to be fed into the BERT model. Let's look at the output from the BERT model for our inputs. It should have a 768-long vector for each input token."
   ]
  },
  {
   "cell_type": "markdown",
   "metadata": {},
   "source": [
    "### Sunday morning retry "
   ]
  },
  {
   "cell_type": "code",
   "execution_count": 5,
   "metadata": {},
   "outputs": [],
   "source": [
    "NAME = 'oob_bert_classify_{runtype}_{ts}'.format(runtype=runtype, ts=int(time.time()))\n",
    "tensorboard = TensorBoard(log_dir='models/logs/{}'.format(NAME))\n",
    "\n",
    "def classification_model(max_len):\n",
    "    \"\"\"Implementation of classification model.\n",
    "    Returns: model\"\"\"\n",
    "    ## BERT encoder\n",
    "    encoder = TFBertModel.from_pretrained(\"bert-base-uncased\")\n",
    "    ## QA Model\n",
    "    input_ids      = tf.keras.layers.Input(shape=(5, max_len,), dtype=tf.int32, name=\"InputID\")\n",
    "    attention_mask = tf.keras.layers.Input(shape=(5, max_len,), dtype=tf.int32, name=\"AttentionMask\")\n",
    "    token_type_ids = tf.keras.layers.Input(shape=(5, max_len,), dtype=tf.int32, name=\"TokenTypeID\")\n",
    "    embedding = encoder(\n",
    "        [input_ids, attention_mask, token_type_ids]\n",
    "    )[0]\n",
    "    # Feed inputs through the bert model, \n",
    "    # then take just the vector associated with first token [CLS]\n",
    "    bert_cls_output = embedding[:,0]\n",
    "    # These are the layers that come after Bert.\n",
    "    dense = tf.keras.layers.Dense(256, activation='relu', name='dense')(bert_cls_output)\n",
    "    # Output layer to predict correct answer. \n",
    "    # For the future, we may modify it to choose the max candidate answer of each question\n",
    "    # for now, just predict from 0 to 1 whether this looks like a correct answer. \n",
    "    pred = tf.keras.layers.Dense(1, activation='sigmoid', name='correct')(dense)\n",
    "    model = tf.keras.models.Model(inputs=[input_ids, token_type_ids, attention_mask],\n",
    "                                  outputs=pred)\n",
    "    model.compile(loss=\"binary_crossentropy\", \n",
    "                  optimizer=\"adam\",\n",
    "                  metrics=[\"accuracy\"])\n",
    "    model.summary()\n",
    "    return model\n"
   ]
  },
  {
   "cell_type": "markdown",
   "metadata": {},
   "source": [
    "# Train\n",
    "\n",
    "On training set"
   ]
  },
  {
   "cell_type": "code",
   "execution_count": 6,
   "metadata": {},
   "outputs": [
    {
     "name": "stderr",
     "output_type": "stream",
     "text": [
      "Some weights of the model checkpoint at bert-base-uncased were not used when initializing TFBertModel: ['mlm___cls', 'nsp___cls']\n",
      "- This IS expected if you are initializing TFBertModel from the checkpoint of a model trained on another task or with another architecture (e.g. initializing a BertForSequenceClassification model from a BertForPretraining model).\n",
      "- This IS NOT expected if you are initializing TFBertModel from the checkpoint of a model that you expect to be exactly identical (initializing a BertForSequenceClassification model from a BertForSequenceClassification model).\n",
      "All the weights of TFBertModel were initialized from the model checkpoint at bert-base-uncased.\n",
      "If your task is similar to the task the model of the checkpoint was trained on, you can already use TFBertModel for predictions without further training.\n"
     ]
    },
    {
     "name": "stdout",
     "output_type": "stream",
     "text": [
      "Model: \"functional_1\"\n",
      "__________________________________________________________________________________________________\n",
      "Layer (type)                    Output Shape         Param #     Connected to                     \n",
      "==================================================================================================\n",
      "InputID (InputLayer)            [(None, 10)]         0                                            \n",
      "__________________________________________________________________________________________________\n",
      "AttentionMask (InputLayer)      [(None, 10)]         0                                            \n",
      "__________________________________________________________________________________________________\n",
      "TokenTypeID (InputLayer)        [(None, 10)]         0                                            \n",
      "__________________________________________________________________________________________________\n",
      "tf_bert_model (TFBertModel)     ((None, 10, 768), (N 109482240   InputID[0][0]                    \n",
      "                                                                 AttentionMask[0][0]              \n",
      "                                                                 TokenTypeID[0][0]                \n",
      "__________________________________________________________________________________________________\n",
      "tf_op_layer_strided_slice (Tens [(None, 768)]        0           tf_bert_model[0][0]              \n",
      "__________________________________________________________________________________________________\n",
      "dense (Dense)                   (None, 256)          196864      tf_op_layer_strided_slice[0][0]  \n",
      "__________________________________________________________________________________________________\n",
      "correct (Dense)                 (None, 1)            257         dense[0][0]                      \n",
      "==================================================================================================\n",
      "Total params: 109,679,361\n",
      "Trainable params: 109,679,361\n",
      "Non-trainable params: 0\n",
      "__________________________________________________________________________________________________\n"
     ]
    }
   ],
   "source": [
    "# train_eg, train_encoded_eg, train_labs \n",
    "\n",
    "max_length= len(train_encoded_eg[0])   # num max token \n",
    "BertClassifierModel = classification_model(max_len=max_length)\n"
   ]
  },
  {
   "cell_type": "code",
   "execution_count": null,
   "metadata": {
    "scrolled": true
   },
   "outputs": [
    {
     "name": "stdout",
     "output_type": "stream",
     "text": [
      "WARNING:tensorflow:Model failed to serialize as JSON. Ignoring... \n",
      "Epoch 1/3\n",
      "WARNING:tensorflow:Model was constructed with shape (None, 10) for input Tensor(\"InputID:0\", shape=(None, 10), dtype=int32), but it was called on an input with incompatible shape (None, 30).\n",
      "WARNING:tensorflow:Model was constructed with shape (None, 10) for input Tensor(\"TokenTypeID:0\", shape=(None, 10), dtype=int32), but it was called on an input with incompatible shape (None, 30).\n",
      "WARNING:tensorflow:Model was constructed with shape (None, 10) for input Tensor(\"AttentionMask:0\", shape=(None, 10), dtype=int32), but it was called on an input with incompatible shape (None, 30).\n",
      "WARNING:tensorflow:Gradients do not exist for variables ['tf_bert_model/bert/pooler/dense/kernel:0', 'tf_bert_model/bert/pooler/dense/bias:0'] when minimizing the loss.\n",
      "WARNING:tensorflow:Gradients do not exist for variables ['tf_bert_model/bert/pooler/dense/kernel:0', 'tf_bert_model/bert/pooler/dense/bias:0'] when minimizing the loss.\n",
      "WARNING:tensorflow:Model was constructed with shape (None, 10) for input Tensor(\"InputID:0\", shape=(None, 10), dtype=int32), but it was called on an input with incompatible shape (None, 30).\n",
      "WARNING:tensorflow:Model was constructed with shape (None, 10) for input Tensor(\"TokenTypeID:0\", shape=(None, 10), dtype=int32), but it was called on an input with incompatible shape (None, 30).\n",
      "WARNING:tensorflow:Model was constructed with shape (None, 10) for input Tensor(\"AttentionMask:0\", shape=(None, 10), dtype=int32), but it was called on an input with incompatible shape (None, 30).\n",
      "WARNING:tensorflow:Gradients do not exist for variables ['tf_bert_model/bert/pooler/dense/kernel:0', 'tf_bert_model/bert/pooler/dense/bias:0'] when minimizing the loss.\n",
      "WARNING:tensorflow:Gradients do not exist for variables ['tf_bert_model/bert/pooler/dense/kernel:0', 'tf_bert_model/bert/pooler/dense/bias:0'] when minimizing the loss.\n"
     ]
    }
   ],
   "source": [
    "start = time.time()\n",
    "\n",
    "BertClassifierModel.fit(\n",
    "    [   train_encoded_eg[0],\n",
    "        train_encoded_eg[1],\n",
    "        train_encoded_eg[2]],\n",
    "    train_labs, \n",
    "    epochs=3,\n",
    "    # Insert validation data\n",
    "    validation_data=(\n",
    "        [dev_encoded_eg[0],\n",
    "         dev_encoded_eg[1],\n",
    "         dev_encoded_eg[2]\n",
    "        ], dev_labs\n",
    "    ),\n",
    "    # Log the training info on tensorboard\n",
    "    callbacks=[tensorboard])\n",
    "\n",
    "end = time.time()\n",
    "print(\"Execution duration in minutes:\", (end - start)/60)"
   ]
  },
  {
   "cell_type": "code",
   "execution_count": null,
   "metadata": {},
   "outputs": [],
   "source": [
    "predictions = BertClassifierModel.predict(\n",
    "    [dev_encoded_eg[0],\n",
    "         dev_encoded_eg[1],\n",
    "         dev_encoded_eg[2]\n",
    "        ])\n",
    "\n",
    "location=\"models/predictions/BertClassifierModel_{}_dev_predictions\".format(runtype)\n",
    "pickle_out = open(location, \"wb\")\n",
    "pickle.dump(predictions, pickle_out)\n",
    "pickle_out.close()"
   ]
  },
  {
   "cell_type": "code",
   "execution_count": null,
   "metadata": {},
   "outputs": [],
   "source": [
    "location='models/{NAME}.h5'.format(NAME=NAME)\n",
    "\n",
    "BertClassifierModel.save(location)"
   ]
  },
  {
   "cell_type": "code",
   "execution_count": null,
   "metadata": {},
   "outputs": [],
   "source": []
  },
  {
   "cell_type": "code",
   "execution_count": null,
   "metadata": {},
   "outputs": [],
   "source": []
  }
 ],
 "metadata": {
  "kernelspec": {
   "display_name": "Python 3",
   "language": "python",
   "name": "python3"
  },
  "language_info": {
   "codemirror_mode": {
    "name": "ipython",
    "version": 3
   },
   "file_extension": ".py",
   "mimetype": "text/x-python",
   "name": "python",
   "nbconvert_exporter": "python",
   "pygments_lexer": "ipython3",
   "version": "3.8.3"
  }
 },
 "nbformat": 4,
 "nbformat_minor": 4
}
