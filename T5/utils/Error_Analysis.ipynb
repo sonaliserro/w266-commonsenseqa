{
 "cells": [
  {
   "cell_type": "markdown",
   "metadata": {},
   "source": [
    "# Error Analysis"
   ]
  },
  {
   "cell_type": "code",
   "execution_count": 1,
   "metadata": {},
   "outputs": [],
   "source": [
    "import pickle \n",
    "import random\n",
    "from random import sample \n",
    "import torch\n",
    "import nlp\n",
    "from transformers import T5ForConditionalGeneration, T5Tokenizer\n",
    "from tqdm.auto import tqdm\n",
    "from sklearn import metrics\n",
    "import pandas as pd\n",
    "\n",
    "\n",
    "from matplotlib_venn import venn2, venn2_circles, venn2_unweighted\n",
    "from matplotlib_venn import venn3, venn3_circles\n",
    "from matplotlib import pyplot as plt\n",
    "%matplotlib inline\n",
    "\n",
    "import venn\n",
    "\n",
    "device = 'cuda' if torch.cuda.is_available else 'cpu'\n",
    "\n",
    "random.seed(a=42)"
   ]
  },
  {
   "cell_type": "markdown",
   "metadata": {},
   "source": [
    "## Models to evaluate\n",
    "\n",
    "1. **T5 Base**: Finetuned Commonsense QA for 10 epochs \n",
    "2. **T5 Base + Social I QA**: Finetuned on Social I QA (4 epochs, batch 8, lr 1e-4), then finetuned on Commonsense QA (10 epochs, batch size 8, learning rate 1e-4, wu 0)\n",
    "3. **T5 Base + Cosmos QA**: Finetuned on Cosmos QA (3 epochs, batch size 8, learning rate 5e-5), then finetuned on Commonsense QA (10 epochs, batch size 8, learning rate = 5e-5)\n",
    "4. **T5 Base + hellaswag**:\n"
   ]
  },
  {
   "cell_type": "code",
   "execution_count": 2,
   "metadata": {},
   "outputs": [],
   "source": [
    "# Load the validation dataset. Common to all analyses.\n",
    "valid_dataset = torch.load('../data/commonsense_qa/valid_data.pt')\n",
    "dataloader = torch.utils.data.DataLoader(valid_dataset, batch_size = 32)"
   ]
  },
  {
   "cell_type": "code",
   "execution_count": 3,
   "metadata": {},
   "outputs": [],
   "source": [
    "def predict_results(model_and_tokenizer_location):\n",
    "    # Load the pretrained model\n",
    "    model = T5ForConditionalGeneration.from_pretrained(model_and_tokenizer_location)\n",
    "    tokenizer = T5Tokenizer.from_pretrained(model_and_tokenizer_location)\n",
    "\n",
    "    # Generate predictions\n",
    "    predictions = []\n",
    "    targets = []\n",
    "    model.to(device)    \n",
    "    model.eval()\n",
    "    with torch.no_grad():\n",
    "        for batch in tqdm(dataloader):\n",
    "            prediction = model.generate(input_ids = batch['input_ids'].to(device), \n",
    "                              attention_mask = batch['attention_mask'].to(device),\n",
    "                              max_length = 16)\n",
    "            prediction = [tokenizer.decode(ids) for ids in prediction]\n",
    "            target = [tokenizer.decode(ids) for ids in batch['target_ids']]\n",
    "\n",
    "            predictions.extend(prediction)\n",
    "            targets.extend(target)\n",
    "            \n",
    "    return(predictions, targets, tokenizer)"
   ]
  },
  {
   "cell_type": "code",
   "execution_count": 4,
   "metadata": {},
   "outputs": [],
   "source": [
    "class Answers:\n",
    "    \n",
    "    def __init__(self, predictions, targets, tokenizer):\n",
    "        self.accuracy = metrics.accuracy_score(targets, predictions)\n",
    "        \n",
    "        # Find index of wrong answers \n",
    "        self.incorrect_idxs = [i for i, prediction in enumerate(predictions) \n",
    "                               if prediction != targets[i]]\n",
    "        \n",
    "        self.qq={}\n",
    "        self.target_ans={}\n",
    "        self.predicted_ans={}\n",
    "        \n",
    "        self.size = 0\n",
    "        \n",
    "        for incorrect_idx in self.incorrect_idxs:\n",
    "            self.qq[incorrect_idx]            = tokenizer.decode(valid_dataset[incorrect_idx]['input_ids'] )\n",
    "            self.target_ans[incorrect_idx]    = tokenizer.decode(valid_dataset[incorrect_idx]['target_ids'])\n",
    "            self.predicted_ans[incorrect_idx] = predictions[incorrect_idx]\n",
    "            self.size += 1\n",
    "            \n",
    "        self.get_error_df()\n",
    "        \n",
    "    def get_example(self, incorrect_idx):\n",
    "        print(incorrect_idx, \"-\", self.qq[incorrect_idx].replace(\"options:\", \"\\n\\noptions:\")\\\n",
    "             .replace(\"A:\", \"\\nA:\")\\\n",
    "             .replace(\"B:\", \"\\nB:\")\\\n",
    "             .replace(\"C:\", \"\\nC:\")\\\n",
    "             .replace(\"D:\", \"\\nD:\")\\\n",
    "             .replace(\"E:\", \"\\nE:\"))\n",
    "        print(\"\\n==> Correct ans:  \",   self.target_ans[incorrect_idx])\n",
    "        print(\"==> Predicted ans:\", self.predicted_ans[incorrect_idx])\n",
    "        \n",
    "    def get_error_df(self):\n",
    "        drows=[]\n",
    "        for idx in self.incorrect_idxs:\n",
    "            drow=[]\n",
    "            drow.append(idx)\n",
    "            drow.extend(self.qq[idx]\\\n",
    "                 .replace(\"A:\", \"\\nA:\")\\\n",
    "                 .replace(\"B:\", \"\\nB:\")\\\n",
    "                 .replace(\"C:\", \"\\nC:\")\\\n",
    "                 .replace(\"D:\", \"\\nD:\")\\\n",
    "                 .replace(\"E:\", \"\\nE:\").split(\"\\n\"))\n",
    "            drow.append(self.target_ans[idx])\n",
    "            drow.append(self.predicted_ans[idx])\n",
    "            drows.append(drow)\n",
    "\n",
    "        self.error_df = pd.DataFrame(drows, \n",
    "                                     columns=[\"idx\", \"question\", \n",
    "                                              \"A\", \"B\", \"C\", \"D\", \"E\", \n",
    "                                              \"target\", \"predicted\"]).set_index(\"idx\")\n",
    "        "
   ]
  },
  {
   "cell_type": "markdown",
   "metadata": {},
   "source": [
    "## T5 Base"
   ]
  },
  {
   "cell_type": "code",
   "execution_count": 8,
   "metadata": {
    "scrolled": false
   },
   "outputs": [
    {
     "data": {
      "application/vnd.jupyter.widget-view+json": {
       "model_id": "5b3c5bc0653f42edbf9e6fa4cbb0ebd5",
       "version_major": 2,
       "version_minor": 0
      },
      "text/plain": [
       "HBox(children=(FloatProgress(value=0.0, max=39.0), HTML(value='')))"
      ]
     },
     "metadata": {},
     "output_type": "display_data"
    },
    {
     "name": "stdout",
     "output_type": "stream",
     "text": [
      "\n"
     ]
    }
   ],
   "source": [
    "modeldir = \"./models/commonsense_qa/10_epochs/\"\n",
    "(predictions, targets, tokenizer) = predict_results(modeldir)\n",
    "t5_base_ans = Answers(predictions, targets, tokenizer)\n",
    "with open('t5_base_ans', 'wb') as f:\n",
    "    pickle.dump(t5_base_ans, f)"
   ]
  },
  {
   "cell_type": "markdown",
   "metadata": {},
   "source": [
    "## T5 Base + Hella SWAG"
   ]
  },
  {
   "cell_type": "code",
   "execution_count": 9,
   "metadata": {},
   "outputs": [
    {
     "data": {
      "application/vnd.jupyter.widget-view+json": {
       "model_id": "fe9293f31b8346c1b82a60be5be18736",
       "version_major": 2,
       "version_minor": 0
      },
      "text/plain": [
       "HBox(children=(FloatProgress(value=0.0, max=39.0), HTML(value='')))"
      ]
     },
     "metadata": {},
     "output_type": "display_data"
    },
    {
     "name": "stdout",
     "output_type": "stream",
     "text": [
      "\n"
     ]
    }
   ],
   "source": [
    "modeldir = \"./models/hellaswag/commonsense_qa/\"\n",
    "(predictions, targets, tokenizer) = predict_results(modeldir)\n",
    "t5_hel_ans = Answers(predictions, targets, tokenizer)\n",
    "with open('t5_hel_ans', 'wb') as f:\n",
    "    pickle.dump(t5_hel_ans, f)"
   ]
  },
  {
   "cell_type": "markdown",
   "metadata": {},
   "source": [
    "## T5 Base + Cosmos QA"
   ]
  },
  {
   "cell_type": "code",
   "execution_count": 11,
   "metadata": {},
   "outputs": [
    {
     "data": {
      "application/vnd.jupyter.widget-view+json": {
       "model_id": "6b7cfe5279434a55960543a7173fdb6e",
       "version_major": 2,
       "version_minor": 0
      },
      "text/plain": [
       "HBox(children=(FloatProgress(value=0.0, max=39.0), HTML(value='')))"
      ]
     },
     "metadata": {},
     "output_type": "display_data"
    },
    {
     "name": "stdout",
     "output_type": "stream",
     "text": [
      "\n"
     ]
    }
   ],
   "source": [
    "modeldir = \"./models/cs_on_cosmos/batch_8_lr_5e-5_wu_0_epochs10\"\n",
    "t5_cos_predictions, t5_cos_targets, t5_cos_tokenizer = predict_results(modeldir)"
   ]
  },
  {
   "cell_type": "code",
   "execution_count": 52,
   "metadata": {},
   "outputs": [],
   "source": [
    "t5_cos_ans = Answers(t5_cos_predictions, t5_cos_targets, t5_cos_tokenizer)"
   ]
  },
  {
   "cell_type": "code",
   "execution_count": 54,
   "metadata": {},
   "outputs": [
    {
     "name": "stdout",
     "output_type": "stream",
     "text": [
      "2 - question: Where would you find magazines along side many other printed works? \n",
      "\n",
      "options: \n",
      "A: doctor \n",
      "B: bookstore \n",
      "C: market \n",
      "D: train station \n",
      "E: mortuary\n",
      "\n",
      "==> Predicted ans: C: market\n",
      "==> Correct ans:   B: bookstore\n"
     ]
    }
   ],
   "source": [
    "t5_cos_ans.get_example(2)"
   ]
  },
  {
   "cell_type": "code",
   "execution_count": 63,
   "metadata": {},
   "outputs": [],
   "source": [
    "with open('t5_cos_ans', 'wb') as f:\n",
    "    pickle.dump(t5_cos_ans, f)"
   ]
  },
  {
   "cell_type": "markdown",
   "metadata": {},
   "source": [
    "## T5 base + Social I QA"
   ]
  },
  {
   "cell_type": "code",
   "execution_count": 55,
   "metadata": {},
   "outputs": [
    {
     "data": {
      "application/vnd.jupyter.widget-view+json": {
       "model_id": "0424ff5a007640f0b13c77a9615738a0",
       "version_major": 2,
       "version_minor": 0
      },
      "text/plain": [
       "HBox(children=(FloatProgress(value=0.0, max=39.0), HTML(value='')))"
      ]
     },
     "metadata": {},
     "output_type": "display_data"
    },
    {
     "name": "stdout",
     "output_type": "stream",
     "text": [
      "\n"
     ]
    }
   ],
   "source": [
    "modeldir = \"./models/cs_on_social/4_epochs_nonstop_batch8_lr1e-4_cs_10_e_b8_1e-4_wu0_300cp\"\n",
    "t5_so_predictions, t5_so_targets, t5_so_tokenizer = predict_results(modeldir)"
   ]
  },
  {
   "cell_type": "code",
   "execution_count": 56,
   "metadata": {},
   "outputs": [],
   "source": [
    "t5_so_ans = Answers(t5_so_predictions, t5_so_targets, t5_so_tokenizer)"
   ]
  },
  {
   "cell_type": "code",
   "execution_count": 62,
   "metadata": {},
   "outputs": [],
   "source": [
    "with open('t5_so_ans', 'wb') as f:\n",
    "    pickle.dump(t5_so_ans, f)"
   ]
  },
  {
   "cell_type": "markdown",
   "metadata": {},
   "source": [
    "## Data load"
   ]
  },
  {
   "cell_type": "code",
   "execution_count": 100,
   "metadata": {},
   "outputs": [
    {
     "data": {
      "text/plain": [
       "458"
      ]
     },
     "execution_count": 100,
     "metadata": {},
     "output_type": "execute_result"
    }
   ],
   "source": [
    "# T5 base\n",
    "\n",
    "with open(\"t5_base_ans\", 'rb') as f:\n",
    "    t5_base_ans = pickle.load(f)\n",
    "    \n",
    "t5_base_ans.get_error_df()\n",
    "len(t5_base_ans.incorrect_idxs)"
   ]
  },
  {
   "cell_type": "code",
   "execution_count": 101,
   "metadata": {},
   "outputs": [
    {
     "data": {
      "text/plain": [
       "465"
      ]
     },
     "execution_count": 101,
     "metadata": {},
     "output_type": "execute_result"
    }
   ],
   "source": [
    "with open(\"t5_so_ans\", 'rb') as f:\n",
    "    t5_so_ans = pickle.load(f)\n",
    "    \n",
    "t5_so_ans.get_error_df()\n",
    "\n",
    "len(t5_so_ans.incorrect_idxs)"
   ]
  },
  {
   "cell_type": "code",
   "execution_count": 102,
   "metadata": {},
   "outputs": [
    {
     "data": {
      "text/plain": [
       "454"
      ]
     },
     "execution_count": 102,
     "metadata": {},
     "output_type": "execute_result"
    }
   ],
   "source": [
    "with open(\"t5_cos_ans\", 'rb') as f:\n",
    "    t5_cos_ans = pickle.load(f)\n",
    "    \n",
    "t5_cos_ans.get_error_df()\n",
    "len(t5_cos_ans.incorrect_idxs)"
   ]
  },
  {
   "cell_type": "code",
   "execution_count": 103,
   "metadata": {},
   "outputs": [
    {
     "data": {
      "text/plain": [
       "440"
      ]
     },
     "execution_count": 103,
     "metadata": {},
     "output_type": "execute_result"
    }
   ],
   "source": [
    "# T5 + Hella swag\n",
    "\n",
    "with open(\"t5_hel_ans_wu\", 'rb') as f:\n",
    "    t5_hel_ans = pickle.load(f)\n",
    "    \n",
    "t5_hel_ans.get_error_df()\n",
    "len(t5_hel_ans.incorrect_idxs)"
   ]
  },
  {
   "cell_type": "markdown",
   "metadata": {},
   "source": [
    "# Model Comparison\n",
    "\n",
    "We have four models here. Let's see how many errors they share. This is purely based on getting a question correct or wrong. "
   ]
  },
  {
   "cell_type": "code",
   "execution_count": 27,
   "metadata": {},
   "outputs": [],
   "source": [
    "def venn_2_models(model_a, model_b,\n",
    "                      a_name=\"Model A\", b_name=\"Model B\",\n",
    "                      inputclass_answers=True):\n",
    "    if inputclass_answers:\n",
    "        A = set(model_a.incorrect_idxs)\n",
    "        B = set(model_b.incorrect_idxs)\n",
    "    else:\n",
    "        A = set(model_a)\n",
    "        B = set(model_b)\n",
    "    \n",
    "    AB = A.intersection(B)\n",
    "    \n",
    "    venn2(subsets = (len(A-B), \n",
    "                     len(B-A),\n",
    "                     len(AB)), \n",
    "    set_labels = (a_name, b_name))\n"
   ]
  },
  {
   "cell_type": "code",
   "execution_count": 28,
   "metadata": {},
   "outputs": [],
   "source": [
    "def venn_3_models(model_a, model_b, model_c,\n",
    "                     a_name=\"Model A\", b_name=\"Model B\", c_name= \"Model C\",\n",
    "                     inputclass_answers=True):\n",
    "    if inputclass_answers:\n",
    "        A = set(model_a.incorrect_idxs)\n",
    "        B = set(model_b.incorrect_idxs)\n",
    "        C = set(model_c.incorrect_idxs)\n",
    "    else:\n",
    "        A = set(model_a)\n",
    "        B = set(model_b)\n",
    "        C = set(model_c)\n",
    "    \n",
    "    AB = A.intersection(B)\n",
    "    AC = A.intersection(C)\n",
    "    BC = B.intersection(C)\n",
    "    ABC = AB.intersection(C)\n",
    "    \n",
    "    venn3(subsets = (len(A-B-C), \n",
    "                     len(B-A-C),\n",
    "                     len(AB-C),\n",
    "                     len(C-A-B),\n",
    "                     len(AC-B),\n",
    "                     len(BC-A),\n",
    "                     len(ABC)\n",
    "                    ), \n",
    "         set_labels = (a_name, b_name, c_name))\n",
    "\n"
   ]
  },
  {
   "cell_type": "code",
   "execution_count": 29,
   "metadata": {},
   "outputs": [
    {
     "data": {
      "image/png": "[encoded data removed]",
      "text/plain": [
       "<Figure size 432x288 with 1 Axes>"
      ]
     },
     "metadata": {},
     "output_type": "display_data"
    }
   ],
   "source": [
    "venn_2_models(t5_so_ans, t5_cos_ans,\n",
    "               \"T5 + Social IQA\",\n",
    "               \"T5 + Cosmos QA\")"
   ]
  },
  {
   "cell_type": "markdown",
   "metadata": {},
   "source": [
    "## 4 way venn\n"
   ]
  },
  {
   "cell_type": "code",
   "execution_count": 92,
   "metadata": {},
   "outputs": [
    {
     "name": "stdout",
     "output_type": "stream",
     "text": [
      "458\n",
      "465\n",
      "454\n",
      "440\n"
     ]
    }
   ],
   "source": [
    "A = set(t5_base_ans.incorrect_idxs)\n",
    "B = set(t5_so_ans.incorrect_idxs)\n",
    "C = set(t5_cos_ans.incorrect_idxs)\n",
    "D = set(t5_hel_ans.incorrect_idxs)\n",
    "\n",
    "for a in [A, B, C, D]:\n",
    "    print(len(a))"
   ]
  },
  {
   "cell_type": "code",
   "execution_count": 94,
   "metadata": {},
   "outputs": [
    {
     "data": {
      "text/plain": [
       "{'0001': 'H: 28 ',\n",
       " '0010': 'C: 20 ',\n",
       " '0011': 'CH: 7 ',\n",
       " '0100': 'S: 48 ',\n",
       " '0101': 'SH: 14 ',\n",
       " '0110': 'SC: 14 ',\n",
       " '0111': 'SCH: 22 ',\n",
       " '1000': 'B: 21 ',\n",
       " '1001': 'BH: 11 ',\n",
       " '1010': 'BC: 30 ',\n",
       " '1011': 'BCH: 29 ',\n",
       " '1100': 'BS: 13 ',\n",
       " '1101': 'BSH: 22 ',\n",
       " '1110': 'BSC: 25 ',\n",
       " '1111': 'BSCH: 307 '}"
      ]
     },
     "execution_count": 94,
     "metadata": {},
     "output_type": "execute_result"
    }
   ],
   "source": [
    "labels = venn.get_labels([A, B, C, D], fill=[\"number\"])\n",
    "new_labels = {}\n",
    "\n",
    "for k, v in labels.items():\n",
    "    ds_label = \\\n",
    "        \"B\"*int(k[0])+\\\n",
    "        \"S\"*int(k[1])+\\\n",
    "        \"C\"*int(k[2])+\\\n",
    "        \"H\"*int(k[3])\n",
    "    new_labels[k] = ds_label + \": \" + v\n",
    "    \n",
    "new_labels"
   ]
  },
  {
   "cell_type": "code",
   "execution_count": 95,
   "metadata": {},
   "outputs": [
    {
     "data": {
      "image/png": "[encoded data removed]",
      "text/plain": [
       "<Figure size 648x648 with 1 Axes>"
      ]
     },
     "metadata": {},
     "output_type": "display_data"
    }
   ],
   "source": [
    "fig, ax = venn.venn4(new_labels, names=['B: T5 Base', \n",
    "                                        'S: T5 + Social', \n",
    "                                        'C: T5 + Cosmos', \n",
    "                                        'H: T5 + HellaSWAG'])\n",
    "fig.show()"
   ]
  },
  {
   "cell_type": "markdown",
   "metadata": {},
   "source": [
    "This is based on correct/incorrect only. Let’s see how it changes once we add in the unique predictions too."
   ]
  },
  {
   "cell_type": "code",
   "execution_count": 96,
   "metadata": {},
   "outputs": [
    {
     "data": {
      "image/png": "[encoded data removed]",
      "text/plain": [
       "<Figure size 648x648 with 1 Axes>"
      ]
     },
     "metadata": {},
     "output_type": "display_data"
    }
   ],
   "source": [
    "A = set(t5_base_ans.predicted_ans.items())\n",
    "B = set(t5_so_ans.predicted_ans.items())\n",
    "C = set(t5_cos_ans.predicted_ans.items())\n",
    "D = set(t5_hel_ans.predicted_ans.items())\n",
    "\n",
    "labels = venn.get_labels([A, B, C, D], fill=[\"number\"])\n",
    "\n",
    "new_labels = {}\n",
    "\n",
    "for k, v in labels.items():\n",
    "    ds_label = \\\n",
    "        \"B\"*int(k[0])+\\\n",
    "        \"S\"*int(k[1])+\\\n",
    "        \"C\"*int(k[2])+\\\n",
    "        \"H\"*int(k[3])\n",
    "    new_labels[k] = ds_label + \": \" + v\n",
    "    \n",
    "fig, ax = venn.venn4(new_labels, names=['B: T5 Base', \n",
    "                                        'S: T5 + Social', \n",
    "                                        'C: T5 + Cosmos', \n",
    "                                        'H: T5 + HellaSWAG'])\n",
    "fig.show()"
   ]
  },
  {
   "cell_type": "markdown",
   "metadata": {},
   "source": [
    "## Detailed View at Errors\n",
    "\n",
    "### Incorrect Ans\n",
    "\n",
    "Let's look at the questions that only one model got wrong that other models got right.\n"
   ]
  },
  {
   "cell_type": "markdown",
   "metadata": {},
   "source": [
    "### Base"
   ]
  },
  {
   "cell_type": "code",
   "execution_count": 53,
   "metadata": {},
   "outputs": [
    {
     "name": "stdout",
     "output_type": "stream",
     "text": [
      "21\n"
     ]
    }
   ],
   "source": [
    "incorr = \\\n",
    "    set(t5_base_ans.incorrect_idxs) - \\\n",
    "    set(t5_so_ans.incorrect_idxs  ) - \\\n",
    "    set(t5_cos_ans.incorrect_idxs ) -\\\n",
    "    set(t5_hel_ans.incorrect_idxs )\n",
    "\n",
    "print(len(incorr))\n",
    "t5_base_ans.error_df.loc[sample(incorr, 17)].to_csv(\"clip.csv\")"
   ]
  },
  {
   "cell_type": "markdown",
   "metadata": {},
   "source": [
    "### Social"
   ]
  },
  {
   "cell_type": "code",
   "execution_count": 64,
   "metadata": {},
   "outputs": [
    {
     "name": "stdout",
     "output_type": "stream",
     "text": [
      "48\n"
     ]
    }
   ],
   "source": [
    "incorr = \\\n",
    "    set(t5_so_ans.incorrect_idxs  ) - \\\n",
    "    set(t5_base_ans.incorrect_idxs) - \\\n",
    "    set(t5_cos_ans.incorrect_idxs ) -\\\n",
    "    set(t5_hel_ans.incorrect_idxs )\n",
    "\n",
    "print(len(incorr))\n",
    "t5_so_ans.error_df.loc[sample(incorr, 20)].to_csv(\"clip.csv\")"
   ]
  },
  {
   "cell_type": "markdown",
   "metadata": {},
   "source": [
    "### Cosmos"
   ]
  },
  {
   "cell_type": "code",
   "execution_count": 71,
   "metadata": {},
   "outputs": [
    {
     "name": "stdout",
     "output_type": "stream",
     "text": [
      "20\n"
     ]
    }
   ],
   "source": [
    "incorr = \\\n",
    "    set(t5_cos_ans.incorrect_idxs ) -\\\n",
    "    set(t5_so_ans.incorrect_idxs  ) - \\\n",
    "    set(t5_base_ans.incorrect_idxs) - \\\n",
    "    set(t5_hel_ans.incorrect_idxs )\n",
    "\n",
    "print(len(incorr))\n",
    "t5_cos_ans.error_df.loc[sample(incorr, 20)].to_csv(\"clip.csv\")"
   ]
  },
  {
   "cell_type": "markdown",
   "metadata": {},
   "source": [
    "### HellaSwag"
   ]
  },
  {
   "cell_type": "code",
   "execution_count": 83,
   "metadata": {},
   "outputs": [
    {
     "name": "stdout",
     "output_type": "stream",
     "text": [
      "28\n"
     ]
    }
   ],
   "source": [
    "incorr = \\\n",
    "    set(t5_hel_ans.incorrect_idxs ) -\\\n",
    "    set(t5_so_ans.incorrect_idxs  ) - \\\n",
    "    set(t5_base_ans.incorrect_idxs) - \\\n",
    "    set(t5_cos_ans.incorrect_idxs )\n",
    "\n",
    "print(len(incorr))\n",
    "t5_hel_ans.error_df.loc[sample(incorr, 20)].to_csv(\"clip.csv\")"
   ]
  },
  {
   "cell_type": "markdown",
   "metadata": {},
   "source": [
    "See [Google Doc](https://docs.google.com/spreadsheets/d/19T-lpQo2E6mQilur6YcEnNZQqnvQjp1oupWBDDsq8N0/) for incorrect answer categorization "
   ]
  },
  {
   "cell_type": "markdown",
   "metadata": {},
   "source": [
    "### Incorrect Ans and Prediction\n",
    "\n",
    "Look at questions that only one model got wrong and in a unique way, e.g., other models might have gotten the question wrong too but in a different prediction."
   ]
  },
  {
   "cell_type": "code",
   "execution_count": 46,
   "metadata": {},
   "outputs": [
    {
     "name": "stdout",
     "output_type": "stream",
     "text": [
      "45\n"
     ]
    }
   ],
   "source": [
    "t5_unique_incorr = \\\n",
    "    set(t5_base_ans.predicted_ans.items()) - \\\n",
    "    set(t5_so_ans.predicted_ans.items()  ) - \\\n",
    "    set(t5_cos_ans.predicted_ans.items() ) -\\\n",
    "    set(t5_hel_ans.predicted_ans.items() )\n",
    "\n",
    "print(len(t5_unique_incorr))\n",
    "t5_base_ans.error_df.loc[sample([ans[0] for ans in t5_unique_incorr], 20)].to_csv(\"clip.csv\")"
   ]
  }
 ],
 "metadata": {
  "kernelspec": {
   "display_name": "Python 3",
   "language": "python",
   "name": "python3"
  },
  "language_info": {
   "codemirror_mode": {
    "name": "ipython",
    "version": 3
   },
   "file_extension": ".py",
   "mimetype": "text/x-python",
   "name": "python",
   "nbconvert_exporter": "python",
   "pygments_lexer": "ipython3",
   "version": "3.8.3"
  }
 },
 "nbformat": 4,
 "nbformat_minor": 4
}
