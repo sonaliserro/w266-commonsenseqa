{
 "cells": [
  {
   "cell_type": "code",
   "execution_count": 1,
   "metadata": {},
   "outputs": [],
   "source": [
    "import nlp\n",
    "import torch\n",
    "\n",
    "import os\n",
    "import sys\n",
    "import json\n",
    "\n",
    "import transformers\n",
    "from transformers import T5Tokenizer"
   ]
  },
  {
   "cell_type": "code",
   "execution_count": 27,
   "metadata": {},
   "outputs": [
    {
     "name": "stderr",
     "output_type": "stream",
     "text": [
      "Using custom data configuration default\n",
      "Using custom data configuration default\n"
     ]
    }
   ],
   "source": [
    "arguments={}\n",
    "arguments['dataset_name'] = \"cosmos_qa\"\n",
    "\n",
    "train_dataset = nlp.load_dataset(arguments['dataset_name'], split = nlp.Split.TRAIN)\n",
    "valid_dataset = nlp.load_dataset(arguments['dataset_name'], split = nlp.Split.VALIDATION)"
   ]
  },
  {
   "cell_type": "code",
   "execution_count": 4,
   "metadata": {},
   "outputs": [
    {
     "data": {
      "text/plain": [
       "Dataset(features: {'id': Value(dtype='string', id=None), 'context': Value(dtype='string', id=None), 'question': Value(dtype='string', id=None), 'answer0': Value(dtype='string', id=None), 'answer1': Value(dtype='string', id=None), 'answer2': Value(dtype='string', id=None), 'answer3': Value(dtype='string', id=None), 'label': Value(dtype='int32', id=None)}, num_rows: 2985)"
      ]
     },
     "execution_count": 4,
     "metadata": {},
     "output_type": "execute_result"
    }
   ],
   "source": [
    "valid_dataset"
   ]
  },
  {
   "cell_type": "code",
   "execution_count": 5,
   "metadata": {},
   "outputs": [
    {
     "data": {
      "text/plain": [
       "{'answer0': 'If he gets married in the church he wo nt have to get a divorce .',\n",
       " 'answer1': 'He wants to get married to a different person .',\n",
       " 'answer2': 'He wants to know if he does nt like this girl can he divorce her ?',\n",
       " 'answer3': 'None of the above choices .',\n",
       " 'context': 'Do i need to go for a legal divorce ? I wanted to marry a woman but she is not in the same religion , so i am not concern of the marriage inside church . I will do the marriage registered with the girl who i am going to get married . But legally will there be any complication , like if the other woman comes back one day , will the girl who i am going to get married now will be in trouble or Is there any complication ?',\n",
       " 'id': '3BFF0DJK8XA7YNK4QYIGCOG1A95STE##3180JW2OT5AF02OISBX66RFOCTG5J7##A2LTOS0AZ3B28A##Blog_56156##q1_a1##378G7J1SJNCDAAIN46FM2P7T6KZEW2',\n",
       " 'label': 1,\n",
       " 'question': 'Why is this person asking about divorce ?'}"
      ]
     },
     "execution_count": 5,
     "metadata": {},
     "output_type": "execute_result"
    }
   ],
   "source": [
    "valid_dataset[0]"
   ]
  },
  {
   "cell_type": "code",
   "execution_count": 37,
   "metadata": {},
   "outputs": [],
   "source": [
    "example = valid_dataset[1]"
   ]
  },
  {
   "cell_type": "code",
   "execution_count": null,
   "metadata": {},
   "outputs": [],
   "source": []
  },
  {
   "cell_type": "code",
   "execution_count": 25,
   "metadata": {},
   "outputs": [],
   "source": [
    "\n",
    "def format_example_cosmos_qa(example):\n",
    "    option_dict = {   0: '%s: %s' % ('A', example['answer0'])\n",
    "                    , 1: '%s: %s' % ('B', example['answer1'])\n",
    "                    , 2: '%s: %s' % ('C', example['answer2'])\n",
    "                    , 3: '%s: %s' % ('D', example['answer3'])}\n",
    "    options = \" \".join(option_dict.values())\n",
    "\n",
    "    example['input_text'] = 'question: %s context: %s options: %s' % (example['question'], example['context'], options)\n",
    "\n",
    "    label = example['label']\n",
    "    example['target_text'] = option_dict[label]\n",
    "    \n",
    "    return example\n",
    "\n"
   ]
  },
  {
   "cell_type": "code",
   "execution_count": 26,
   "metadata": {},
   "outputs": [
    {
     "data": {
      "text/plain": [
       "{'answer0': \"Since I made the recipe up , I did n't know the right measurements for waffles .\",\n",
       " 'answer1': 'None of the above choices .',\n",
       " 'answer2': \"Since I made the recipe up , I did n't know the right measurements for fried chicken .\",\n",
       " 'answer3': \"Since I made the recipe up , I did n't know how to make fried chicken correctly .\",\n",
       " 'context': \"Maybe I am on drugs . These waffles were very good ... and can you believe how dark the blueberries look ? I do n't know why they were so dark . I made this recipe up in my head , so I ' m surprised they turned out to well . Next time I make waffles , I ' m making fried chicken to go with them .\",\n",
       " 'id': '3NQUW096N8MG4KF7SHSY10P2HB4L9L##3XIQGXAUMFNADF6XH534NIP8KZ47XL##A3GVXFBYAU9HP##Blog_917445##q1_a2##3MDWE879UJG4RBTV1434NXTX5QJB9Z',\n",
       " 'label': 0,\n",
       " 'question': 'Why am I so surprised that the waffles turned out well ?',\n",
       " 'input_text': \"question: Why am I so surprised that the waffles turned out well ? context: Maybe I am on drugs . These waffles were very good ... and can you believe how dark the blueberries look ? I do n't know why they were so dark . I made this recipe up in my head , so I ' m surprised they turned out to well . Next time I make waffles , I ' m making fried chicken to go with them . options: A: Since I made the recipe up , I did n't know the right measurements for waffles . B: None of the above choices . C: Since I made the recipe up , I did n't know the right measurements for fried chicken . D: Since I made the recipe up , I did n't know how to make fried chicken correctly .\",\n",
       " 'target_text': \"A: Since I made the recipe up , I did n't know the right measurements for waffles .\"}"
      ]
     },
     "execution_count": 26,
     "metadata": {},
     "output_type": "execute_result"
    }
   ],
   "source": [
    "format_example_cosmos_qa(valid_dataset[100])"
   ]
  },
  {
   "cell_type": "code",
   "execution_count": 28,
   "metadata": {},
   "outputs": [
    {
     "data": {
      "application/vnd.jupyter.widget-view+json": {
       "model_id": "bd5ba6a52c284ceebaef3e4852307d59",
       "version_major": 2,
       "version_minor": 0
      },
      "text/plain": [
       "HBox(children=(FloatProgress(value=0.0, max=25262.0), HTML(value='')))"
      ]
     },
     "metadata": {},
     "output_type": "display_data"
    },
    {
     "name": "stdout",
     "output_type": "stream",
     "text": [
      "\n"
     ]
    }
   ],
   "source": [
    "train_dataset = train_dataset.map(format_example_cosmos_qa, load_from_cache_file = False)"
   ]
  },
  {
   "cell_type": "code",
   "execution_count": 30,
   "metadata": {},
   "outputs": [
    {
     "data": {
      "application/vnd.jupyter.widget-view+json": {
       "model_id": "a9ef3788aefc47ef9e777cf76a360f0f",
       "version_major": 2,
       "version_minor": 0
      },
      "text/plain": [
       "HBox(children=(FloatProgress(value=0.0, max=2985.0), HTML(value='')))"
      ]
     },
     "metadata": {},
     "output_type": "display_data"
    },
    {
     "name": "stdout",
     "output_type": "stream",
     "text": [
      "\n"
     ]
    }
   ],
   "source": [
    "valid_dataset = valid_dataset.map(format_example_cosmos_qa, load_from_cache_file = False)"
   ]
  },
  {
   "cell_type": "code",
   "execution_count": 31,
   "metadata": {},
   "outputs": [
    {
     "data": {
      "text/plain": [
       "{'answer0': 'None of the above choices .',\n",
       " 'answer1': 'This person likes music and likes to see the show , they will see other bands play .',\n",
       " 'answer2': 'This person only likes Good Old War and Person L , no other bands .',\n",
       " 'answer3': 'Other Bands is not on tour and this person can not see them .',\n",
       " 'context': \"Good Old War and person L : I saw both of these bands Wednesday night , and they both blew me away . seriously . Good Old War is acoustic and makes me smile . I really can not help but be happy when I listen to them ; I think it 's the fact that they seemed so happy themselves when they played .\",\n",
       " 'id': '3Q9SPIIRWJKVQ8244310E8TUS6YWAC##34V1S5K3GTZMDUBNBIGY93FLDOB690##A1S1K7134S2VUC##Blog_1044056##q1_a1##3XU9MCX6VQQG7YPLCSAFDPQNH4GR20',\n",
       " 'input_text': \"question: In the future , will this person go to see other bands play ? context: Good Old War and person L : I saw both of these bands Wednesday night , and they both blew me away . seriously . Good Old War is acoustic and makes me smile . I really can not help but be happy when I listen to them ; I think it 's the fact that they seemed so happy themselves when they played . options: A: None of the above choices . B: This person likes music and likes to see the show , they will see other bands play . C: This person only likes Good Old War and Person L , no other bands . D: Other Bands is not on tour and this person can not see them .\",\n",
       " 'label': 1,\n",
       " 'question': 'In the future , will this person go to see other bands play ?',\n",
       " 'target_text': 'B: This person likes music and likes to see the show , they will see other bands play .'}"
      ]
     },
     "execution_count": 31,
     "metadata": {},
     "output_type": "execute_result"
    }
   ],
   "source": [
    "train_dataset[0]"
   ]
  },
  {
   "cell_type": "code",
   "execution_count": 35,
   "metadata": {},
   "outputs": [],
   "source": [
    "tokenizer = T5Tokenizer.from_pretrained(\"t5-base\")"
   ]
  },
  {
   "cell_type": "code",
   "execution_count": 38,
   "metadata": {},
   "outputs": [
    {
     "data": {
      "text/plain": [
       "['▁question',\n",
       " ':',\n",
       " '▁Why',\n",
       " '▁is',\n",
       " '▁',\n",
       " 'he',\n",
       " '▁worried',\n",
       " '▁about',\n",
       " '▁getting',\n",
       " '▁married',\n",
       " '▁',\n",
       " '?',\n",
       " '▁context',\n",
       " ':',\n",
       " '▁Do',\n",
       " '▁',\n",
       " 'i',\n",
       " '▁need',\n",
       " '▁to',\n",
       " '▁go',\n",
       " '▁for',\n",
       " '▁',\n",
       " 'a',\n",
       " '▁legal',\n",
       " '▁divorce',\n",
       " '▁',\n",
       " '?',\n",
       " '▁I',\n",
       " '▁wanted',\n",
       " '▁to',\n",
       " '▁marry',\n",
       " '▁',\n",
       " 'a',\n",
       " '▁woman',\n",
       " '▁but',\n",
       " '▁she',\n",
       " '▁is',\n",
       " '▁not',\n",
       " '▁in',\n",
       " '▁the',\n",
       " '▁same',\n",
       " '▁religion',\n",
       " '▁',\n",
       " ',',\n",
       " '▁so',\n",
       " '▁',\n",
       " 'i',\n",
       " '▁am',\n",
       " '▁not',\n",
       " '▁concern',\n",
       " '▁of',\n",
       " '▁the',\n",
       " '▁marriage',\n",
       " '▁inside',\n",
       " '▁church',\n",
       " '▁',\n",
       " '.',\n",
       " '▁I',\n",
       " '▁will',\n",
       " '▁do',\n",
       " '▁the',\n",
       " '▁marriage',\n",
       " '▁registered',\n",
       " '▁with',\n",
       " '▁the',\n",
       " '▁girl',\n",
       " '▁who',\n",
       " '▁',\n",
       " 'i',\n",
       " '▁am',\n",
       " '▁going',\n",
       " '▁to',\n",
       " '▁get',\n",
       " '▁married',\n",
       " '▁',\n",
       " '.',\n",
       " '▁But',\n",
       " '▁legally',\n",
       " '▁will',\n",
       " '▁there',\n",
       " '▁be',\n",
       " '▁any',\n",
       " '▁',\n",
       " 'com',\n",
       " 'plication',\n",
       " '▁',\n",
       " ',',\n",
       " '▁like',\n",
       " '▁',\n",
       " 'if',\n",
       " '▁the',\n",
       " '▁other',\n",
       " '▁woman',\n",
       " '▁comes',\n",
       " '▁back',\n",
       " '▁one',\n",
       " '▁day',\n",
       " '▁',\n",
       " ',',\n",
       " '▁will',\n",
       " '▁the',\n",
       " '▁girl',\n",
       " '▁who',\n",
       " '▁',\n",
       " 'i',\n",
       " '▁am',\n",
       " '▁going',\n",
       " '▁to',\n",
       " '▁get',\n",
       " '▁married',\n",
       " '▁now',\n",
       " '▁will',\n",
       " '▁be',\n",
       " '▁in',\n",
       " '▁trouble',\n",
       " '▁or',\n",
       " '▁I',\n",
       " 's',\n",
       " '▁there',\n",
       " '▁any',\n",
       " '▁',\n",
       " 'com',\n",
       " 'plication',\n",
       " '▁',\n",
       " '?',\n",
       " '▁options',\n",
       " ':',\n",
       " '▁A',\n",
       " ':',\n",
       " '▁He',\n",
       " '▁was',\n",
       " '▁married',\n",
       " '▁before',\n",
       " '▁and',\n",
       " '▁she',\n",
       " '▁might',\n",
       " '▁come',\n",
       " '▁back',\n",
       " '▁one',\n",
       " '▁day',\n",
       " '▁',\n",
       " '.',\n",
       " '▁B',\n",
       " ':',\n",
       " '▁He',\n",
       " '▁wants',\n",
       " '▁the',\n",
       " '▁girl',\n",
       " '▁',\n",
       " 'he',\n",
       " '▁is',\n",
       " '▁going',\n",
       " '▁to',\n",
       " '▁marry',\n",
       " '▁get',\n",
       " '▁in',\n",
       " '▁trouble',\n",
       " '▁',\n",
       " '.',\n",
       " '▁C',\n",
       " ':',\n",
       " '▁He',\n",
       " '▁knows',\n",
       " '▁that',\n",
       " '▁',\n",
       " 'he',\n",
       " '▁will',\n",
       " '▁be',\n",
       " '▁',\n",
       " 'committing',\n",
       " '▁poly',\n",
       " 'gam',\n",
       " 'y',\n",
       " '▁',\n",
       " '.',\n",
       " '▁D',\n",
       " ':',\n",
       " '▁None',\n",
       " '▁of',\n",
       " '▁the',\n",
       " '▁above',\n",
       " '▁choices',\n",
       " '▁',\n",
       " '.']"
      ]
     },
     "execution_count": 38,
     "metadata": {},
     "output_type": "execute_result"
    }
   ],
   "source": [
    "tokenizer.tokenize(example[\"input_text\"])"
   ]
  },
  {
   "cell_type": "code",
   "execution_count": 67,
   "metadata": {},
   "outputs": [],
   "source": [
    "lengths = []\n",
    "max_len = 0\n",
    "max_len_eg = \"\"\n",
    "\n",
    "targ_lengths = []\n",
    "max_targ_len = 0\n",
    "max_targ_eg = \"\"\n",
    "\n",
    "for example in train_dataset:\n",
    "    inputlen = len(tokenizer.tokenize(example[\"input_text\"]))\n",
    "    lengths.append(inputlen)\n",
    "    if inputlen > max_len:\n",
    "        max_len = inputlen\n",
    "        max_len_eg = example\n",
    "    \n",
    "    targlen = len(tokenizer.tokenize(example[\"target_text\"]))\n",
    "    targ_lengths.append(targlen)    \n",
    "    if targlen > max_targ_len:\n",
    "        max_targ_len = targlen\n",
    "        max_targ_len_eg = example\n"
   ]
  },
  {
   "cell_type": "code",
   "execution_count": 68,
   "metadata": {},
   "outputs": [
    {
     "name": "stdout",
     "output_type": "stream",
     "text": [
      "345\n"
     ]
    },
    {
     "data": {
      "text/plain": [
       "{'answer0': \"Kwame Kilpatrick lied under oath at a police whistle - blower trial because he did n't want to spend time in jail\",\n",
       " 'answer1': 'Kwame Kilpatrick lied under oath at a police whistle - blower trial because he was pressured by police officers .',\n",
       " 'answer2': \"Kwame Kilpatrick lied under oath at a police whistle - blower trial because he thought he would n't get got committing perjury .\",\n",
       " 'answer3': \"Kwame Kilpatrick lied under oath at a police whistle - blower trial because he did n't want to admit any guilt to the prosecutor .\",\n",
       " 'context': \"Detroit Mayor Kwame Kilpatrick , who will lose his job because he lied while under oath at a police whistle - blower trial , has just pledged to tell the truth as he prepares to admit his guilt as part of a plea deal he just struck with the Wayne County Prosecutor . Advertisement The deal calls for Kilpatrick to plead guilty to two felony counts of obstruction of justice by committing perjury , agreeing to serve four months in jail , pay up to $ 1 million in restitution , and serve five years ' probation . He also agreed not to run for office during that five - year span .\",\n",
       " 'id': '3MA5N0ATTC912LBQGUEP8MWQX2DWKG##32RIADZIST2Q3M3810NAT00X7GES4K##AX8WLDRDXA7P9##Blog_1237938##q1_a1##3BVS8WK9Q29X2CMY5Y9H0QS0O6CBI4',\n",
       " 'input_text': \"question: Why did Kwame Kilpatrick lie under oath at a police whistle - blower trial ? context: Detroit Mayor Kwame Kilpatrick , who will lose his job because he lied while under oath at a police whistle - blower trial , has just pledged to tell the truth as he prepares to admit his guilt as part of a plea deal he just struck with the Wayne County Prosecutor . Advertisement The deal calls for Kilpatrick to plead guilty to two felony counts of obstruction of justice by committing perjury , agreeing to serve four months in jail , pay up to $ 1 million in restitution , and serve five years ' probation . He also agreed not to run for office during that five - year span . options: A: Kwame Kilpatrick lied under oath at a police whistle - blower trial because he did n't want to spend time in jail B: Kwame Kilpatrick lied under oath at a police whistle - blower trial because he was pressured by police officers . C: Kwame Kilpatrick lied under oath at a police whistle - blower trial because he thought he would n't get got committing perjury . D: Kwame Kilpatrick lied under oath at a police whistle - blower trial because he did n't want to admit any guilt to the prosecutor .\",\n",
       " 'label': 1,\n",
       " 'question': 'Why did Kwame Kilpatrick lie under oath at a police whistle - blower trial ?',\n",
       " 'target_text': 'B: Kwame Kilpatrick lied under oath at a police whistle - blower trial because he was pressured by police officers .'}"
      ]
     },
     "execution_count": 68,
     "metadata": {},
     "output_type": "execute_result"
    }
   ],
   "source": [
    "print(max_len)\n",
    "max_len_eg"
   ]
  },
  {
   "cell_type": "code",
   "execution_count": 69,
   "metadata": {},
   "outputs": [
    {
     "data": {
      "text/plain": [
       "345"
      ]
     },
     "execution_count": 69,
     "metadata": {},
     "output_type": "execute_result"
    }
   ],
   "source": [
    "len(tokenizer.tokenize(max_len_eg[\"input_text\"]))"
   ]
  },
  {
   "cell_type": "code",
   "execution_count": null,
   "metadata": {},
   "outputs": [],
   "source": []
  },
  {
   "cell_type": "code",
   "execution_count": 70,
   "metadata": {},
   "outputs": [
    {
     "data": {
      "text/plain": [
       "(array([2.500e+02, 3.098e+03, 7.900e+03, 7.459e+03, 4.286e+03, 1.620e+03,\n",
       "        5.290e+02, 1.050e+02, 1.400e+01, 1.000e+00]),\n",
       " array([ 62. ,  90.3, 118.6, 146.9, 175.2, 203.5, 231.8, 260.1, 288.4,\n",
       "        316.7, 345. ]),\n",
       " <a list of 10 Patch objects>)"
      ]
     },
     "execution_count": 70,
     "metadata": {},
     "output_type": "execute_result"
    },
    {
     "data": {
      "image/png": "[encoded data removed]",
      "text/plain": [
       "<Figure size 432x288 with 1 Axes>"
      ]
     },
     "metadata": {
      "needs_background": "light"
     },
     "output_type": "display_data"
    }
   ],
   "source": [
    "import matplotlib.pyplot as plt\n",
    "plt.hist(lengths)"
   ]
  },
  {
   "cell_type": "code",
   "execution_count": 71,
   "metadata": {},
   "outputs": [
    {
     "data": {
      "text/plain": [
       "345"
      ]
     },
     "execution_count": 71,
     "metadata": {},
     "output_type": "execute_result"
    }
   ],
   "source": [
    "max(lengths)"
   ]
  },
  {
   "cell_type": "code",
   "execution_count": 72,
   "metadata": {},
   "outputs": [
    {
     "data": {
      "text/plain": [
       "151.0"
      ]
     },
     "execution_count": 72,
     "metadata": {},
     "output_type": "execute_result"
    }
   ],
   "source": [
    "np.median(lengths)"
   ]
  },
  {
   "cell_type": "code",
   "execution_count": 73,
   "metadata": {},
   "outputs": [
    {
     "data": {
      "text/plain": [
       "(array([4.9420e+03, 1.2457e+04, 5.2560e+03, 1.8310e+03, 5.5900e+02,\n",
       "        1.7800e+02, 3.1000e+01, 7.0000e+00, 0.0000e+00, 1.0000e+00]),\n",
       " array([ 3. ,  8.2, 13.4, 18.6, 23.8, 29. , 34.2, 39.4, 44.6, 49.8, 55. ]),\n",
       " <a list of 10 Patch objects>)"
      ]
     },
     "execution_count": 73,
     "metadata": {},
     "output_type": "execute_result"
    },
    {
     "data": {
      "image/png": "[encoded data removed]",
      "text/plain": [
       "<Figure size 432x288 with 1 Axes>"
      ]
     },
     "metadata": {
      "needs_background": "light"
     },
     "output_type": "display_data"
    }
   ],
   "source": [
    "plt.hist(targ_lengths)"
   ]
  },
  {
   "cell_type": "code",
   "execution_count": 74,
   "metadata": {},
   "outputs": [
    {
     "data": {
      "text/plain": [
       "55"
      ]
     },
     "execution_count": 74,
     "metadata": {},
     "output_type": "execute_result"
    }
   ],
   "source": [
    "max(targ_lengths)"
   ]
  },
  {
   "cell_type": "code",
   "execution_count": 75,
   "metadata": {},
   "outputs": [
    {
     "data": {
      "text/plain": [
       "11.0"
      ]
     },
     "execution_count": 75,
     "metadata": {},
     "output_type": "execute_result"
    }
   ],
   "source": [
    "np.median(targ_lengths)"
   ]
  },
  {
   "cell_type": "code",
   "execution_count": 76,
   "metadata": {},
   "outputs": [
    {
     "name": "stdout",
     "output_type": "stream",
     "text": [
      "55\n"
     ]
    },
    {
     "data": {
      "text/plain": [
       "{'answer0': \"The jealousy is burning me alive , I just ca n't stand my friend having what I ca n't have , depite the fact that I would have probably done it too if it was the other way around .\",\n",
       " 'answer1': \"I do n't care one way or another about what my friend does .\",\n",
       " 'answer2': \"I 'm glad my friend is respecting my wishes .\",\n",
       " 'answer3': 'None of the above choices .',\n",
       " 'context': 'That is the one thing you just do not do out of respect for your friends feelings . Evidently the only person this person thinks about is themselves , And no one else . I wonder how they would have felt if I had dated one of their ex girlfriends that they still had feelings for . I guess when it comes right down to it , Things like this proves who your true friends are . I had told him over and over and over again how much I cared about and still loved this person , And that I had even hoped to get back with the person someday , And he obviously does not give a Damn about anyone but himself . I guess you are probably wondering why I am not mad at the girl as well .',\n",
       " 'id': '3OCZWXS7ZO5I98EO5T3HXMWS27BL5S##3ZGVPD4G6UF7LJ4CBTIQX19SBBIZTE##A1VR49TB3Q4BV8##Blog_894865##q1_a1##3N7PQ0KLI73GJCGZUM4KXSWW8OZ3E9',\n",
       " 'input_text': \"question: Why do I feel the way I feel ? context: That is the one thing you just do not do out of respect for your friends feelings . Evidently the only person this person thinks about is themselves , And no one else . I wonder how they would have felt if I had dated one of their ex girlfriends that they still had feelings for . I guess when it comes right down to it , Things like this proves who your true friends are . I had told him over and over and over again how much I cared about and still loved this person , And that I had even hoped to get back with the person someday , And he obviously does not give a Damn about anyone but himself . I guess you are probably wondering why I am not mad at the girl as well . options: A: The jealousy is burning me alive , I just ca n't stand my friend having what I ca n't have , depite the fact that I would have probably done it too if it was the other way around . B: I do n't care one way or another about what my friend does . C: I 'm glad my friend is respecting my wishes . D: None of the above choices .\",\n",
       " 'label': 0,\n",
       " 'question': 'Why do I feel the way I feel ?',\n",
       " 'target_text': \"A: The jealousy is burning me alive , I just ca n't stand my friend having what I ca n't have , depite the fact that I would have probably done it too if it was the other way around .\"}"
      ]
     },
     "execution_count": 76,
     "metadata": {},
     "output_type": "execute_result"
    }
   ],
   "source": [
    "print(max_targ_len)\n",
    "max_targ_len_eg"
   ]
  },
  {
   "cell_type": "code",
   "execution_count": null,
   "metadata": {},
   "outputs": [],
   "source": []
  }
 ],
 "metadata": {
  "kernelspec": {
   "display_name": "Python 3",
   "language": "python",
   "name": "python3"
  },
  "language_info": {
   "codemirror_mode": {
    "name": "ipython",
    "version": 3
   },
   "file_extension": ".py",
   "mimetype": "text/x-python",
   "name": "python",
   "nbconvert_exporter": "python",
   "pygments_lexer": "ipython3",
   "version": "3.8.3"
  }
 },
 "nbformat": 4,
 "nbformat_minor": 4
}
